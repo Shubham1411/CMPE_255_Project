{
 "cells": [
  {
   "cell_type": "code",
   "execution_count": 19,
   "metadata": {},
   "outputs": [],
   "source": [
    "import numpy as np\n",
    "import pandas as pd\n",
    "import os\n",
    "from difflib import SequenceMatcher\n",
    "import xlwt\n",
    "from pandas import ExcelWriter\n",
    "from sklearn.metrics.pairwise import cosine_similarity \n",
    "\n",
    "import plotly.graph_objects as go"
   ]
  },
  {
   "cell_type": "markdown",
   "metadata": {},
   "source": [
    "The below commented code is for merging the files. As the files were already merged I chose to comment it. "
   ]
  },
  {
   "cell_type": "code",
   "execution_count": 2,
   "metadata": {},
   "outputs": [],
   "source": [
    "#cwd = os.getcwd()\n",
    "#path = os.walk(\".\")"
   ]
  },
  {
   "cell_type": "code",
   "execution_count": 10,
   "metadata": {},
   "outputs": [],
   "source": [
    "'''\n",
    "shooting = []\n",
    "shooting = pd.DataFrame()\n",
    "\n",
    "for directories in os.listdir(cwd):\n",
    "    #print(directories)\n",
    "    if directories.endswith('.ipynb'):\n",
    "        continue\n",
    "    if directories.endswith('.csv'):\n",
    "        continue\n",
    "        \n",
    "    else:\n",
    "        \n",
    "        for file in os.listdir(directories):\n",
    "           # print(file)\n",
    "            if file.startswith('shooting.xls') :\n",
    "                \n",
    "              #  os.rename(os.path.join(directories,file),os.path.join(directories,'aa_std_stats.xls'))    \n",
    "                data = pd.read_html(os.path.join(directories,file),encoding = 'utf-8')\n",
    "                #print(data[0])\n",
    "                data = pd.DataFrame(data[0])\n",
    "                data.columns = data.columns.droplevel()\n",
    "                data['club'] = directories\n",
    "                #print(data)\n",
    "                shooting = shooting.append(data,ignore_index = True)\n",
    "               # print(\"found\")\n",
    "               \n",
    "'''               "
   ]
  },
  {
   "cell_type": "code",
   "execution_count": 11,
   "metadata": {},
   "outputs": [],
   "source": [
    "#shooting.to_csv('20-21_shooting.csv')"
   ]
  },
  {
   "cell_type": "code",
   "execution_count": null,
   "metadata": {},
   "outputs": [],
   "source": []
  },
  {
   "cell_type": "code",
   "execution_count": 5,
   "metadata": {},
   "outputs": [],
   "source": [
    "shooting = pd.read_csv('19-20_shooting.csv')"
   ]
  },
  {
   "cell_type": "code",
   "execution_count": 7,
   "metadata": {},
   "outputs": [
    {
     "data": {
      "text/plain": [
       "Unnamed: 0      0\n",
       "Player          0\n",
       "Nation          2\n",
       "Pos             2\n",
       "Age             1\n",
       "90s             0\n",
       "Gls             0\n",
       "Sh             12\n",
       "SoT            12\n",
       "SoT%          581\n",
       "Sh/90          12\n",
       "SoT/90         12\n",
       "G/Sh          581\n",
       "G/SoT         944\n",
       "Dist          681\n",
       "FK            175\n",
       "PK              0\n",
       "PKatt           0\n",
       "xG            175\n",
       "npxG          175\n",
       "npxG/Sh       683\n",
       "G-xG          175\n",
       "np:G-xG       175\n",
       "Matches         2\n",
       "club            0\n",
       "dtype: int64"
      ]
     },
     "execution_count": 7,
     "metadata": {},
     "output_type": "execute_result"
    }
   ],
   "source": [
    "shooting.isnull().sum()"
   ]
  },
  {
   "cell_type": "code",
   "execution_count": 10,
   "metadata": {},
   "outputs": [],
   "source": [
    "\n",
    "\n",
    "df_final = shooting.drop(columns=['Matches','club','Nation','Age','Unnamed: 0','SoT%','G/Sh','G/SoT','Dist','npxG/Sh'])\n",
    "\n",
    "\n",
    "df_final.dropna(inplace=True)"
   ]
  },
  {
   "cell_type": "code",
   "execution_count": null,
   "metadata": {},
   "outputs": [],
   "source": []
  },
  {
   "cell_type": "code",
   "execution_count": 12,
   "metadata": {},
   "outputs": [],
   "source": [
    "df_final.columns = ['Player','Position','90s','Goals',\n",
    "                   'Shots','Shots on Target','Total shots per 90',\n",
    "                   'Shot on Target per 90min','Free Kicks','Penalty Kicks',\n",
    "                   'Penalty kicks attempted','Expected Goals','Non penalty expected goals','Goals-Expected goals',\n",
    "                   'Non Penalty goals - Non penalty expected goals']"
   ]
  },
  {
   "cell_type": "code",
   "execution_count": null,
   "metadata": {},
   "outputs": [],
   "source": []
  },
  {
   "cell_type": "code",
   "execution_count": 14,
   "metadata": {},
   "outputs": [
    {
     "data": {
      "text/html": [
       "<div>\n",
       "<style scoped>\n",
       "    .dataframe tbody tr th:only-of-type {\n",
       "        vertical-align: middle;\n",
       "    }\n",
       "\n",
       "    .dataframe tbody tr th {\n",
       "        vertical-align: top;\n",
       "    }\n",
       "\n",
       "    .dataframe thead th {\n",
       "        text-align: right;\n",
       "    }\n",
       "</style>\n",
       "<table border=\"1\" class=\"dataframe\">\n",
       "  <thead>\n",
       "    <tr style=\"text-align: right;\">\n",
       "      <th></th>\n",
       "      <th>90s</th>\n",
       "      <th>Goals</th>\n",
       "      <th>Shots</th>\n",
       "      <th>Shots on Target</th>\n",
       "      <th>Total shots per 90</th>\n",
       "      <th>Shot on Target per 90min</th>\n",
       "      <th>Free Kicks</th>\n",
       "      <th>Penalty Kicks</th>\n",
       "      <th>Penalty kicks attempted</th>\n",
       "      <th>Expected Goals</th>\n",
       "      <th>Non penalty expected goals</th>\n",
       "      <th>Goals-Expected goals</th>\n",
       "      <th>Non Penalty goals - Non penalty expected goals</th>\n",
       "    </tr>\n",
       "  </thead>\n",
       "  <tbody>\n",
       "    <tr>\n",
       "      <th>0</th>\n",
       "      <td>1.504692</td>\n",
       "      <td>-0.522112</td>\n",
       "      <td>-0.754490</td>\n",
       "      <td>-0.653082</td>\n",
       "      <td>-0.526583</td>\n",
       "      <td>-0.228316</td>\n",
       "      <td>-0.291099</td>\n",
       "      <td>-0.228405</td>\n",
       "      <td>-0.244314</td>\n",
       "      <td>-0.564914</td>\n",
       "      <td>-0.600001</td>\n",
       "      <td>0.001651</td>\n",
       "      <td>0.011324</td>\n",
       "    </tr>\n",
       "    <tr>\n",
       "      <th>1</th>\n",
       "      <td>1.280116</td>\n",
       "      <td>1.546631</td>\n",
       "      <td>2.789183</td>\n",
       "      <td>2.127054</td>\n",
       "      <td>0.630795</td>\n",
       "      <td>0.233335</td>\n",
       "      <td>1.076102</td>\n",
       "      <td>1.741900</td>\n",
       "      <td>3.149854</td>\n",
       "      <td>2.986344</td>\n",
       "      <td>2.476626</td>\n",
       "      <td>-2.671190</td>\n",
       "      <td>-1.796283</td>\n",
       "    </tr>\n",
       "    <tr>\n",
       "      <th>2</th>\n",
       "      <td>1.211016</td>\n",
       "      <td>-0.263519</td>\n",
       "      <td>0.164240</td>\n",
       "      <td>0.014151</td>\n",
       "      <td>-0.217659</td>\n",
       "      <td>-0.115718</td>\n",
       "      <td>1.531835</td>\n",
       "      <td>-0.228405</td>\n",
       "      <td>-0.244314</td>\n",
       "      <td>0.037532</td>\n",
       "      <td>0.121677</td>\n",
       "      <td>-0.750085</td>\n",
       "      <td>-0.763364</td>\n",
       "    </tr>\n",
       "    <tr>\n",
       "      <th>3</th>\n",
       "      <td>0.986440</td>\n",
       "      <td>-0.522112</td>\n",
       "      <td>-0.491996</td>\n",
       "      <td>-0.430671</td>\n",
       "      <td>-0.430860</td>\n",
       "      <td>-0.188907</td>\n",
       "      <td>-0.291099</td>\n",
       "      <td>-0.228405</td>\n",
       "      <td>-0.244314</td>\n",
       "      <td>-0.247837</td>\n",
       "      <td>-0.220171</td>\n",
       "      <td>-0.833612</td>\n",
       "      <td>-0.849441</td>\n",
       "    </tr>\n",
       "    <tr>\n",
       "      <th>4</th>\n",
       "      <td>0.891427</td>\n",
       "      <td>-0.263519</td>\n",
       "      <td>-0.229502</td>\n",
       "      <td>-0.208260</td>\n",
       "      <td>-0.326435</td>\n",
       "      <td>-0.143868</td>\n",
       "      <td>-0.291099</td>\n",
       "      <td>-0.228405</td>\n",
       "      <td>-0.244314</td>\n",
       "      <td>-0.342960</td>\n",
       "      <td>-0.334120</td>\n",
       "      <td>0.252230</td>\n",
       "      <td>0.269554</td>\n",
       "    </tr>\n",
       "    <tr>\n",
       "      <th>...</th>\n",
       "      <td>...</td>\n",
       "      <td>...</td>\n",
       "      <td>...</td>\n",
       "      <td>...</td>\n",
       "      <td>...</td>\n",
       "      <td>...</td>\n",
       "      <td>...</td>\n",
       "      <td>...</td>\n",
       "      <td>...</td>\n",
       "      <td>...</td>\n",
       "      <td>...</td>\n",
       "      <td>...</td>\n",
       "      <td>...</td>\n",
       "    </tr>\n",
       "    <tr>\n",
       "      <th>2954</th>\n",
       "      <td>-1.095207</td>\n",
       "      <td>-0.522112</td>\n",
       "      <td>-0.710741</td>\n",
       "      <td>-0.541877</td>\n",
       "      <td>-0.378647</td>\n",
       "      <td>-0.036900</td>\n",
       "      <td>-0.291099</td>\n",
       "      <td>-0.228405</td>\n",
       "      <td>-0.244314</td>\n",
       "      <td>-0.564914</td>\n",
       "      <td>-0.600001</td>\n",
       "      <td>0.001651</td>\n",
       "      <td>0.011324</td>\n",
       "    </tr>\n",
       "    <tr>\n",
       "      <th>2955</th>\n",
       "      <td>-1.121120</td>\n",
       "      <td>-0.522112</td>\n",
       "      <td>-0.754490</td>\n",
       "      <td>-0.653082</td>\n",
       "      <td>-0.526583</td>\n",
       "      <td>-0.228316</td>\n",
       "      <td>-0.291099</td>\n",
       "      <td>-0.228405</td>\n",
       "      <td>-0.244314</td>\n",
       "      <td>-0.564914</td>\n",
       "      <td>-0.600001</td>\n",
       "      <td>0.001651</td>\n",
       "      <td>0.011324</td>\n",
       "    </tr>\n",
       "    <tr>\n",
       "      <th>2956</th>\n",
       "      <td>-1.164307</td>\n",
       "      <td>-0.522112</td>\n",
       "      <td>-0.579494</td>\n",
       "      <td>-0.653082</td>\n",
       "      <td>0.313169</td>\n",
       "      <td>-0.228316</td>\n",
       "      <td>-0.291099</td>\n",
       "      <td>-0.228405</td>\n",
       "      <td>-0.244314</td>\n",
       "      <td>-0.374668</td>\n",
       "      <td>-0.372103</td>\n",
       "      <td>-0.499506</td>\n",
       "      <td>-0.505135</td>\n",
       "    </tr>\n",
       "    <tr>\n",
       "      <th>2957</th>\n",
       "      <td>-1.242045</td>\n",
       "      <td>-0.522112</td>\n",
       "      <td>-0.623243</td>\n",
       "      <td>-0.653082</td>\n",
       "      <td>0.591636</td>\n",
       "      <td>-0.228316</td>\n",
       "      <td>-0.291099</td>\n",
       "      <td>-0.228405</td>\n",
       "      <td>-0.244314</td>\n",
       "      <td>-0.501498</td>\n",
       "      <td>-0.524035</td>\n",
       "      <td>-0.165401</td>\n",
       "      <td>-0.160829</td>\n",
       "    </tr>\n",
       "    <tr>\n",
       "      <th>2958</th>\n",
       "      <td>-1.259320</td>\n",
       "      <td>-0.522112</td>\n",
       "      <td>-0.754490</td>\n",
       "      <td>-0.653082</td>\n",
       "      <td>-0.526583</td>\n",
       "      <td>-0.228316</td>\n",
       "      <td>-0.291099</td>\n",
       "      <td>-0.228405</td>\n",
       "      <td>-0.244314</td>\n",
       "      <td>-0.564914</td>\n",
       "      <td>-0.600001</td>\n",
       "      <td>0.001651</td>\n",
       "      <td>0.011324</td>\n",
       "    </tr>\n",
       "  </tbody>\n",
       "</table>\n",
       "<p>2782 rows × 13 columns</p>\n",
       "</div>"
      ],
      "text/plain": [
       "           90s     Goals     Shots  Shots on Target  Total shots per 90  \\\n",
       "0     1.504692 -0.522112 -0.754490        -0.653082           -0.526583   \n",
       "1     1.280116  1.546631  2.789183         2.127054            0.630795   \n",
       "2     1.211016 -0.263519  0.164240         0.014151           -0.217659   \n",
       "3     0.986440 -0.522112 -0.491996        -0.430671           -0.430860   \n",
       "4     0.891427 -0.263519 -0.229502        -0.208260           -0.326435   \n",
       "...        ...       ...       ...              ...                 ...   \n",
       "2954 -1.095207 -0.522112 -0.710741        -0.541877           -0.378647   \n",
       "2955 -1.121120 -0.522112 -0.754490        -0.653082           -0.526583   \n",
       "2956 -1.164307 -0.522112 -0.579494        -0.653082            0.313169   \n",
       "2957 -1.242045 -0.522112 -0.623243        -0.653082            0.591636   \n",
       "2958 -1.259320 -0.522112 -0.754490        -0.653082           -0.526583   \n",
       "\n",
       "      Shot on Target per 90min  Free Kicks  Penalty Kicks  \\\n",
       "0                    -0.228316   -0.291099      -0.228405   \n",
       "1                     0.233335    1.076102       1.741900   \n",
       "2                    -0.115718    1.531835      -0.228405   \n",
       "3                    -0.188907   -0.291099      -0.228405   \n",
       "4                    -0.143868   -0.291099      -0.228405   \n",
       "...                        ...         ...            ...   \n",
       "2954                 -0.036900   -0.291099      -0.228405   \n",
       "2955                 -0.228316   -0.291099      -0.228405   \n",
       "2956                 -0.228316   -0.291099      -0.228405   \n",
       "2957                 -0.228316   -0.291099      -0.228405   \n",
       "2958                 -0.228316   -0.291099      -0.228405   \n",
       "\n",
       "      Penalty kicks attempted  Expected Goals  Non penalty expected goals  \\\n",
       "0                   -0.244314       -0.564914                   -0.600001   \n",
       "1                    3.149854        2.986344                    2.476626   \n",
       "2                   -0.244314        0.037532                    0.121677   \n",
       "3                   -0.244314       -0.247837                   -0.220171   \n",
       "4                   -0.244314       -0.342960                   -0.334120   \n",
       "...                       ...             ...                         ...   \n",
       "2954                -0.244314       -0.564914                   -0.600001   \n",
       "2955                -0.244314       -0.564914                   -0.600001   \n",
       "2956                -0.244314       -0.374668                   -0.372103   \n",
       "2957                -0.244314       -0.501498                   -0.524035   \n",
       "2958                -0.244314       -0.564914                   -0.600001   \n",
       "\n",
       "      Goals-Expected goals  Non Penalty goals - Non penalty expected goals  \n",
       "0                 0.001651                                        0.011324  \n",
       "1                -2.671190                                       -1.796283  \n",
       "2                -0.750085                                       -0.763364  \n",
       "3                -0.833612                                       -0.849441  \n",
       "4                 0.252230                                        0.269554  \n",
       "...                    ...                                             ...  \n",
       "2954              0.001651                                        0.011324  \n",
       "2955              0.001651                                        0.011324  \n",
       "2956             -0.499506                                       -0.505135  \n",
       "2957             -0.165401                                       -0.160829  \n",
       "2958              0.001651                                        0.011324  \n",
       "\n",
       "[2782 rows x 13 columns]"
      ]
     },
     "metadata": {},
     "output_type": "display_data"
    }
   ],
   "source": [
    "to_be_scaled = df_final[['90s','Goals',\n",
    "                   'Shots','Shots on Target','Total shots per 90',\n",
    "                   'Shot on Target per 90min','Free Kicks','Penalty Kicks',\n",
    "                   'Penalty kicks attempted','Expected Goals','Non penalty expected goals','Goals-Expected goals',\n",
    "                   'Non Penalty goals - Non penalty expected goals']]\n",
    "\n",
    "# copy the data\n",
    "df_z_scaled = to_be_scaled.copy()\n",
    "  \n",
    "# apply normalization techniques\n",
    "for column in df_z_scaled.columns:\n",
    "    df_z_scaled[column] = (df_z_scaled[column] -\n",
    "                           df_z_scaled[column].mean()) / df_z_scaled[column].std()    \n",
    "  \n",
    "# view normalized data   \n",
    "display(df_z_scaled)"
   ]
  },
  {
   "cell_type": "code",
   "execution_count": 15,
   "metadata": {},
   "outputs": [
    {
     "data": {
      "text/html": [
       "<div>\n",
       "<style scoped>\n",
       "    .dataframe tbody tr th:only-of-type {\n",
       "        vertical-align: middle;\n",
       "    }\n",
       "\n",
       "    .dataframe tbody tr th {\n",
       "        vertical-align: top;\n",
       "    }\n",
       "\n",
       "    .dataframe thead th {\n",
       "        text-align: right;\n",
       "    }\n",
       "</style>\n",
       "<table border=\"1\" class=\"dataframe\">\n",
       "  <thead>\n",
       "    <tr style=\"text-align: right;\">\n",
       "      <th></th>\n",
       "      <th>Player</th>\n",
       "      <th>Position</th>\n",
       "      <th>90s</th>\n",
       "      <th>Goals</th>\n",
       "      <th>Shots</th>\n",
       "      <th>Shots on Target</th>\n",
       "      <th>Total shots per 90</th>\n",
       "      <th>Shot on Target per 90min</th>\n",
       "      <th>Free Kicks</th>\n",
       "      <th>Penalty Kicks</th>\n",
       "      <th>Penalty kicks attempted</th>\n",
       "      <th>Expected Goals</th>\n",
       "      <th>Non penalty expected goals</th>\n",
       "      <th>Goals-Expected goals</th>\n",
       "      <th>Non Penalty goals - Non penalty expected goals</th>\n",
       "    </tr>\n",
       "  </thead>\n",
       "  <tbody>\n",
       "    <tr>\n",
       "      <th>0</th>\n",
       "      <td>Fernando Pacheco</td>\n",
       "      <td>GK</td>\n",
       "      <td>1.504692</td>\n",
       "      <td>-0.522112</td>\n",
       "      <td>-0.754490</td>\n",
       "      <td>-0.653082</td>\n",
       "      <td>-0.526583</td>\n",
       "      <td>-0.228316</td>\n",
       "      <td>-0.291099</td>\n",
       "      <td>-0.228405</td>\n",
       "      <td>-0.244314</td>\n",
       "      <td>-0.564914</td>\n",
       "      <td>-0.600001</td>\n",
       "      <td>0.001651</td>\n",
       "      <td>0.011324</td>\n",
       "    </tr>\n",
       "    <tr>\n",
       "      <th>1</th>\n",
       "      <td>Joselu</td>\n",
       "      <td>FW</td>\n",
       "      <td>1.280116</td>\n",
       "      <td>1.546631</td>\n",
       "      <td>2.789183</td>\n",
       "      <td>2.127054</td>\n",
       "      <td>0.630795</td>\n",
       "      <td>0.233335</td>\n",
       "      <td>1.076102</td>\n",
       "      <td>1.741900</td>\n",
       "      <td>3.149854</td>\n",
       "      <td>2.986344</td>\n",
       "      <td>2.476626</td>\n",
       "      <td>-2.671190</td>\n",
       "      <td>-1.796283</td>\n",
       "    </tr>\n",
       "    <tr>\n",
       "      <th>2</th>\n",
       "      <td>Florian Lejeune</td>\n",
       "      <td>DF</td>\n",
       "      <td>1.211016</td>\n",
       "      <td>-0.263519</td>\n",
       "      <td>0.164240</td>\n",
       "      <td>0.014151</td>\n",
       "      <td>-0.217659</td>\n",
       "      <td>-0.115718</td>\n",
       "      <td>1.531835</td>\n",
       "      <td>-0.228405</td>\n",
       "      <td>-0.244314</td>\n",
       "      <td>0.037532</td>\n",
       "      <td>0.121677</td>\n",
       "      <td>-0.750085</td>\n",
       "      <td>-0.763364</td>\n",
       "    </tr>\n",
       "    <tr>\n",
       "      <th>3</th>\n",
       "      <td>Víctor Laguardia</td>\n",
       "      <td>DF</td>\n",
       "      <td>0.986440</td>\n",
       "      <td>-0.522112</td>\n",
       "      <td>-0.491996</td>\n",
       "      <td>-0.430671</td>\n",
       "      <td>-0.430860</td>\n",
       "      <td>-0.188907</td>\n",
       "      <td>-0.291099</td>\n",
       "      <td>-0.228405</td>\n",
       "      <td>-0.244314</td>\n",
       "      <td>-0.247837</td>\n",
       "      <td>-0.220171</td>\n",
       "      <td>-0.833612</td>\n",
       "      <td>-0.849441</td>\n",
       "    </tr>\n",
       "    <tr>\n",
       "      <th>4</th>\n",
       "      <td>Rodrigo Battaglia</td>\n",
       "      <td>MF</td>\n",
       "      <td>0.891427</td>\n",
       "      <td>-0.263519</td>\n",
       "      <td>-0.229502</td>\n",
       "      <td>-0.208260</td>\n",
       "      <td>-0.326435</td>\n",
       "      <td>-0.143868</td>\n",
       "      <td>-0.291099</td>\n",
       "      <td>-0.228405</td>\n",
       "      <td>-0.244314</td>\n",
       "      <td>-0.342960</td>\n",
       "      <td>-0.334120</td>\n",
       "      <td>0.252230</td>\n",
       "      <td>0.269554</td>\n",
       "    </tr>\n",
       "    <tr>\n",
       "      <th>...</th>\n",
       "      <td>...</td>\n",
       "      <td>...</td>\n",
       "      <td>...</td>\n",
       "      <td>...</td>\n",
       "      <td>...</td>\n",
       "      <td>...</td>\n",
       "      <td>...</td>\n",
       "      <td>...</td>\n",
       "      <td>...</td>\n",
       "      <td>...</td>\n",
       "      <td>...</td>\n",
       "      <td>...</td>\n",
       "      <td>...</td>\n",
       "      <td>...</td>\n",
       "      <td>...</td>\n",
       "    </tr>\n",
       "    <tr>\n",
       "      <th>2954</th>\n",
       "      <td>Rúben Vinagre</td>\n",
       "      <td>DF</td>\n",
       "      <td>-1.095207</td>\n",
       "      <td>-0.522112</td>\n",
       "      <td>-0.710741</td>\n",
       "      <td>-0.541877</td>\n",
       "      <td>-0.378647</td>\n",
       "      <td>-0.036900</td>\n",
       "      <td>-0.291099</td>\n",
       "      <td>-0.228405</td>\n",
       "      <td>-0.244314</td>\n",
       "      <td>-0.564914</td>\n",
       "      <td>-0.600001</td>\n",
       "      <td>0.001651</td>\n",
       "      <td>0.011324</td>\n",
       "    </tr>\n",
       "    <tr>\n",
       "      <th>2955</th>\n",
       "      <td>Morgan Gibbs-White</td>\n",
       "      <td>FW,MF</td>\n",
       "      <td>-1.121120</td>\n",
       "      <td>-0.522112</td>\n",
       "      <td>-0.754490</td>\n",
       "      <td>-0.653082</td>\n",
       "      <td>-0.526583</td>\n",
       "      <td>-0.228316</td>\n",
       "      <td>-0.291099</td>\n",
       "      <td>-0.228405</td>\n",
       "      <td>-0.244314</td>\n",
       "      <td>-0.564914</td>\n",
       "      <td>-0.600001</td>\n",
       "      <td>0.001651</td>\n",
       "      <td>0.011324</td>\n",
       "    </tr>\n",
       "    <tr>\n",
       "      <th>2956</th>\n",
       "      <td>Owen Otasowie</td>\n",
       "      <td>MF,FW</td>\n",
       "      <td>-1.164307</td>\n",
       "      <td>-0.522112</td>\n",
       "      <td>-0.579494</td>\n",
       "      <td>-0.653082</td>\n",
       "      <td>0.313169</td>\n",
       "      <td>-0.228316</td>\n",
       "      <td>-0.291099</td>\n",
       "      <td>-0.228405</td>\n",
       "      <td>-0.244314</td>\n",
       "      <td>-0.374668</td>\n",
       "      <td>-0.372103</td>\n",
       "      <td>-0.499506</td>\n",
       "      <td>-0.505135</td>\n",
       "    </tr>\n",
       "    <tr>\n",
       "      <th>2957</th>\n",
       "      <td>Patrick Cutrone</td>\n",
       "      <td>FW,MF</td>\n",
       "      <td>-1.242045</td>\n",
       "      <td>-0.522112</td>\n",
       "      <td>-0.623243</td>\n",
       "      <td>-0.653082</td>\n",
       "      <td>0.591636</td>\n",
       "      <td>-0.228316</td>\n",
       "      <td>-0.291099</td>\n",
       "      <td>-0.228405</td>\n",
       "      <td>-0.244314</td>\n",
       "      <td>-0.501498</td>\n",
       "      <td>-0.524035</td>\n",
       "      <td>-0.165401</td>\n",
       "      <td>-0.160829</td>\n",
       "    </tr>\n",
       "    <tr>\n",
       "      <th>2958</th>\n",
       "      <td>Oskar Buur</td>\n",
       "      <td>DF</td>\n",
       "      <td>-1.259320</td>\n",
       "      <td>-0.522112</td>\n",
       "      <td>-0.754490</td>\n",
       "      <td>-0.653082</td>\n",
       "      <td>-0.526583</td>\n",
       "      <td>-0.228316</td>\n",
       "      <td>-0.291099</td>\n",
       "      <td>-0.228405</td>\n",
       "      <td>-0.244314</td>\n",
       "      <td>-0.564914</td>\n",
       "      <td>-0.600001</td>\n",
       "      <td>0.001651</td>\n",
       "      <td>0.011324</td>\n",
       "    </tr>\n",
       "  </tbody>\n",
       "</table>\n",
       "<p>2782 rows × 15 columns</p>\n",
       "</div>"
      ],
      "text/plain": [
       "                  Player Position       90s     Goals     Shots  \\\n",
       "0       Fernando Pacheco       GK  1.504692 -0.522112 -0.754490   \n",
       "1                 Joselu       FW  1.280116  1.546631  2.789183   \n",
       "2        Florian Lejeune       DF  1.211016 -0.263519  0.164240   \n",
       "3       Víctor Laguardia       DF  0.986440 -0.522112 -0.491996   \n",
       "4      Rodrigo Battaglia       MF  0.891427 -0.263519 -0.229502   \n",
       "...                  ...      ...       ...       ...       ...   \n",
       "2954       Rúben Vinagre       DF -1.095207 -0.522112 -0.710741   \n",
       "2955  Morgan Gibbs-White    FW,MF -1.121120 -0.522112 -0.754490   \n",
       "2956       Owen Otasowie    MF,FW -1.164307 -0.522112 -0.579494   \n",
       "2957     Patrick Cutrone    FW,MF -1.242045 -0.522112 -0.623243   \n",
       "2958          Oskar Buur       DF -1.259320 -0.522112 -0.754490   \n",
       "\n",
       "      Shots on Target  Total shots per 90  Shot on Target per 90min  \\\n",
       "0           -0.653082           -0.526583                 -0.228316   \n",
       "1            2.127054            0.630795                  0.233335   \n",
       "2            0.014151           -0.217659                 -0.115718   \n",
       "3           -0.430671           -0.430860                 -0.188907   \n",
       "4           -0.208260           -0.326435                 -0.143868   \n",
       "...               ...                 ...                       ...   \n",
       "2954        -0.541877           -0.378647                 -0.036900   \n",
       "2955        -0.653082           -0.526583                 -0.228316   \n",
       "2956        -0.653082            0.313169                 -0.228316   \n",
       "2957        -0.653082            0.591636                 -0.228316   \n",
       "2958        -0.653082           -0.526583                 -0.228316   \n",
       "\n",
       "      Free Kicks  Penalty Kicks  Penalty kicks attempted  Expected Goals  \\\n",
       "0      -0.291099      -0.228405                -0.244314       -0.564914   \n",
       "1       1.076102       1.741900                 3.149854        2.986344   \n",
       "2       1.531835      -0.228405                -0.244314        0.037532   \n",
       "3      -0.291099      -0.228405                -0.244314       -0.247837   \n",
       "4      -0.291099      -0.228405                -0.244314       -0.342960   \n",
       "...          ...            ...                      ...             ...   \n",
       "2954   -0.291099      -0.228405                -0.244314       -0.564914   \n",
       "2955   -0.291099      -0.228405                -0.244314       -0.564914   \n",
       "2956   -0.291099      -0.228405                -0.244314       -0.374668   \n",
       "2957   -0.291099      -0.228405                -0.244314       -0.501498   \n",
       "2958   -0.291099      -0.228405                -0.244314       -0.564914   \n",
       "\n",
       "      Non penalty expected goals  Goals-Expected goals  \\\n",
       "0                      -0.600001              0.001651   \n",
       "1                       2.476626             -2.671190   \n",
       "2                       0.121677             -0.750085   \n",
       "3                      -0.220171             -0.833612   \n",
       "4                      -0.334120              0.252230   \n",
       "...                          ...                   ...   \n",
       "2954                   -0.600001              0.001651   \n",
       "2955                   -0.600001              0.001651   \n",
       "2956                   -0.372103             -0.499506   \n",
       "2957                   -0.524035             -0.165401   \n",
       "2958                   -0.600001              0.001651   \n",
       "\n",
       "      Non Penalty goals - Non penalty expected goals  \n",
       "0                                           0.011324  \n",
       "1                                          -1.796283  \n",
       "2                                          -0.763364  \n",
       "3                                          -0.849441  \n",
       "4                                           0.269554  \n",
       "...                                              ...  \n",
       "2954                                        0.011324  \n",
       "2955                                        0.011324  \n",
       "2956                                       -0.505135  \n",
       "2957                                       -0.160829  \n",
       "2958                                        0.011324  \n",
       "\n",
       "[2782 rows x 15 columns]"
      ]
     },
     "execution_count": 15,
     "metadata": {},
     "output_type": "execute_result"
    }
   ],
   "source": [
    "\n",
    "df_z_scaled.insert(0, \"Player\", df_final['Player'])\n",
    "df_z_scaled.insert(1, \"Position\", df_final['Position'])\n",
    "\n",
    "df_final = df_z_scaled\n",
    "\n",
    "df_final"
   ]
  },
  {
   "cell_type": "code",
   "execution_count": null,
   "metadata": {},
   "outputs": [],
   "source": []
  },
  {
   "cell_type": "code",
   "execution_count": 16,
   "metadata": {},
   "outputs": [],
   "source": [
    "def get_similar_players(player_name):\n",
    "    \n",
    "    player_index = [list(df_final['Player']).index(x) for x in list(df_final['Player']) if player_name in x]\n",
    "    player_index = int(player_index[0])\n",
    "    print(player_index)\n",
    "    df1 = df_final.iloc[:,5:]\n",
    "    cos = cosine_similarity(df1,df1)\n",
    "    player_cos = sorted(list(cos[player_index]))[-7:-1]\n",
    "    indexes = [list(cos[player_index]).index(x) for x in player_cos]\n",
    "    indexes.append(player_index)\n",
    "    return player_cos, df_final.iloc[indexes]"
   ]
  },
  {
   "cell_type": "code",
   "execution_count": 23,
   "metadata": {},
   "outputs": [
    {
     "name": "stdout",
     "output_type": "stream",
     "text": [
      "1111\n"
     ]
    }
   ],
   "source": [
    "value = get_similar_players('Romelu Lukaku')"
   ]
  },
  {
   "cell_type": "code",
   "execution_count": 24,
   "metadata": {},
   "outputs": [
    {
     "data": {
      "application/vnd.plotly.v1+json": {
       "config": {
        "plotlyServerURL": "https://plot.ly"
       },
       "data": [
        {
         "fill": "toself",
         "name": "Alfredo Donnarumma",
         "r": [
          "Alfredo Donnarumma",
          "FW",
          0.34726200328084117,
          1.546630689473847,
          0.9079735979174849,
          0.7925886923131226,
          0.31751982532228296,
          0.1432565271113994,
          -0.29109948354619947,
          1.74189970145954,
          1.4527697125691479,
          1.5277914834867667,
          1.3371346681724896,
          0.335756460422722,
          -0.07475228801263
         ],
         "theta": [
          "Position",
          "90s",
          "Goals",
          "Shots",
          "Shots on Target",
          "Total shots per 90",
          "Shot on Target per 90min",
          "Free Kicks",
          "Penalty Kicks",
          "Penalty kicks attempted",
          "Expected Goals",
          "Non penalty expected goals",
          "Goals-Expected goals",
          "Non Penalty goals - Non penalty expected goals"
         ],
         "type": "scatterpolar"
        },
        {
         "fill": "toself",
         "name": "Sehrou Guirassy",
         "r": [
          "Sehrou Guirassy",
          "FW",
          0.45955001825357045,
          2.322409265971757,
          1.520460273792822,
          2.0158486863703238,
          0.552476175589333,
          0.41912096082762723,
          0.6203678920593456,
          1.74189970145954,
          1.4527697125691479,
          2.098529257007124,
          2.020829689854053,
          1.3380719101904186,
          0.9581659168771214
         ],
         "theta": [
          "Position",
          "90s",
          "Goals",
          "Shots",
          "Shots on Target",
          "Total shots per 90",
          "Shot on Target per 90min",
          "Free Kicks",
          "Penalty Kicks",
          "Penalty kicks attempted",
          "Expected Goals",
          "Non penalty expected goals",
          "Goals-Expected goals",
          "Non Penalty goals - Non penalty expected goals"
         ],
         "type": "scatterpolar"
        },
        {
         "fill": "toself",
         "name": "Nicolas Pépé",
         "r": [
          "Nicolas Pépé",
          "FW,MF",
          1.1246405684766607,
          2.322409265971757,
          2.701684577266686,
          2.238259594380724,
          0.6743053942463219,
          0.28400368717069935,
          0.16463420425657313,
          1.74189970145954,
          1.4527697125691479,
          2.4790211060206957,
          2.476626370975095,
          1.1710193352291356,
          0.7860128827288295
         ],
         "theta": [
          "Position",
          "90s",
          "Goals",
          "Shots",
          "Shots on Target",
          "Total shots per 90",
          "Shot on Target per 90min",
          "Free Kicks",
          "Penalty Kicks",
          "Penalty kicks attempted",
          "Expected Goals",
          "Non penalty expected goals",
          "Goals-Expected goals",
          "Non Penalty goals - Non penalty expected goals"
         ],
         "type": "scatterpolar"
        },
        {
         "fill": "toself",
         "name": "Kylian Mbappé",
         "r": [
          "Kylian Mbappé",
          "MF",
          1.8933815940591934,
          9.045823595620313,
          4.6266427014463165,
          5.908039576552326,
          0.9005596574664443,
          0.6555761897272512,
          0.6203678920593456,
          8.637966948099727,
          7.392563410358688,
          7.932737608548554,
          7.262491522746038,
          5.180281134299922,
          3.7126144632497913
         ],
         "theta": [
          "Position",
          "90s",
          "Goals",
          "Shots",
          "Shots on Target",
          "Total shots per 90",
          "Shot on Target per 90min",
          "Free Kicks",
          "Penalty Kicks",
          "Penalty kicks attempted",
          "Expected Goals",
          "Non penalty expected goals",
          "Goals-Expected goals",
          "Non Penalty goals - Non penalty expected goals"
         ],
         "type": "scatterpolar"
        },
        {
         "fill": "toself",
         "name": "André Silva",
         "r": [
          "André Silva",
          "FW",
          0.9605273158242098,
          5.684116430796034,
          3.2704222048652136,
          4.573574128489925,
          0.9745273973653303,
          0.7625440313723192,
          0.6203678920593456,
          5.682509556682504,
          4.846937539877457,
          5.586371206298196,
          5.021491173900915,
          3.0085976598032462,
          1.905007604692727
         ],
         "theta": [
          "Position",
          "90s",
          "Goals",
          "Shots",
          "Shots on Target",
          "Total shots per 90",
          "Shot on Target per 90min",
          "Free Kicks",
          "Penalty Kicks",
          "Penalty kicks attempted",
          "Expected Goals",
          "Non penalty expected goals",
          "Goals-Expected goals",
          "Non Penalty goals - Non penalty expected goals"
         ],
         "type": "scatterpolar"
        },
        {
         "fill": "toself",
         "name": "Mohamed Salah",
         "r": [
          "Mohamed Salah",
          "FW",
          2.2561582578172428,
          6.977080724959217,
          4.976635087660795,
          5.796834122547126,
          0.8396450481379498,
          0.5542382344845552,
          0.16463420425657313,
          6.667662020488245,
          5.695479496704534,
          6.505893174747661,
          5.895101479382912,
          3.0921239472838877,
          1.646778053470289
         ],
         "theta": [
          "Position",
          "90s",
          "Goals",
          "Shots",
          "Shots on Target",
          "Total shots per 90",
          "Shot on Target per 90min",
          "Free Kicks",
          "Penalty Kicks",
          "Penalty kicks attempted",
          "Expected Goals",
          "Non penalty expected goals",
          "Goals-Expected goals",
          "Non Penalty goals - Non penalty expected goals"
         ],
         "type": "scatterpolar"
        },
        {
         "fill": "toself",
         "name": "Romelu Lukaku",
         "r": [
          "Romelu Lukaku",
          "FW",
          2.670760159255013,
          8.270045019122401,
          4.8453879428303654,
          6.019245030557526,
          0.6743053942463219,
          0.49793937046083525,
          0.16463420425657313,
          7.6528144842939865,
          6.544021453531611,
          8.18639884122427,
          7.566355976826733,
          3.676807959648378,
          2.1632371559151644
         ],
         "theta": [
          "Position",
          "90s",
          "Goals",
          "Shots",
          "Shots on Target",
          "Total shots per 90",
          "Shot on Target per 90min",
          "Free Kicks",
          "Penalty Kicks",
          "Penalty kicks attempted",
          "Expected Goals",
          "Non penalty expected goals",
          "Goals-Expected goals",
          "Non Penalty goals - Non penalty expected goals"
         ],
         "type": "scatterpolar"
        }
       ],
       "layout": {
        "showlegend": true,
        "template": {
         "data": {
          "bar": [
           {
            "error_x": {
             "color": "#2a3f5f"
            },
            "error_y": {
             "color": "#2a3f5f"
            },
            "marker": {
             "line": {
              "color": "#E5ECF6",
              "width": 0.5
             }
            },
            "type": "bar"
           }
          ],
          "barpolar": [
           {
            "marker": {
             "line": {
              "color": "#E5ECF6",
              "width": 0.5
             }
            },
            "type": "barpolar"
           }
          ],
          "carpet": [
           {
            "aaxis": {
             "endlinecolor": "#2a3f5f",
             "gridcolor": "white",
             "linecolor": "white",
             "minorgridcolor": "white",
             "startlinecolor": "#2a3f5f"
            },
            "baxis": {
             "endlinecolor": "#2a3f5f",
             "gridcolor": "white",
             "linecolor": "white",
             "minorgridcolor": "white",
             "startlinecolor": "#2a3f5f"
            },
            "type": "carpet"
           }
          ],
          "choropleth": [
           {
            "colorbar": {
             "outlinewidth": 0,
             "ticks": ""
            },
            "type": "choropleth"
           }
          ],
          "contour": [
           {
            "colorbar": {
             "outlinewidth": 0,
             "ticks": ""
            },
            "colorscale": [
             [
              0,
              "#0d0887"
             ],
             [
              0.1111111111111111,
              "#46039f"
             ],
             [
              0.2222222222222222,
              "#7201a8"
             ],
             [
              0.3333333333333333,
              "#9c179e"
             ],
             [
              0.4444444444444444,
              "#bd3786"
             ],
             [
              0.5555555555555556,
              "#d8576b"
             ],
             [
              0.6666666666666666,
              "#ed7953"
             ],
             [
              0.7777777777777778,
              "#fb9f3a"
             ],
             [
              0.8888888888888888,
              "#fdca26"
             ],
             [
              1,
              "#f0f921"
             ]
            ],
            "type": "contour"
           }
          ],
          "contourcarpet": [
           {
            "colorbar": {
             "outlinewidth": 0,
             "ticks": ""
            },
            "type": "contourcarpet"
           }
          ],
          "heatmap": [
           {
            "colorbar": {
             "outlinewidth": 0,
             "ticks": ""
            },
            "colorscale": [
             [
              0,
              "#0d0887"
             ],
             [
              0.1111111111111111,
              "#46039f"
             ],
             [
              0.2222222222222222,
              "#7201a8"
             ],
             [
              0.3333333333333333,
              "#9c179e"
             ],
             [
              0.4444444444444444,
              "#bd3786"
             ],
             [
              0.5555555555555556,
              "#d8576b"
             ],
             [
              0.6666666666666666,
              "#ed7953"
             ],
             [
              0.7777777777777778,
              "#fb9f3a"
             ],
             [
              0.8888888888888888,
              "#fdca26"
             ],
             [
              1,
              "#f0f921"
             ]
            ],
            "type": "heatmap"
           }
          ],
          "heatmapgl": [
           {
            "colorbar": {
             "outlinewidth": 0,
             "ticks": ""
            },
            "colorscale": [
             [
              0,
              "#0d0887"
             ],
             [
              0.1111111111111111,
              "#46039f"
             ],
             [
              0.2222222222222222,
              "#7201a8"
             ],
             [
              0.3333333333333333,
              "#9c179e"
             ],
             [
              0.4444444444444444,
              "#bd3786"
             ],
             [
              0.5555555555555556,
              "#d8576b"
             ],
             [
              0.6666666666666666,
              "#ed7953"
             ],
             [
              0.7777777777777778,
              "#fb9f3a"
             ],
             [
              0.8888888888888888,
              "#fdca26"
             ],
             [
              1,
              "#f0f921"
             ]
            ],
            "type": "heatmapgl"
           }
          ],
          "histogram": [
           {
            "marker": {
             "colorbar": {
              "outlinewidth": 0,
              "ticks": ""
             }
            },
            "type": "histogram"
           }
          ],
          "histogram2d": [
           {
            "colorbar": {
             "outlinewidth": 0,
             "ticks": ""
            },
            "colorscale": [
             [
              0,
              "#0d0887"
             ],
             [
              0.1111111111111111,
              "#46039f"
             ],
             [
              0.2222222222222222,
              "#7201a8"
             ],
             [
              0.3333333333333333,
              "#9c179e"
             ],
             [
              0.4444444444444444,
              "#bd3786"
             ],
             [
              0.5555555555555556,
              "#d8576b"
             ],
             [
              0.6666666666666666,
              "#ed7953"
             ],
             [
              0.7777777777777778,
              "#fb9f3a"
             ],
             [
              0.8888888888888888,
              "#fdca26"
             ],
             [
              1,
              "#f0f921"
             ]
            ],
            "type": "histogram2d"
           }
          ],
          "histogram2dcontour": [
           {
            "colorbar": {
             "outlinewidth": 0,
             "ticks": ""
            },
            "colorscale": [
             [
              0,
              "#0d0887"
             ],
             [
              0.1111111111111111,
              "#46039f"
             ],
             [
              0.2222222222222222,
              "#7201a8"
             ],
             [
              0.3333333333333333,
              "#9c179e"
             ],
             [
              0.4444444444444444,
              "#bd3786"
             ],
             [
              0.5555555555555556,
              "#d8576b"
             ],
             [
              0.6666666666666666,
              "#ed7953"
             ],
             [
              0.7777777777777778,
              "#fb9f3a"
             ],
             [
              0.8888888888888888,
              "#fdca26"
             ],
             [
              1,
              "#f0f921"
             ]
            ],
            "type": "histogram2dcontour"
           }
          ],
          "mesh3d": [
           {
            "colorbar": {
             "outlinewidth": 0,
             "ticks": ""
            },
            "type": "mesh3d"
           }
          ],
          "parcoords": [
           {
            "line": {
             "colorbar": {
              "outlinewidth": 0,
              "ticks": ""
             }
            },
            "type": "parcoords"
           }
          ],
          "pie": [
           {
            "automargin": true,
            "type": "pie"
           }
          ],
          "scatter": [
           {
            "marker": {
             "colorbar": {
              "outlinewidth": 0,
              "ticks": ""
             }
            },
            "type": "scatter"
           }
          ],
          "scatter3d": [
           {
            "line": {
             "colorbar": {
              "outlinewidth": 0,
              "ticks": ""
             }
            },
            "marker": {
             "colorbar": {
              "outlinewidth": 0,
              "ticks": ""
             }
            },
            "type": "scatter3d"
           }
          ],
          "scattercarpet": [
           {
            "marker": {
             "colorbar": {
              "outlinewidth": 0,
              "ticks": ""
             }
            },
            "type": "scattercarpet"
           }
          ],
          "scattergeo": [
           {
            "marker": {
             "colorbar": {
              "outlinewidth": 0,
              "ticks": ""
             }
            },
            "type": "scattergeo"
           }
          ],
          "scattergl": [
           {
            "marker": {
             "colorbar": {
              "outlinewidth": 0,
              "ticks": ""
             }
            },
            "type": "scattergl"
           }
          ],
          "scattermapbox": [
           {
            "marker": {
             "colorbar": {
              "outlinewidth": 0,
              "ticks": ""
             }
            },
            "type": "scattermapbox"
           }
          ],
          "scatterpolar": [
           {
            "marker": {
             "colorbar": {
              "outlinewidth": 0,
              "ticks": ""
             }
            },
            "type": "scatterpolar"
           }
          ],
          "scatterpolargl": [
           {
            "marker": {
             "colorbar": {
              "outlinewidth": 0,
              "ticks": ""
             }
            },
            "type": "scatterpolargl"
           }
          ],
          "scatterternary": [
           {
            "marker": {
             "colorbar": {
              "outlinewidth": 0,
              "ticks": ""
             }
            },
            "type": "scatterternary"
           }
          ],
          "surface": [
           {
            "colorbar": {
             "outlinewidth": 0,
             "ticks": ""
            },
            "colorscale": [
             [
              0,
              "#0d0887"
             ],
             [
              0.1111111111111111,
              "#46039f"
             ],
             [
              0.2222222222222222,
              "#7201a8"
             ],
             [
              0.3333333333333333,
              "#9c179e"
             ],
             [
              0.4444444444444444,
              "#bd3786"
             ],
             [
              0.5555555555555556,
              "#d8576b"
             ],
             [
              0.6666666666666666,
              "#ed7953"
             ],
             [
              0.7777777777777778,
              "#fb9f3a"
             ],
             [
              0.8888888888888888,
              "#fdca26"
             ],
             [
              1,
              "#f0f921"
             ]
            ],
            "type": "surface"
           }
          ],
          "table": [
           {
            "cells": {
             "fill": {
              "color": "#EBF0F8"
             },
             "line": {
              "color": "white"
             }
            },
            "header": {
             "fill": {
              "color": "#C8D4E3"
             },
             "line": {
              "color": "white"
             }
            },
            "type": "table"
           }
          ]
         },
         "layout": {
          "annotationdefaults": {
           "arrowcolor": "#2a3f5f",
           "arrowhead": 0,
           "arrowwidth": 1
          },
          "autotypenumbers": "strict",
          "coloraxis": {
           "colorbar": {
            "outlinewidth": 0,
            "ticks": ""
           }
          },
          "colorscale": {
           "diverging": [
            [
             0,
             "#8e0152"
            ],
            [
             0.1,
             "#c51b7d"
            ],
            [
             0.2,
             "#de77ae"
            ],
            [
             0.3,
             "#f1b6da"
            ],
            [
             0.4,
             "#fde0ef"
            ],
            [
             0.5,
             "#f7f7f7"
            ],
            [
             0.6,
             "#e6f5d0"
            ],
            [
             0.7,
             "#b8e186"
            ],
            [
             0.8,
             "#7fbc41"
            ],
            [
             0.9,
             "#4d9221"
            ],
            [
             1,
             "#276419"
            ]
           ],
           "sequential": [
            [
             0,
             "#0d0887"
            ],
            [
             0.1111111111111111,
             "#46039f"
            ],
            [
             0.2222222222222222,
             "#7201a8"
            ],
            [
             0.3333333333333333,
             "#9c179e"
            ],
            [
             0.4444444444444444,
             "#bd3786"
            ],
            [
             0.5555555555555556,
             "#d8576b"
            ],
            [
             0.6666666666666666,
             "#ed7953"
            ],
            [
             0.7777777777777778,
             "#fb9f3a"
            ],
            [
             0.8888888888888888,
             "#fdca26"
            ],
            [
             1,
             "#f0f921"
            ]
           ],
           "sequentialminus": [
            [
             0,
             "#0d0887"
            ],
            [
             0.1111111111111111,
             "#46039f"
            ],
            [
             0.2222222222222222,
             "#7201a8"
            ],
            [
             0.3333333333333333,
             "#9c179e"
            ],
            [
             0.4444444444444444,
             "#bd3786"
            ],
            [
             0.5555555555555556,
             "#d8576b"
            ],
            [
             0.6666666666666666,
             "#ed7953"
            ],
            [
             0.7777777777777778,
             "#fb9f3a"
            ],
            [
             0.8888888888888888,
             "#fdca26"
            ],
            [
             1,
             "#f0f921"
            ]
           ]
          },
          "colorway": [
           "#636efa",
           "#EF553B",
           "#00cc96",
           "#ab63fa",
           "#FFA15A",
           "#19d3f3",
           "#FF6692",
           "#B6E880",
           "#FF97FF",
           "#FECB52"
          ],
          "font": {
           "color": "#2a3f5f"
          },
          "geo": {
           "bgcolor": "white",
           "lakecolor": "white",
           "landcolor": "#E5ECF6",
           "showlakes": true,
           "showland": true,
           "subunitcolor": "white"
          },
          "hoverlabel": {
           "align": "left"
          },
          "hovermode": "closest",
          "mapbox": {
           "style": "light"
          },
          "paper_bgcolor": "white",
          "plot_bgcolor": "#E5ECF6",
          "polar": {
           "angularaxis": {
            "gridcolor": "white",
            "linecolor": "white",
            "ticks": ""
           },
           "bgcolor": "#E5ECF6",
           "radialaxis": {
            "gridcolor": "white",
            "linecolor": "white",
            "ticks": ""
           }
          },
          "scene": {
           "xaxis": {
            "backgroundcolor": "#E5ECF6",
            "gridcolor": "white",
            "gridwidth": 2,
            "linecolor": "white",
            "showbackground": true,
            "ticks": "",
            "zerolinecolor": "white"
           },
           "yaxis": {
            "backgroundcolor": "#E5ECF6",
            "gridcolor": "white",
            "gridwidth": 2,
            "linecolor": "white",
            "showbackground": true,
            "ticks": "",
            "zerolinecolor": "white"
           },
           "zaxis": {
            "backgroundcolor": "#E5ECF6",
            "gridcolor": "white",
            "gridwidth": 2,
            "linecolor": "white",
            "showbackground": true,
            "ticks": "",
            "zerolinecolor": "white"
           }
          },
          "shapedefaults": {
           "line": {
            "color": "#2a3f5f"
           }
          },
          "ternary": {
           "aaxis": {
            "gridcolor": "white",
            "linecolor": "white",
            "ticks": ""
           },
           "baxis": {
            "gridcolor": "white",
            "linecolor": "white",
            "ticks": ""
           },
           "bgcolor": "#E5ECF6",
           "caxis": {
            "gridcolor": "white",
            "linecolor": "white",
            "ticks": ""
           }
          },
          "title": {
           "x": 0.05
          },
          "xaxis": {
           "automargin": true,
           "gridcolor": "white",
           "linecolor": "white",
           "ticks": "",
           "title": {
            "standoff": 15
           },
           "zerolinecolor": "white",
           "zerolinewidth": 2
          },
          "yaxis": {
           "automargin": true,
           "gridcolor": "white",
           "linecolor": "white",
           "ticks": "",
           "title": {
            "standoff": 15
           },
           "zerolinecolor": "white",
           "zerolinewidth": 2
          }
         }
        }
       }
      },
      "text/html": [
       "<div>                            <div id=\"0fda371b-831d-4670-8689-54eb372819e4\" class=\"plotly-graph-div\" style=\"height:525px; width:100%;\"></div>            <script type=\"text/javascript\">                require([\"plotly\"], function(Plotly) {                    window.PLOTLYENV=window.PLOTLYENV || {};                                    if (document.getElementById(\"0fda371b-831d-4670-8689-54eb372819e4\")) {                    Plotly.newPlot(                        \"0fda371b-831d-4670-8689-54eb372819e4\",                        [{\"fill\": \"toself\", \"name\": \"Alfredo Donnarumma\", \"r\": [\"Alfredo Donnarumma\", \"FW\", 0.34726200328084117, 1.546630689473847, 0.9079735979174849, 0.7925886923131226, 0.31751982532228296, 0.1432565271113994, -0.29109948354619947, 1.74189970145954, 1.4527697125691479, 1.5277914834867667, 1.3371346681724896, 0.335756460422722, -0.07475228801263], \"theta\": [\"Position\", \"90s\", \"Goals\", \"Shots\", \"Shots on Target\", \"Total shots per 90\", \"Shot on Target per 90min\", \"Free Kicks\", \"Penalty Kicks\", \"Penalty kicks attempted\", \"Expected Goals\", \"Non penalty expected goals\", \"Goals-Expected goals\", \"Non Penalty goals - Non penalty expected goals\"], \"type\": \"scatterpolar\"}, {\"fill\": \"toself\", \"name\": \"Sehrou Guirassy\", \"r\": [\"Sehrou Guirassy\", \"FW\", 0.45955001825357045, 2.322409265971757, 1.520460273792822, 2.0158486863703238, 0.552476175589333, 0.41912096082762723, 0.6203678920593456, 1.74189970145954, 1.4527697125691479, 2.098529257007124, 2.020829689854053, 1.3380719101904186, 0.9581659168771214], \"theta\": [\"Position\", \"90s\", \"Goals\", \"Shots\", \"Shots on Target\", \"Total shots per 90\", \"Shot on Target per 90min\", \"Free Kicks\", \"Penalty Kicks\", \"Penalty kicks attempted\", \"Expected Goals\", \"Non penalty expected goals\", \"Goals-Expected goals\", \"Non Penalty goals - Non penalty expected goals\"], \"type\": \"scatterpolar\"}, {\"fill\": \"toself\", \"name\": \"Nicolas P\\u00e9p\\u00e9\", \"r\": [\"Nicolas P\\u00e9p\\u00e9\", \"FW,MF\", 1.1246405684766607, 2.322409265971757, 2.701684577266686, 2.238259594380724, 0.6743053942463219, 0.28400368717069935, 0.16463420425657313, 1.74189970145954, 1.4527697125691479, 2.4790211060206957, 2.476626370975095, 1.1710193352291356, 0.7860128827288295], \"theta\": [\"Position\", \"90s\", \"Goals\", \"Shots\", \"Shots on Target\", \"Total shots per 90\", \"Shot on Target per 90min\", \"Free Kicks\", \"Penalty Kicks\", \"Penalty kicks attempted\", \"Expected Goals\", \"Non penalty expected goals\", \"Goals-Expected goals\", \"Non Penalty goals - Non penalty expected goals\"], \"type\": \"scatterpolar\"}, {\"fill\": \"toself\", \"name\": \"Kylian Mbapp\\u00e9\", \"r\": [\"Kylian Mbapp\\u00e9\", \"MF\", 1.8933815940591934, 9.045823595620313, 4.6266427014463165, 5.908039576552326, 0.9005596574664443, 0.6555761897272512, 0.6203678920593456, 8.637966948099727, 7.392563410358688, 7.932737608548554, 7.262491522746038, 5.180281134299922, 3.7126144632497913], \"theta\": [\"Position\", \"90s\", \"Goals\", \"Shots\", \"Shots on Target\", \"Total shots per 90\", \"Shot on Target per 90min\", \"Free Kicks\", \"Penalty Kicks\", \"Penalty kicks attempted\", \"Expected Goals\", \"Non penalty expected goals\", \"Goals-Expected goals\", \"Non Penalty goals - Non penalty expected goals\"], \"type\": \"scatterpolar\"}, {\"fill\": \"toself\", \"name\": \"Andr\\u00e9 Silva\", \"r\": [\"Andr\\u00e9 Silva\", \"FW\", 0.9605273158242098, 5.684116430796034, 3.2704222048652136, 4.573574128489925, 0.9745273973653303, 0.7625440313723192, 0.6203678920593456, 5.682509556682504, 4.846937539877457, 5.586371206298196, 5.021491173900915, 3.0085976598032462, 1.905007604692727], \"theta\": [\"Position\", \"90s\", \"Goals\", \"Shots\", \"Shots on Target\", \"Total shots per 90\", \"Shot on Target per 90min\", \"Free Kicks\", \"Penalty Kicks\", \"Penalty kicks attempted\", \"Expected Goals\", \"Non penalty expected goals\", \"Goals-Expected goals\", \"Non Penalty goals - Non penalty expected goals\"], \"type\": \"scatterpolar\"}, {\"fill\": \"toself\", \"name\": \"Mohamed Salah\", \"r\": [\"Mohamed Salah\", \"FW\", 2.2561582578172428, 6.977080724959217, 4.976635087660795, 5.796834122547126, 0.8396450481379498, 0.5542382344845552, 0.16463420425657313, 6.667662020488245, 5.695479496704534, 6.505893174747661, 5.895101479382912, 3.0921239472838877, 1.646778053470289], \"theta\": [\"Position\", \"90s\", \"Goals\", \"Shots\", \"Shots on Target\", \"Total shots per 90\", \"Shot on Target per 90min\", \"Free Kicks\", \"Penalty Kicks\", \"Penalty kicks attempted\", \"Expected Goals\", \"Non penalty expected goals\", \"Goals-Expected goals\", \"Non Penalty goals - Non penalty expected goals\"], \"type\": \"scatterpolar\"}, {\"fill\": \"toself\", \"name\": \"Romelu Lukaku\", \"r\": [\"Romelu Lukaku\", \"FW\", 2.670760159255013, 8.270045019122401, 4.8453879428303654, 6.019245030557526, 0.6743053942463219, 0.49793937046083525, 0.16463420425657313, 7.6528144842939865, 6.544021453531611, 8.18639884122427, 7.566355976826733, 3.676807959648378, 2.1632371559151644], \"theta\": [\"Position\", \"90s\", \"Goals\", \"Shots\", \"Shots on Target\", \"Total shots per 90\", \"Shot on Target per 90min\", \"Free Kicks\", \"Penalty Kicks\", \"Penalty kicks attempted\", \"Expected Goals\", \"Non penalty expected goals\", \"Goals-Expected goals\", \"Non Penalty goals - Non penalty expected goals\"], \"type\": \"scatterpolar\"}],                        {\"showlegend\": true, \"template\": {\"data\": {\"bar\": [{\"error_x\": {\"color\": \"#2a3f5f\"}, \"error_y\": {\"color\": \"#2a3f5f\"}, \"marker\": {\"line\": {\"color\": \"#E5ECF6\", \"width\": 0.5}}, \"type\": \"bar\"}], \"barpolar\": [{\"marker\": {\"line\": {\"color\": \"#E5ECF6\", \"width\": 0.5}}, \"type\": \"barpolar\"}], \"carpet\": [{\"aaxis\": {\"endlinecolor\": \"#2a3f5f\", \"gridcolor\": \"white\", \"linecolor\": \"white\", \"minorgridcolor\": \"white\", \"startlinecolor\": \"#2a3f5f\"}, \"baxis\": {\"endlinecolor\": \"#2a3f5f\", \"gridcolor\": \"white\", \"linecolor\": \"white\", \"minorgridcolor\": \"white\", \"startlinecolor\": \"#2a3f5f\"}, \"type\": \"carpet\"}], \"choropleth\": [{\"colorbar\": {\"outlinewidth\": 0, \"ticks\": \"\"}, \"type\": \"choropleth\"}], \"contour\": [{\"colorbar\": {\"outlinewidth\": 0, \"ticks\": \"\"}, \"colorscale\": [[0.0, \"#0d0887\"], [0.1111111111111111, \"#46039f\"], [0.2222222222222222, \"#7201a8\"], [0.3333333333333333, \"#9c179e\"], [0.4444444444444444, \"#bd3786\"], [0.5555555555555556, \"#d8576b\"], [0.6666666666666666, \"#ed7953\"], [0.7777777777777778, \"#fb9f3a\"], [0.8888888888888888, \"#fdca26\"], [1.0, \"#f0f921\"]], \"type\": \"contour\"}], \"contourcarpet\": [{\"colorbar\": {\"outlinewidth\": 0, \"ticks\": \"\"}, \"type\": \"contourcarpet\"}], \"heatmap\": [{\"colorbar\": {\"outlinewidth\": 0, \"ticks\": \"\"}, \"colorscale\": [[0.0, \"#0d0887\"], [0.1111111111111111, \"#46039f\"], [0.2222222222222222, \"#7201a8\"], [0.3333333333333333, \"#9c179e\"], [0.4444444444444444, \"#bd3786\"], [0.5555555555555556, \"#d8576b\"], [0.6666666666666666, \"#ed7953\"], [0.7777777777777778, \"#fb9f3a\"], [0.8888888888888888, \"#fdca26\"], [1.0, \"#f0f921\"]], \"type\": \"heatmap\"}], \"heatmapgl\": [{\"colorbar\": {\"outlinewidth\": 0, \"ticks\": \"\"}, \"colorscale\": [[0.0, \"#0d0887\"], [0.1111111111111111, \"#46039f\"], [0.2222222222222222, \"#7201a8\"], [0.3333333333333333, \"#9c179e\"], [0.4444444444444444, \"#bd3786\"], [0.5555555555555556, \"#d8576b\"], [0.6666666666666666, \"#ed7953\"], [0.7777777777777778, \"#fb9f3a\"], [0.8888888888888888, \"#fdca26\"], [1.0, \"#f0f921\"]], \"type\": \"heatmapgl\"}], \"histogram\": [{\"marker\": {\"colorbar\": {\"outlinewidth\": 0, \"ticks\": \"\"}}, \"type\": \"histogram\"}], \"histogram2d\": [{\"colorbar\": {\"outlinewidth\": 0, \"ticks\": \"\"}, \"colorscale\": [[0.0, \"#0d0887\"], [0.1111111111111111, \"#46039f\"], [0.2222222222222222, \"#7201a8\"], [0.3333333333333333, \"#9c179e\"], [0.4444444444444444, \"#bd3786\"], [0.5555555555555556, \"#d8576b\"], [0.6666666666666666, \"#ed7953\"], [0.7777777777777778, \"#fb9f3a\"], [0.8888888888888888, \"#fdca26\"], [1.0, \"#f0f921\"]], \"type\": \"histogram2d\"}], \"histogram2dcontour\": [{\"colorbar\": {\"outlinewidth\": 0, \"ticks\": \"\"}, \"colorscale\": [[0.0, \"#0d0887\"], [0.1111111111111111, \"#46039f\"], [0.2222222222222222, \"#7201a8\"], [0.3333333333333333, \"#9c179e\"], [0.4444444444444444, \"#bd3786\"], [0.5555555555555556, \"#d8576b\"], [0.6666666666666666, \"#ed7953\"], [0.7777777777777778, \"#fb9f3a\"], [0.8888888888888888, \"#fdca26\"], [1.0, \"#f0f921\"]], \"type\": \"histogram2dcontour\"}], \"mesh3d\": [{\"colorbar\": {\"outlinewidth\": 0, \"ticks\": \"\"}, \"type\": \"mesh3d\"}], \"parcoords\": [{\"line\": {\"colorbar\": {\"outlinewidth\": 0, \"ticks\": \"\"}}, \"type\": \"parcoords\"}], \"pie\": [{\"automargin\": true, \"type\": \"pie\"}], \"scatter\": [{\"marker\": {\"colorbar\": {\"outlinewidth\": 0, \"ticks\": \"\"}}, \"type\": \"scatter\"}], \"scatter3d\": [{\"line\": {\"colorbar\": {\"outlinewidth\": 0, \"ticks\": \"\"}}, \"marker\": {\"colorbar\": {\"outlinewidth\": 0, \"ticks\": \"\"}}, \"type\": \"scatter3d\"}], \"scattercarpet\": [{\"marker\": {\"colorbar\": {\"outlinewidth\": 0, \"ticks\": \"\"}}, \"type\": \"scattercarpet\"}], \"scattergeo\": [{\"marker\": {\"colorbar\": {\"outlinewidth\": 0, \"ticks\": \"\"}}, \"type\": \"scattergeo\"}], \"scattergl\": [{\"marker\": {\"colorbar\": {\"outlinewidth\": 0, \"ticks\": \"\"}}, \"type\": \"scattergl\"}], \"scattermapbox\": [{\"marker\": {\"colorbar\": {\"outlinewidth\": 0, \"ticks\": \"\"}}, \"type\": \"scattermapbox\"}], \"scatterpolar\": [{\"marker\": {\"colorbar\": {\"outlinewidth\": 0, \"ticks\": \"\"}}, \"type\": \"scatterpolar\"}], \"scatterpolargl\": [{\"marker\": {\"colorbar\": {\"outlinewidth\": 0, \"ticks\": \"\"}}, \"type\": \"scatterpolargl\"}], \"scatterternary\": [{\"marker\": {\"colorbar\": {\"outlinewidth\": 0, \"ticks\": \"\"}}, \"type\": \"scatterternary\"}], \"surface\": [{\"colorbar\": {\"outlinewidth\": 0, \"ticks\": \"\"}, \"colorscale\": [[0.0, \"#0d0887\"], [0.1111111111111111, \"#46039f\"], [0.2222222222222222, \"#7201a8\"], [0.3333333333333333, \"#9c179e\"], [0.4444444444444444, \"#bd3786\"], [0.5555555555555556, \"#d8576b\"], [0.6666666666666666, \"#ed7953\"], [0.7777777777777778, \"#fb9f3a\"], [0.8888888888888888, \"#fdca26\"], [1.0, \"#f0f921\"]], \"type\": \"surface\"}], \"table\": [{\"cells\": {\"fill\": {\"color\": \"#EBF0F8\"}, \"line\": {\"color\": \"white\"}}, \"header\": {\"fill\": {\"color\": \"#C8D4E3\"}, \"line\": {\"color\": \"white\"}}, \"type\": \"table\"}]}, \"layout\": {\"annotationdefaults\": {\"arrowcolor\": \"#2a3f5f\", \"arrowhead\": 0, \"arrowwidth\": 1}, \"autotypenumbers\": \"strict\", \"coloraxis\": {\"colorbar\": {\"outlinewidth\": 0, \"ticks\": \"\"}}, \"colorscale\": {\"diverging\": [[0, \"#8e0152\"], [0.1, \"#c51b7d\"], [0.2, \"#de77ae\"], [0.3, \"#f1b6da\"], [0.4, \"#fde0ef\"], [0.5, \"#f7f7f7\"], [0.6, \"#e6f5d0\"], [0.7, \"#b8e186\"], [0.8, \"#7fbc41\"], [0.9, \"#4d9221\"], [1, \"#276419\"]], \"sequential\": [[0.0, \"#0d0887\"], [0.1111111111111111, \"#46039f\"], [0.2222222222222222, \"#7201a8\"], [0.3333333333333333, \"#9c179e\"], [0.4444444444444444, \"#bd3786\"], [0.5555555555555556, \"#d8576b\"], [0.6666666666666666, \"#ed7953\"], [0.7777777777777778, \"#fb9f3a\"], [0.8888888888888888, \"#fdca26\"], [1.0, \"#f0f921\"]], \"sequentialminus\": [[0.0, \"#0d0887\"], [0.1111111111111111, \"#46039f\"], [0.2222222222222222, \"#7201a8\"], [0.3333333333333333, \"#9c179e\"], [0.4444444444444444, \"#bd3786\"], [0.5555555555555556, \"#d8576b\"], [0.6666666666666666, \"#ed7953\"], [0.7777777777777778, \"#fb9f3a\"], [0.8888888888888888, \"#fdca26\"], [1.0, \"#f0f921\"]]}, \"colorway\": [\"#636efa\", \"#EF553B\", \"#00cc96\", \"#ab63fa\", \"#FFA15A\", \"#19d3f3\", \"#FF6692\", \"#B6E880\", \"#FF97FF\", \"#FECB52\"], \"font\": {\"color\": \"#2a3f5f\"}, \"geo\": {\"bgcolor\": \"white\", \"lakecolor\": \"white\", \"landcolor\": \"#E5ECF6\", \"showlakes\": true, \"showland\": true, \"subunitcolor\": \"white\"}, \"hoverlabel\": {\"align\": \"left\"}, \"hovermode\": \"closest\", \"mapbox\": {\"style\": \"light\"}, \"paper_bgcolor\": \"white\", \"plot_bgcolor\": \"#E5ECF6\", \"polar\": {\"angularaxis\": {\"gridcolor\": \"white\", \"linecolor\": \"white\", \"ticks\": \"\"}, \"bgcolor\": \"#E5ECF6\", \"radialaxis\": {\"gridcolor\": \"white\", \"linecolor\": \"white\", \"ticks\": \"\"}}, \"scene\": {\"xaxis\": {\"backgroundcolor\": \"#E5ECF6\", \"gridcolor\": \"white\", \"gridwidth\": 2, \"linecolor\": \"white\", \"showbackground\": true, \"ticks\": \"\", \"zerolinecolor\": \"white\"}, \"yaxis\": {\"backgroundcolor\": \"#E5ECF6\", \"gridcolor\": \"white\", \"gridwidth\": 2, \"linecolor\": \"white\", \"showbackground\": true, \"ticks\": \"\", \"zerolinecolor\": \"white\"}, \"zaxis\": {\"backgroundcolor\": \"#E5ECF6\", \"gridcolor\": \"white\", \"gridwidth\": 2, \"linecolor\": \"white\", \"showbackground\": true, \"ticks\": \"\", \"zerolinecolor\": \"white\"}}, \"shapedefaults\": {\"line\": {\"color\": \"#2a3f5f\"}}, \"ternary\": {\"aaxis\": {\"gridcolor\": \"white\", \"linecolor\": \"white\", \"ticks\": \"\"}, \"baxis\": {\"gridcolor\": \"white\", \"linecolor\": \"white\", \"ticks\": \"\"}, \"bgcolor\": \"#E5ECF6\", \"caxis\": {\"gridcolor\": \"white\", \"linecolor\": \"white\", \"ticks\": \"\"}}, \"title\": {\"x\": 0.05}, \"xaxis\": {\"automargin\": true, \"gridcolor\": \"white\", \"linecolor\": \"white\", \"ticks\": \"\", \"title\": {\"standoff\": 15}, \"zerolinecolor\": \"white\", \"zerolinewidth\": 2}, \"yaxis\": {\"automargin\": true, \"gridcolor\": \"white\", \"linecolor\": \"white\", \"ticks\": \"\", \"title\": {\"standoff\": 15}, \"zerolinecolor\": \"white\", \"zerolinewidth\": 2}}}},                        {\"responsive\": true}                    ).then(function(){\n",
       "                            \n",
       "var gd = document.getElementById('0fda371b-831d-4670-8689-54eb372819e4');\n",
       "var x = new MutationObserver(function (mutations, observer) {{\n",
       "        var display = window.getComputedStyle(gd).display;\n",
       "        if (!display || display === 'none') {{\n",
       "            console.log([gd, 'removed!']);\n",
       "            Plotly.purge(gd);\n",
       "            observer.disconnect();\n",
       "        }}\n",
       "}});\n",
       "\n",
       "// Listen for the removal of the full notebook cells\n",
       "var notebookContainer = gd.closest('#notebook-container');\n",
       "if (notebookContainer) {{\n",
       "    x.observe(notebookContainer, {childList: true});\n",
       "}}\n",
       "\n",
       "// Listen for the clearing of the current output cell\n",
       "var outputEl = gd.closest('.output');\n",
       "if (outputEl) {{\n",
       "    x.observe(outputEl, {childList: true});\n",
       "}}\n",
       "\n",
       "                        })                };                });            </script>        </div>"
      ]
     },
     "metadata": {},
     "output_type": "display_data"
    }
   ],
   "source": [
    "categories = ['Position','90s','Goals',\n",
    "                   'Shots','Shots on Target','Total shots per 90',\n",
    "                   'Shot on Target per 90min','Free Kicks','Penalty Kicks',\n",
    "                   'Penalty kicks attempted','Expected Goals','Non penalty expected goals','Goals-Expected goals',\n",
    "                   'Non Penalty goals - Non penalty expected goals']\n",
    "\n",
    "\n",
    "\n",
    "fig = go.Figure()\n",
    "r = []\n",
    "for i in range(7):\n",
    "    \n",
    "    data = np.array(value[1].iloc[i])\n",
    "    \n",
    "    fig.add_trace(go.Scatterpolar(\n",
    "      r=data,     \n",
    "      theta=categories,\n",
    "      fill='toself',\n",
    "      name=value[1]['Player'].iloc[i]\n",
    "    ))\n",
    "\n",
    "\n",
    "fig.update_layout(\n",
    "  \n",
    "  showlegend=True\n",
    ")\n",
    "\n",
    "fig.show()"
   ]
  },
  {
   "cell_type": "code",
   "execution_count": null,
   "metadata": {},
   "outputs": [],
   "source": []
  }
 ],
 "metadata": {
  "kernelspec": {
   "display_name": "Python 3",
   "language": "python",
   "name": "python3"
  },
  "language_info": {
   "codemirror_mode": {
    "name": "ipython",
    "version": 3
   },
   "file_extension": ".py",
   "mimetype": "text/x-python",
   "name": "python",
   "nbconvert_exporter": "python",
   "pygments_lexer": "ipython3",
   "version": "3.8.5"
  }
 },
 "nbformat": 4,
 "nbformat_minor": 4
}
