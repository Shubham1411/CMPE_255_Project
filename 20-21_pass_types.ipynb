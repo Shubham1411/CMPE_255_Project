{
 "cells": [
  {
   "cell_type": "code",
   "execution_count": 2,
   "metadata": {},
   "outputs": [],
   "source": [
    "import numpy as np\n",
    "import pandas as pd\n",
    "import os\n",
    "from difflib import SequenceMatcher\n",
    "import xlwt\n",
    "from pandas import ExcelWriter\n",
    "\n",
    "from sklearn.metrics.pairwise import cosine_similarity \n",
    "\n",
    "import plotly.graph_objects as go"
   ]
  },
  {
   "cell_type": "markdown",
   "metadata": {},
   "source": [
    "Below mentioned code is for merging the files. As the files were already merged I commented the code. "
   ]
  },
  {
   "cell_type": "code",
   "execution_count": 14,
   "metadata": {},
   "outputs": [
    {
     "name": "stdout",
     "output_type": "stream",
     "text": [
      "D:\\255\\project\\20-21\n"
     ]
    }
   ],
   "source": [
    "\"\"\"\n",
    "cwd = os.getcwd()\n",
    "path = os.walk(\".\")\n",
    "\n",
    "print(cwd)\n",
    "\"\"\""
   ]
  },
  {
   "cell_type": "code",
   "execution_count": 15,
   "metadata": {},
   "outputs": [],
   "source": [
    "\"\"\"\n",
    "pass_types = []\n",
    "pass_types = pd.DataFrame()\n",
    "\n",
    "for directories in os.listdir(cwd):\n",
    "    #print(directories)\n",
    "    if directories.endswith('.ipynb'):\n",
    "        continue\n",
    "    if directories.endswith('.csv'):\n",
    "        continue\n",
    "        \n",
    "    else:\n",
    "        \n",
    "        for file in os.listdir(directories):\n",
    "           # print(file)\n",
    "            if file.startswith('pass_type.xls') or file.startswith('pass_types.xls') :\n",
    "                \n",
    "              #  os.rename(os.path.join(directories,file),os.path.join(directories,'aa_std_stats.xls'))    \n",
    "                data = pd.read_html(os.path.join(directories,file),encoding = 'utf-8')\n",
    "                #print(data[0])\n",
    "                data = pd.DataFrame(data[0])\n",
    "                data.columns = data.columns.droplevel()\n",
    "                data['club'] = directories\n",
    "                #print(data)\n",
    "                pass_types = pass_types.append(data,ignore_index = True)\n",
    "               # print(\"found\")\n",
    "\"\"\"               "
   ]
  },
  {
   "cell_type": "code",
   "execution_count": 16,
   "metadata": {},
   "outputs": [],
   "source": [
    "#pass_types.to_csv('20-21_pass_types.csv')"
   ]
  },
  {
   "cell_type": "code",
   "execution_count": null,
   "metadata": {},
   "outputs": [],
   "source": []
  },
  {
   "cell_type": "code",
   "execution_count": null,
   "metadata": {},
   "outputs": [],
   "source": []
  },
  {
   "cell_type": "code",
   "execution_count": null,
   "metadata": {},
   "outputs": [],
   "source": []
  },
  {
   "cell_type": "code",
   "execution_count": 3,
   "metadata": {},
   "outputs": [],
   "source": [
    "pass_types = pd.read_csv('20-21_pass_types.csv')"
   ]
  },
  {
   "cell_type": "code",
   "execution_count": 4,
   "metadata": {
    "scrolled": true
   },
   "outputs": [
    {
     "data": {
      "text/plain": [
       "Unnamed: 0      0\n",
       "Player          0\n",
       "Nation          2\n",
       "Pos             2\n",
       "Age             1\n",
       "90s             0\n",
       "Att           175\n",
       "Live          175\n",
       "Dead          175\n",
       "FK            175\n",
       "TB            175\n",
       "Press         175\n",
       "Sw            175\n",
       "Crs            12\n",
       "CK            175\n",
       "In            175\n",
       "Out           175\n",
       "Str           175\n",
       "Ground        175\n",
       "Low           175\n",
       "High          175\n",
       "Left          175\n",
       "Right         175\n",
       "Head          175\n",
       "TI            175\n",
       "Other         175\n",
       "Cmp           175\n",
       "Off           175\n",
       "Out.1         175\n",
       "Int           175\n",
       "Blocks        175\n",
       "Matches         2\n",
       "club            0\n",
       "dtype: int64"
      ]
     },
     "execution_count": 4,
     "metadata": {},
     "output_type": "execute_result"
    }
   ],
   "source": [
    "pass_types.isnull().sum()"
   ]
  },
  {
   "cell_type": "code",
   "execution_count": 5,
   "metadata": {},
   "outputs": [],
   "source": [
    "df_final = pass_types.drop(columns=['Matches','club','Nation','Age','Unnamed: 0'])\n",
    "\n",
    "\n",
    "df_final.dropna(inplace=True)"
   ]
  },
  {
   "cell_type": "code",
   "execution_count": null,
   "metadata": {},
   "outputs": [],
   "source": []
  },
  {
   "cell_type": "code",
   "execution_count": 6,
   "metadata": {},
   "outputs": [],
   "source": [
    "df_final.columns = ['Player','Position','90s','Passes Attempted',\n",
    "                   'Live Passes','Dead','Free Kick',\n",
    "                   'Back Pass','Pass made under pressure','Cross Field Pass',\n",
    "                   'Crosses','Corner Kicks','Inswinging Corner','Outswinging Corner',\n",
    "                   'Straight corner','Ground Passes','Low Pass','High Pass','Left Foot Pass','Right Foot Pass','Headed Pass',\n",
    "                   'Throw Ins','Other Parts','Passes Completed','Off Sides','Out of bound','Intercepted','Passes Blocked']"
   ]
  },
  {
   "cell_type": "code",
   "execution_count": null,
   "metadata": {},
   "outputs": [],
   "source": []
  },
  {
   "cell_type": "code",
   "execution_count": 7,
   "metadata": {},
   "outputs": [
    {
     "data": {
      "text/html": [
       "<div>\n",
       "<style scoped>\n",
       "    .dataframe tbody tr th:only-of-type {\n",
       "        vertical-align: middle;\n",
       "    }\n",
       "\n",
       "    .dataframe tbody tr th {\n",
       "        vertical-align: top;\n",
       "    }\n",
       "\n",
       "    .dataframe thead th {\n",
       "        text-align: right;\n",
       "    }\n",
       "</style>\n",
       "<table border=\"1\" class=\"dataframe\">\n",
       "  <thead>\n",
       "    <tr style=\"text-align: right;\">\n",
       "      <th></th>\n",
       "      <th>90s</th>\n",
       "      <th>Passes Attempted</th>\n",
       "      <th>Live Passes</th>\n",
       "      <th>Dead</th>\n",
       "      <th>Free Kick</th>\n",
       "      <th>Back Pass</th>\n",
       "      <th>Pass made under pressure</th>\n",
       "      <th>Cross Field Pass</th>\n",
       "      <th>Crosses</th>\n",
       "      <th>Corner Kicks</th>\n",
       "      <th>...</th>\n",
       "      <th>Left Foot Pass</th>\n",
       "      <th>Right Foot Pass</th>\n",
       "      <th>Headed Pass</th>\n",
       "      <th>Throw Ins</th>\n",
       "      <th>Other Parts</th>\n",
       "      <th>Passes Completed</th>\n",
       "      <th>Off Sides</th>\n",
       "      <th>Out of bound</th>\n",
       "      <th>Intercepted</th>\n",
       "      <th>Passes Blocked</th>\n",
       "    </tr>\n",
       "  </thead>\n",
       "  <tbody>\n",
       "    <tr>\n",
       "      <th>0</th>\n",
       "      <td>1.504692</td>\n",
       "      <td>0.502678</td>\n",
       "      <td>-0.046514</td>\n",
       "      <td>3.754247</td>\n",
       "      <td>4.489680</td>\n",
       "      <td>-0.521568</td>\n",
       "      <td>-0.760461</td>\n",
       "      <td>0.339980</td>\n",
       "      <td>-0.686739</td>\n",
       "      <td>-0.346361</td>\n",
       "      <td>...</td>\n",
       "      <td>1.139183</td>\n",
       "      <td>-0.326261</td>\n",
       "      <td>-0.958839</td>\n",
       "      <td>-0.446110</td>\n",
       "      <td>3.192689</td>\n",
       "      <td>0.275462</td>\n",
       "      <td>1.998705</td>\n",
       "      <td>0.688448</td>\n",
       "      <td>-0.422722</td>\n",
       "      <td>-0.830948</td>\n",
       "    </tr>\n",
       "    <tr>\n",
       "      <th>1</th>\n",
       "      <td>1.280116</td>\n",
       "      <td>0.432843</td>\n",
       "      <td>0.545411</td>\n",
       "      <td>-0.479488</td>\n",
       "      <td>-0.721427</td>\n",
       "      <td>1.661048</td>\n",
       "      <td>3.723875</td>\n",
       "      <td>0.079637</td>\n",
       "      <td>0.130066</td>\n",
       "      <td>-0.346361</td>\n",
       "      <td>...</td>\n",
       "      <td>-0.170265</td>\n",
       "      <td>0.048293</td>\n",
       "      <td>4.262321</td>\n",
       "      <td>-0.378237</td>\n",
       "      <td>0.658839</td>\n",
       "      <td>0.017843</td>\n",
       "      <td>0.801204</td>\n",
       "      <td>0.785492</td>\n",
       "      <td>1.391731</td>\n",
       "      <td>1.086031</td>\n",
       "    </tr>\n",
       "    <tr>\n",
       "      <th>2</th>\n",
       "      <td>1.211016</td>\n",
       "      <td>0.825247</td>\n",
       "      <td>0.881077</td>\n",
       "      <td>0.092638</td>\n",
       "      <td>2.006262</td>\n",
       "      <td>-0.085045</td>\n",
       "      <td>0.217708</td>\n",
       "      <td>2.769841</td>\n",
       "      <td>-0.492261</td>\n",
       "      <td>-0.346361</td>\n",
       "      <td>...</td>\n",
       "      <td>-0.258432</td>\n",
       "      <td>1.178564</td>\n",
       "      <td>1.651741</td>\n",
       "      <td>-0.378237</td>\n",
       "      <td>-0.295944</td>\n",
       "      <td>0.757522</td>\n",
       "      <td>1.200371</td>\n",
       "      <td>1.464801</td>\n",
       "      <td>0.154604</td>\n",
       "      <td>-0.291798</td>\n",
       "    </tr>\n",
       "    <tr>\n",
       "      <th>3</th>\n",
       "      <td>0.986440</td>\n",
       "      <td>0.364672</td>\n",
       "      <td>0.408258</td>\n",
       "      <td>-0.078999</td>\n",
       "      <td>1.436297</td>\n",
       "      <td>-0.521568</td>\n",
       "      <td>0.001749</td>\n",
       "      <td>0.947445</td>\n",
       "      <td>-0.531157</td>\n",
       "      <td>-0.346361</td>\n",
       "      <td>...</td>\n",
       "      <td>-0.395582</td>\n",
       "      <td>0.674018</td>\n",
       "      <td>2.214020</td>\n",
       "      <td>-0.395205</td>\n",
       "      <td>-0.259222</td>\n",
       "      <td>0.289124</td>\n",
       "      <td>1.200371</td>\n",
       "      <td>1.173669</td>\n",
       "      <td>-0.587673</td>\n",
       "      <td>-0.291798</td>\n",
       "    </tr>\n",
       "    <tr>\n",
       "      <th>4</th>\n",
       "      <td>0.891427</td>\n",
       "      <td>0.364672</td>\n",
       "      <td>0.435328</td>\n",
       "      <td>-0.250637</td>\n",
       "      <td>0.784909</td>\n",
       "      <td>-0.521568</td>\n",
       "      <td>0.776663</td>\n",
       "      <td>0.036247</td>\n",
       "      <td>-0.492261</td>\n",
       "      <td>-0.235433</td>\n",
       "      <td>...</td>\n",
       "      <td>-0.095160</td>\n",
       "      <td>0.515383</td>\n",
       "      <td>1.410764</td>\n",
       "      <td>-0.446110</td>\n",
       "      <td>-0.222500</td>\n",
       "      <td>0.410127</td>\n",
       "      <td>0.002870</td>\n",
       "      <td>0.300272</td>\n",
       "      <td>0.402029</td>\n",
       "      <td>0.307258</td>\n",
       "    </tr>\n",
       "    <tr>\n",
       "      <th>...</th>\n",
       "      <td>...</td>\n",
       "      <td>...</td>\n",
       "      <td>...</td>\n",
       "      <td>...</td>\n",
       "      <td>...</td>\n",
       "      <td>...</td>\n",
       "      <td>...</td>\n",
       "      <td>...</td>\n",
       "      <td>...</td>\n",
       "      <td>...</td>\n",
       "      <td>...</td>\n",
       "      <td>...</td>\n",
       "      <td>...</td>\n",
       "      <td>...</td>\n",
       "      <td>...</td>\n",
       "      <td>...</td>\n",
       "      <td>...</td>\n",
       "      <td>...</td>\n",
       "      <td>...</td>\n",
       "      <td>...</td>\n",
       "      <td>...</td>\n",
       "    </tr>\n",
       "    <tr>\n",
       "      <th>2954</th>\n",
       "      <td>-1.095207</td>\n",
       "      <td>-0.917291</td>\n",
       "      <td>-0.912747</td>\n",
       "      <td>-0.525258</td>\n",
       "      <td>-0.721427</td>\n",
       "      <td>-0.521568</td>\n",
       "      <td>-1.039938</td>\n",
       "      <td>-0.788170</td>\n",
       "      <td>-0.453366</td>\n",
       "      <td>-0.346361</td>\n",
       "      <td>...</td>\n",
       "      <td>-0.375989</td>\n",
       "      <td>-0.844027</td>\n",
       "      <td>-0.878514</td>\n",
       "      <td>-0.157649</td>\n",
       "      <td>-0.332667</td>\n",
       "      <td>-0.860403</td>\n",
       "      <td>-0.396298</td>\n",
       "      <td>-0.767214</td>\n",
       "      <td>-0.917573</td>\n",
       "      <td>-0.830948</td>\n",
       "    </tr>\n",
       "    <tr>\n",
       "      <th>2955</th>\n",
       "      <td>-1.121120</td>\n",
       "      <td>-0.928930</td>\n",
       "      <td>-0.909138</td>\n",
       "      <td>-0.628241</td>\n",
       "      <td>-0.558580</td>\n",
       "      <td>-0.521568</td>\n",
       "      <td>-0.938310</td>\n",
       "      <td>-0.657999</td>\n",
       "      <td>-0.608948</td>\n",
       "      <td>-0.290897</td>\n",
       "      <td>...</td>\n",
       "      <td>-0.601306</td>\n",
       "      <td>-0.680986</td>\n",
       "      <td>-0.758025</td>\n",
       "      <td>-0.412173</td>\n",
       "      <td>-0.332667</td>\n",
       "      <td>-0.883823</td>\n",
       "      <td>-0.795465</td>\n",
       "      <td>-0.864258</td>\n",
       "      <td>-0.587673</td>\n",
       "      <td>-0.890853</td>\n",
       "    </tr>\n",
       "    <tr>\n",
       "      <th>2956</th>\n",
       "      <td>-1.164307</td>\n",
       "      <td>-0.973824</td>\n",
       "      <td>-0.945231</td>\n",
       "      <td>-0.708338</td>\n",
       "      <td>-0.680715</td>\n",
       "      <td>-0.521568</td>\n",
       "      <td>-0.900200</td>\n",
       "      <td>-0.744780</td>\n",
       "      <td>-0.686739</td>\n",
       "      <td>-0.346361</td>\n",
       "      <td>...</td>\n",
       "      <td>-0.584978</td>\n",
       "      <td>-0.751490</td>\n",
       "      <td>-0.878514</td>\n",
       "      <td>-0.446110</td>\n",
       "      <td>-0.332667</td>\n",
       "      <td>-0.932614</td>\n",
       "      <td>-0.795465</td>\n",
       "      <td>-0.961302</td>\n",
       "      <td>-0.422722</td>\n",
       "      <td>-0.830948</td>\n",
       "    </tr>\n",
       "    <tr>\n",
       "      <th>2957</th>\n",
       "      <td>-1.242045</td>\n",
       "      <td>-1.071925</td>\n",
       "      <td>-1.051705</td>\n",
       "      <td>-0.708338</td>\n",
       "      <td>-0.721427</td>\n",
       "      <td>-0.521568</td>\n",
       "      <td>-1.103456</td>\n",
       "      <td>-0.831560</td>\n",
       "      <td>-0.686739</td>\n",
       "      <td>-0.346361</td>\n",
       "      <td>...</td>\n",
       "      <td>-0.611102</td>\n",
       "      <td>-0.846230</td>\n",
       "      <td>-0.958839</td>\n",
       "      <td>-0.446110</td>\n",
       "      <td>-0.332667</td>\n",
       "      <td>-1.012632</td>\n",
       "      <td>-0.795465</td>\n",
       "      <td>-0.961302</td>\n",
       "      <td>-1.000048</td>\n",
       "      <td>-0.950759</td>\n",
       "    </tr>\n",
       "    <tr>\n",
       "      <th>2958</th>\n",
       "      <td>-1.259320</td>\n",
       "      <td>-1.055298</td>\n",
       "      <td>-1.033658</td>\n",
       "      <td>-0.708338</td>\n",
       "      <td>-0.721427</td>\n",
       "      <td>-0.521568</td>\n",
       "      <td>-1.128863</td>\n",
       "      <td>-0.831560</td>\n",
       "      <td>-0.686739</td>\n",
       "      <td>-0.346361</td>\n",
       "      <td>...</td>\n",
       "      <td>-0.611102</td>\n",
       "      <td>-0.824197</td>\n",
       "      <td>-0.958839</td>\n",
       "      <td>-0.429142</td>\n",
       "      <td>-0.332667</td>\n",
       "      <td>-0.993116</td>\n",
       "      <td>-0.795465</td>\n",
       "      <td>-1.058346</td>\n",
       "      <td>-1.000048</td>\n",
       "      <td>-0.950759</td>\n",
       "    </tr>\n",
       "  </tbody>\n",
       "</table>\n",
       "<p>2782 rows × 26 columns</p>\n",
       "</div>"
      ],
      "text/plain": [
       "           90s  Passes Attempted  Live Passes      Dead  Free Kick  Back Pass  \\\n",
       "0     1.504692          0.502678    -0.046514  3.754247   4.489680  -0.521568   \n",
       "1     1.280116          0.432843     0.545411 -0.479488  -0.721427   1.661048   \n",
       "2     1.211016          0.825247     0.881077  0.092638   2.006262  -0.085045   \n",
       "3     0.986440          0.364672     0.408258 -0.078999   1.436297  -0.521568   \n",
       "4     0.891427          0.364672     0.435328 -0.250637   0.784909  -0.521568   \n",
       "...        ...               ...          ...       ...        ...        ...   \n",
       "2954 -1.095207         -0.917291    -0.912747 -0.525258  -0.721427  -0.521568   \n",
       "2955 -1.121120         -0.928930    -0.909138 -0.628241  -0.558580  -0.521568   \n",
       "2956 -1.164307         -0.973824    -0.945231 -0.708338  -0.680715  -0.521568   \n",
       "2957 -1.242045         -1.071925    -1.051705 -0.708338  -0.721427  -0.521568   \n",
       "2958 -1.259320         -1.055298    -1.033658 -0.708338  -0.721427  -0.521568   \n",
       "\n",
       "      Pass made under pressure  Cross Field Pass   Crosses  Corner Kicks  ...  \\\n",
       "0                    -0.760461          0.339980 -0.686739     -0.346361  ...   \n",
       "1                     3.723875          0.079637  0.130066     -0.346361  ...   \n",
       "2                     0.217708          2.769841 -0.492261     -0.346361  ...   \n",
       "3                     0.001749          0.947445 -0.531157     -0.346361  ...   \n",
       "4                     0.776663          0.036247 -0.492261     -0.235433  ...   \n",
       "...                        ...               ...       ...           ...  ...   \n",
       "2954                 -1.039938         -0.788170 -0.453366     -0.346361  ...   \n",
       "2955                 -0.938310         -0.657999 -0.608948     -0.290897  ...   \n",
       "2956                 -0.900200         -0.744780 -0.686739     -0.346361  ...   \n",
       "2957                 -1.103456         -0.831560 -0.686739     -0.346361  ...   \n",
       "2958                 -1.128863         -0.831560 -0.686739     -0.346361  ...   \n",
       "\n",
       "      Left Foot Pass  Right Foot Pass  Headed Pass  Throw Ins  Other Parts  \\\n",
       "0           1.139183        -0.326261    -0.958839  -0.446110     3.192689   \n",
       "1          -0.170265         0.048293     4.262321  -0.378237     0.658839   \n",
       "2          -0.258432         1.178564     1.651741  -0.378237    -0.295944   \n",
       "3          -0.395582         0.674018     2.214020  -0.395205    -0.259222   \n",
       "4          -0.095160         0.515383     1.410764  -0.446110    -0.222500   \n",
       "...              ...              ...          ...        ...          ...   \n",
       "2954       -0.375989        -0.844027    -0.878514  -0.157649    -0.332667   \n",
       "2955       -0.601306        -0.680986    -0.758025  -0.412173    -0.332667   \n",
       "2956       -0.584978        -0.751490    -0.878514  -0.446110    -0.332667   \n",
       "2957       -0.611102        -0.846230    -0.958839  -0.446110    -0.332667   \n",
       "2958       -0.611102        -0.824197    -0.958839  -0.429142    -0.332667   \n",
       "\n",
       "      Passes Completed  Off Sides  Out of bound  Intercepted  Passes Blocked  \n",
       "0             0.275462   1.998705      0.688448    -0.422722       -0.830948  \n",
       "1             0.017843   0.801204      0.785492     1.391731        1.086031  \n",
       "2             0.757522   1.200371      1.464801     0.154604       -0.291798  \n",
       "3             0.289124   1.200371      1.173669    -0.587673       -0.291798  \n",
       "4             0.410127   0.002870      0.300272     0.402029        0.307258  \n",
       "...                ...        ...           ...          ...             ...  \n",
       "2954         -0.860403  -0.396298     -0.767214    -0.917573       -0.830948  \n",
       "2955         -0.883823  -0.795465     -0.864258    -0.587673       -0.890853  \n",
       "2956         -0.932614  -0.795465     -0.961302    -0.422722       -0.830948  \n",
       "2957         -1.012632  -0.795465     -0.961302    -1.000048       -0.950759  \n",
       "2958         -0.993116  -0.795465     -1.058346    -1.000048       -0.950759  \n",
       "\n",
       "[2782 rows x 26 columns]"
      ]
     },
     "metadata": {},
     "output_type": "display_data"
    }
   ],
   "source": [
    "to_be_scaled = df_final[['90s','Passes Attempted',\n",
    "                   'Live Passes','Dead','Free Kick',\n",
    "                   'Back Pass','Pass made under pressure','Cross Field Pass',\n",
    "                   'Crosses','Corner Kicks','Inswinging Corner','Outswinging Corner',\n",
    "                   'Straight corner','Ground Passes','Low Pass','High Pass','Left Foot Pass','Right Foot Pass','Headed Pass',\n",
    "                   'Throw Ins','Other Parts','Passes Completed','Off Sides','Out of bound','Intercepted','Passes Blocked']]\n",
    "\n",
    "# copy the data\n",
    "df_z_scaled = to_be_scaled.copy()\n",
    "  \n",
    "# apply normalization techniques\n",
    "for column in df_z_scaled.columns:\n",
    "    df_z_scaled[column] = (df_z_scaled[column] -\n",
    "                           df_z_scaled[column].mean()) / df_z_scaled[column].std()    \n",
    "  \n",
    "# view normalized data   \n",
    "display(df_z_scaled)"
   ]
  },
  {
   "cell_type": "code",
   "execution_count": null,
   "metadata": {},
   "outputs": [],
   "source": []
  },
  {
   "cell_type": "code",
   "execution_count": 8,
   "metadata": {},
   "outputs": [
    {
     "data": {
      "text/html": [
       "<div>\n",
       "<style scoped>\n",
       "    .dataframe tbody tr th:only-of-type {\n",
       "        vertical-align: middle;\n",
       "    }\n",
       "\n",
       "    .dataframe tbody tr th {\n",
       "        vertical-align: top;\n",
       "    }\n",
       "\n",
       "    .dataframe thead th {\n",
       "        text-align: right;\n",
       "    }\n",
       "</style>\n",
       "<table border=\"1\" class=\"dataframe\">\n",
       "  <thead>\n",
       "    <tr style=\"text-align: right;\">\n",
       "      <th></th>\n",
       "      <th>Player</th>\n",
       "      <th>Position</th>\n",
       "      <th>90s</th>\n",
       "      <th>Passes Attempted</th>\n",
       "      <th>Live Passes</th>\n",
       "      <th>Dead</th>\n",
       "      <th>Free Kick</th>\n",
       "      <th>Back Pass</th>\n",
       "      <th>Pass made under pressure</th>\n",
       "      <th>Cross Field Pass</th>\n",
       "      <th>...</th>\n",
       "      <th>Left Foot Pass</th>\n",
       "      <th>Right Foot Pass</th>\n",
       "      <th>Headed Pass</th>\n",
       "      <th>Throw Ins</th>\n",
       "      <th>Other Parts</th>\n",
       "      <th>Passes Completed</th>\n",
       "      <th>Off Sides</th>\n",
       "      <th>Out of bound</th>\n",
       "      <th>Intercepted</th>\n",
       "      <th>Passes Blocked</th>\n",
       "    </tr>\n",
       "  </thead>\n",
       "  <tbody>\n",
       "    <tr>\n",
       "      <th>0</th>\n",
       "      <td>Fernando Pacheco</td>\n",
       "      <td>GK</td>\n",
       "      <td>1.504692</td>\n",
       "      <td>0.502678</td>\n",
       "      <td>-0.046514</td>\n",
       "      <td>3.754247</td>\n",
       "      <td>4.489680</td>\n",
       "      <td>-0.521568</td>\n",
       "      <td>-0.760461</td>\n",
       "      <td>0.339980</td>\n",
       "      <td>...</td>\n",
       "      <td>1.139183</td>\n",
       "      <td>-0.326261</td>\n",
       "      <td>-0.958839</td>\n",
       "      <td>-0.446110</td>\n",
       "      <td>3.192689</td>\n",
       "      <td>0.275462</td>\n",
       "      <td>1.998705</td>\n",
       "      <td>0.688448</td>\n",
       "      <td>-0.422722</td>\n",
       "      <td>-0.830948</td>\n",
       "    </tr>\n",
       "    <tr>\n",
       "      <th>1</th>\n",
       "      <td>Joselu</td>\n",
       "      <td>FW</td>\n",
       "      <td>1.280116</td>\n",
       "      <td>0.432843</td>\n",
       "      <td>0.545411</td>\n",
       "      <td>-0.479488</td>\n",
       "      <td>-0.721427</td>\n",
       "      <td>1.661048</td>\n",
       "      <td>3.723875</td>\n",
       "      <td>0.079637</td>\n",
       "      <td>...</td>\n",
       "      <td>-0.170265</td>\n",
       "      <td>0.048293</td>\n",
       "      <td>4.262321</td>\n",
       "      <td>-0.378237</td>\n",
       "      <td>0.658839</td>\n",
       "      <td>0.017843</td>\n",
       "      <td>0.801204</td>\n",
       "      <td>0.785492</td>\n",
       "      <td>1.391731</td>\n",
       "      <td>1.086031</td>\n",
       "    </tr>\n",
       "    <tr>\n",
       "      <th>2</th>\n",
       "      <td>Florian Lejeune</td>\n",
       "      <td>DF</td>\n",
       "      <td>1.211016</td>\n",
       "      <td>0.825247</td>\n",
       "      <td>0.881077</td>\n",
       "      <td>0.092638</td>\n",
       "      <td>2.006262</td>\n",
       "      <td>-0.085045</td>\n",
       "      <td>0.217708</td>\n",
       "      <td>2.769841</td>\n",
       "      <td>...</td>\n",
       "      <td>-0.258432</td>\n",
       "      <td>1.178564</td>\n",
       "      <td>1.651741</td>\n",
       "      <td>-0.378237</td>\n",
       "      <td>-0.295944</td>\n",
       "      <td>0.757522</td>\n",
       "      <td>1.200371</td>\n",
       "      <td>1.464801</td>\n",
       "      <td>0.154604</td>\n",
       "      <td>-0.291798</td>\n",
       "    </tr>\n",
       "    <tr>\n",
       "      <th>3</th>\n",
       "      <td>Víctor Laguardia</td>\n",
       "      <td>DF</td>\n",
       "      <td>0.986440</td>\n",
       "      <td>0.364672</td>\n",
       "      <td>0.408258</td>\n",
       "      <td>-0.078999</td>\n",
       "      <td>1.436297</td>\n",
       "      <td>-0.521568</td>\n",
       "      <td>0.001749</td>\n",
       "      <td>0.947445</td>\n",
       "      <td>...</td>\n",
       "      <td>-0.395582</td>\n",
       "      <td>0.674018</td>\n",
       "      <td>2.214020</td>\n",
       "      <td>-0.395205</td>\n",
       "      <td>-0.259222</td>\n",
       "      <td>0.289124</td>\n",
       "      <td>1.200371</td>\n",
       "      <td>1.173669</td>\n",
       "      <td>-0.587673</td>\n",
       "      <td>-0.291798</td>\n",
       "    </tr>\n",
       "    <tr>\n",
       "      <th>4</th>\n",
       "      <td>Rodrigo Battaglia</td>\n",
       "      <td>MF</td>\n",
       "      <td>0.891427</td>\n",
       "      <td>0.364672</td>\n",
       "      <td>0.435328</td>\n",
       "      <td>-0.250637</td>\n",
       "      <td>0.784909</td>\n",
       "      <td>-0.521568</td>\n",
       "      <td>0.776663</td>\n",
       "      <td>0.036247</td>\n",
       "      <td>...</td>\n",
       "      <td>-0.095160</td>\n",
       "      <td>0.515383</td>\n",
       "      <td>1.410764</td>\n",
       "      <td>-0.446110</td>\n",
       "      <td>-0.222500</td>\n",
       "      <td>0.410127</td>\n",
       "      <td>0.002870</td>\n",
       "      <td>0.300272</td>\n",
       "      <td>0.402029</td>\n",
       "      <td>0.307258</td>\n",
       "    </tr>\n",
       "    <tr>\n",
       "      <th>...</th>\n",
       "      <td>...</td>\n",
       "      <td>...</td>\n",
       "      <td>...</td>\n",
       "      <td>...</td>\n",
       "      <td>...</td>\n",
       "      <td>...</td>\n",
       "      <td>...</td>\n",
       "      <td>...</td>\n",
       "      <td>...</td>\n",
       "      <td>...</td>\n",
       "      <td>...</td>\n",
       "      <td>...</td>\n",
       "      <td>...</td>\n",
       "      <td>...</td>\n",
       "      <td>...</td>\n",
       "      <td>...</td>\n",
       "      <td>...</td>\n",
       "      <td>...</td>\n",
       "      <td>...</td>\n",
       "      <td>...</td>\n",
       "      <td>...</td>\n",
       "    </tr>\n",
       "    <tr>\n",
       "      <th>2954</th>\n",
       "      <td>Rúben Vinagre</td>\n",
       "      <td>DF</td>\n",
       "      <td>-1.095207</td>\n",
       "      <td>-0.917291</td>\n",
       "      <td>-0.912747</td>\n",
       "      <td>-0.525258</td>\n",
       "      <td>-0.721427</td>\n",
       "      <td>-0.521568</td>\n",
       "      <td>-1.039938</td>\n",
       "      <td>-0.788170</td>\n",
       "      <td>...</td>\n",
       "      <td>-0.375989</td>\n",
       "      <td>-0.844027</td>\n",
       "      <td>-0.878514</td>\n",
       "      <td>-0.157649</td>\n",
       "      <td>-0.332667</td>\n",
       "      <td>-0.860403</td>\n",
       "      <td>-0.396298</td>\n",
       "      <td>-0.767214</td>\n",
       "      <td>-0.917573</td>\n",
       "      <td>-0.830948</td>\n",
       "    </tr>\n",
       "    <tr>\n",
       "      <th>2955</th>\n",
       "      <td>Morgan Gibbs-White</td>\n",
       "      <td>FW,MF</td>\n",
       "      <td>-1.121120</td>\n",
       "      <td>-0.928930</td>\n",
       "      <td>-0.909138</td>\n",
       "      <td>-0.628241</td>\n",
       "      <td>-0.558580</td>\n",
       "      <td>-0.521568</td>\n",
       "      <td>-0.938310</td>\n",
       "      <td>-0.657999</td>\n",
       "      <td>...</td>\n",
       "      <td>-0.601306</td>\n",
       "      <td>-0.680986</td>\n",
       "      <td>-0.758025</td>\n",
       "      <td>-0.412173</td>\n",
       "      <td>-0.332667</td>\n",
       "      <td>-0.883823</td>\n",
       "      <td>-0.795465</td>\n",
       "      <td>-0.864258</td>\n",
       "      <td>-0.587673</td>\n",
       "      <td>-0.890853</td>\n",
       "    </tr>\n",
       "    <tr>\n",
       "      <th>2956</th>\n",
       "      <td>Owen Otasowie</td>\n",
       "      <td>MF,FW</td>\n",
       "      <td>-1.164307</td>\n",
       "      <td>-0.973824</td>\n",
       "      <td>-0.945231</td>\n",
       "      <td>-0.708338</td>\n",
       "      <td>-0.680715</td>\n",
       "      <td>-0.521568</td>\n",
       "      <td>-0.900200</td>\n",
       "      <td>-0.744780</td>\n",
       "      <td>...</td>\n",
       "      <td>-0.584978</td>\n",
       "      <td>-0.751490</td>\n",
       "      <td>-0.878514</td>\n",
       "      <td>-0.446110</td>\n",
       "      <td>-0.332667</td>\n",
       "      <td>-0.932614</td>\n",
       "      <td>-0.795465</td>\n",
       "      <td>-0.961302</td>\n",
       "      <td>-0.422722</td>\n",
       "      <td>-0.830948</td>\n",
       "    </tr>\n",
       "    <tr>\n",
       "      <th>2957</th>\n",
       "      <td>Patrick Cutrone</td>\n",
       "      <td>FW,MF</td>\n",
       "      <td>-1.242045</td>\n",
       "      <td>-1.071925</td>\n",
       "      <td>-1.051705</td>\n",
       "      <td>-0.708338</td>\n",
       "      <td>-0.721427</td>\n",
       "      <td>-0.521568</td>\n",
       "      <td>-1.103456</td>\n",
       "      <td>-0.831560</td>\n",
       "      <td>...</td>\n",
       "      <td>-0.611102</td>\n",
       "      <td>-0.846230</td>\n",
       "      <td>-0.958839</td>\n",
       "      <td>-0.446110</td>\n",
       "      <td>-0.332667</td>\n",
       "      <td>-1.012632</td>\n",
       "      <td>-0.795465</td>\n",
       "      <td>-0.961302</td>\n",
       "      <td>-1.000048</td>\n",
       "      <td>-0.950759</td>\n",
       "    </tr>\n",
       "    <tr>\n",
       "      <th>2958</th>\n",
       "      <td>Oskar Buur</td>\n",
       "      <td>DF</td>\n",
       "      <td>-1.259320</td>\n",
       "      <td>-1.055298</td>\n",
       "      <td>-1.033658</td>\n",
       "      <td>-0.708338</td>\n",
       "      <td>-0.721427</td>\n",
       "      <td>-0.521568</td>\n",
       "      <td>-1.128863</td>\n",
       "      <td>-0.831560</td>\n",
       "      <td>...</td>\n",
       "      <td>-0.611102</td>\n",
       "      <td>-0.824197</td>\n",
       "      <td>-0.958839</td>\n",
       "      <td>-0.429142</td>\n",
       "      <td>-0.332667</td>\n",
       "      <td>-0.993116</td>\n",
       "      <td>-0.795465</td>\n",
       "      <td>-1.058346</td>\n",
       "      <td>-1.000048</td>\n",
       "      <td>-0.950759</td>\n",
       "    </tr>\n",
       "  </tbody>\n",
       "</table>\n",
       "<p>2782 rows × 28 columns</p>\n",
       "</div>"
      ],
      "text/plain": [
       "                  Player Position       90s  Passes Attempted  Live Passes  \\\n",
       "0       Fernando Pacheco       GK  1.504692          0.502678    -0.046514   \n",
       "1                 Joselu       FW  1.280116          0.432843     0.545411   \n",
       "2        Florian Lejeune       DF  1.211016          0.825247     0.881077   \n",
       "3       Víctor Laguardia       DF  0.986440          0.364672     0.408258   \n",
       "4      Rodrigo Battaglia       MF  0.891427          0.364672     0.435328   \n",
       "...                  ...      ...       ...               ...          ...   \n",
       "2954       Rúben Vinagre       DF -1.095207         -0.917291    -0.912747   \n",
       "2955  Morgan Gibbs-White    FW,MF -1.121120         -0.928930    -0.909138   \n",
       "2956       Owen Otasowie    MF,FW -1.164307         -0.973824    -0.945231   \n",
       "2957     Patrick Cutrone    FW,MF -1.242045         -1.071925    -1.051705   \n",
       "2958          Oskar Buur       DF -1.259320         -1.055298    -1.033658   \n",
       "\n",
       "          Dead  Free Kick  Back Pass  Pass made under pressure  \\\n",
       "0     3.754247   4.489680  -0.521568                 -0.760461   \n",
       "1    -0.479488  -0.721427   1.661048                  3.723875   \n",
       "2     0.092638   2.006262  -0.085045                  0.217708   \n",
       "3    -0.078999   1.436297  -0.521568                  0.001749   \n",
       "4    -0.250637   0.784909  -0.521568                  0.776663   \n",
       "...        ...        ...        ...                       ...   \n",
       "2954 -0.525258  -0.721427  -0.521568                 -1.039938   \n",
       "2955 -0.628241  -0.558580  -0.521568                 -0.938310   \n",
       "2956 -0.708338  -0.680715  -0.521568                 -0.900200   \n",
       "2957 -0.708338  -0.721427  -0.521568                 -1.103456   \n",
       "2958 -0.708338  -0.721427  -0.521568                 -1.128863   \n",
       "\n",
       "      Cross Field Pass  ...  Left Foot Pass  Right Foot Pass  Headed Pass  \\\n",
       "0             0.339980  ...        1.139183        -0.326261    -0.958839   \n",
       "1             0.079637  ...       -0.170265         0.048293     4.262321   \n",
       "2             2.769841  ...       -0.258432         1.178564     1.651741   \n",
       "3             0.947445  ...       -0.395582         0.674018     2.214020   \n",
       "4             0.036247  ...       -0.095160         0.515383     1.410764   \n",
       "...                ...  ...             ...              ...          ...   \n",
       "2954         -0.788170  ...       -0.375989        -0.844027    -0.878514   \n",
       "2955         -0.657999  ...       -0.601306        -0.680986    -0.758025   \n",
       "2956         -0.744780  ...       -0.584978        -0.751490    -0.878514   \n",
       "2957         -0.831560  ...       -0.611102        -0.846230    -0.958839   \n",
       "2958         -0.831560  ...       -0.611102        -0.824197    -0.958839   \n",
       "\n",
       "      Throw Ins  Other Parts  Passes Completed  Off Sides  Out of bound  \\\n",
       "0     -0.446110     3.192689          0.275462   1.998705      0.688448   \n",
       "1     -0.378237     0.658839          0.017843   0.801204      0.785492   \n",
       "2     -0.378237    -0.295944          0.757522   1.200371      1.464801   \n",
       "3     -0.395205    -0.259222          0.289124   1.200371      1.173669   \n",
       "4     -0.446110    -0.222500          0.410127   0.002870      0.300272   \n",
       "...         ...          ...               ...        ...           ...   \n",
       "2954  -0.157649    -0.332667         -0.860403  -0.396298     -0.767214   \n",
       "2955  -0.412173    -0.332667         -0.883823  -0.795465     -0.864258   \n",
       "2956  -0.446110    -0.332667         -0.932614  -0.795465     -0.961302   \n",
       "2957  -0.446110    -0.332667         -1.012632  -0.795465     -0.961302   \n",
       "2958  -0.429142    -0.332667         -0.993116  -0.795465     -1.058346   \n",
       "\n",
       "      Intercepted  Passes Blocked  \n",
       "0       -0.422722       -0.830948  \n",
       "1        1.391731        1.086031  \n",
       "2        0.154604       -0.291798  \n",
       "3       -0.587673       -0.291798  \n",
       "4        0.402029        0.307258  \n",
       "...           ...             ...  \n",
       "2954    -0.917573       -0.830948  \n",
       "2955    -0.587673       -0.890853  \n",
       "2956    -0.422722       -0.830948  \n",
       "2957    -1.000048       -0.950759  \n",
       "2958    -1.000048       -0.950759  \n",
       "\n",
       "[2782 rows x 28 columns]"
      ]
     },
     "execution_count": 8,
     "metadata": {},
     "output_type": "execute_result"
    }
   ],
   "source": [
    "df_z_scaled.insert(0, \"Player\", df_final['Player'])\n",
    "df_z_scaled.insert(1, \"Position\", df_final['Position'])\n",
    "\n",
    "df_final = df_z_scaled\n",
    "\n",
    "df_final"
   ]
  },
  {
   "cell_type": "code",
   "execution_count": null,
   "metadata": {},
   "outputs": [],
   "source": []
  },
  {
   "cell_type": "code",
   "execution_count": 9,
   "metadata": {},
   "outputs": [],
   "source": [
    "def get_similar_players(player_name):\n",
    "    \n",
    "    player_index = [list(df_final['Player']).index(x) for x in list(df_final['Player']) if player_name in x]\n",
    "    player_index = int(player_index[0])\n",
    "    print(player_index)\n",
    "    df1 = df_final.iloc[:,5:]\n",
    "    cos = cosine_similarity(df1,df1)\n",
    "    player_cos = sorted(list(cos[player_index]))[-7:-1]\n",
    "    indexes = [list(cos[player_index]).index(x) for x in player_cos]\n",
    "    indexes.append(player_index)\n",
    "    return player_cos, df_final.iloc[indexes]"
   ]
  },
  {
   "cell_type": "code",
   "execution_count": 12,
   "metadata": {},
   "outputs": [
    {
     "name": "stdout",
     "output_type": "stream",
     "text": [
      "1420\n"
     ]
    }
   ],
   "source": [
    "value = get_similar_players('Jordan Henderson')"
   ]
  },
  {
   "cell_type": "code",
   "execution_count": null,
   "metadata": {},
   "outputs": [],
   "source": []
  },
  {
   "cell_type": "code",
   "execution_count": 13,
   "metadata": {},
   "outputs": [
    {
     "data": {
      "application/vnd.plotly.v1+json": {
       "config": {
        "plotlyServerURL": "https://plot.ly"
       },
       "data": [
        {
         "fill": "toself",
         "name": "Rúben Neves",
         "r": [
          "Rúben Neves",
          "MF",
          1.254203662675964,
          1.7646881620042882,
          1.9349928994167478,
          -0.12476960184218891,
          1.2327383638723703,
          1.6610475102604192,
          1.4626517629181641,
          3.7678192395073196,
          -0.025515549137232207,
          -0.3463610895847786,
          -0.3236398052758715,
          -0.30493968226223067,
          -0.2934811053979282,
          1.6039740958399187,
          2.0970981893552683,
          1.3464546677615294,
          -0.21271605015002024,
          2.4388273582613955,
          1.4107643922866138,
          -0.3952049565347244,
          -0.03888725746756141,
          1.7821427938880572,
          0.0028696416524239036,
          1.6588895048543806,
          2.0515325043711634,
          0.6666919959014384
         ],
         "theta": [
          "Position",
          "90s",
          "Passes Attempted",
          "Live Passes",
          "Dead",
          "Free Kick",
          "Back Pass",
          "Pass made under pressure",
          "Cross Field Pass",
          "Crosses",
          "Corner Kicks",
          "Inswinging Corner",
          "Outswinging Corner",
          "Straight corner",
          "Ground Passes",
          "Low Pass",
          "High Pass",
          "Left Foot Pass",
          "Right Foot Pass",
          "Headed Pass",
          "Throw Ins",
          "Other Parts",
          "Passes Completed",
          "Off Sides",
          "Out of bound",
          "Intercepted",
          "Passes Blocked"
         ],
         "type": "scatterpolar"
        },
        {
         "fill": "toself",
         "name": "Edmond Tapsoba",
         "r": [
          "Edmond Tapsoba",
          "DF,MF",
          1.5737926283675785,
          3.723381117548428,
          3.986881404348204,
          0.34437397242264556,
          1.8434149222473795,
          1.2245243500918488,
          2.27567596450865,
          3.4640866175988285,
          -0.6089478042039187,
          -0.3463610895847786,
          -0.3236398052758715,
          -0.30493968226223067,
          -0.2934811053979282,
          4.512751538904417,
          1.4902688629544023,
          0.9898239226566172,
          0.7342667000529522,
          4.386507220445771,
          1.2099505171041371,
          -0.2764269439788602,
          -0.295944437346479,
          4.10071319035688,
          0.0028696416524239036,
          1.4648012466953726,
          1.8041070295733754,
          0.42706961515174663
         ],
         "theta": [
          "Position",
          "90s",
          "Passes Attempted",
          "Live Passes",
          "Dead",
          "Free Kick",
          "Back Pass",
          "Pass made under pressure",
          "Cross Field Pass",
          "Crosses",
          "Corner Kicks",
          "Inswinging Corner",
          "Outswinging Corner",
          "Straight corner",
          "Ground Passes",
          "Low Pass",
          "High Pass",
          "Left Foot Pass",
          "Right Foot Pass",
          "Headed Pass",
          "Throw Ins",
          "Other Parts",
          "Passes Completed",
          "Off Sides",
          "Out of bound",
          "Intercepted",
          "Passes Blocked"
         ],
         "type": "scatterpolar"
        },
        {
         "fill": "toself",
         "name": "Dayot Upamecano",
         "r": [
          "Dayot Upamecano",
          "DF",
          1.3924042964885541,
          2.737383729910334,
          2.9889092467166343,
          -0.11332707564060758,
          1.3955854461057062,
          0.351478029754708,
          1.8564603605635557,
          2.422717628198289,
          -0.5311568368616938,
          -0.3463610895847786,
          -0.3236398052758715,
          -0.30493968226223067,
          -0.2934811053979282,
          2.9820558131884085,
          1.221863583969404,
          1.763788518416214,
          0.08117514818883331,
          3.4346998669801034,
          2.0935315679070343,
          -0.42914153155068563,
          -0.2224995288096454,
          2.931669699208038,
          1.2003711032089273,
          1.076624730377357,
          1.6391567130415166,
          0.24735282958947782
         ],
         "theta": [
          "Position",
          "90s",
          "Passes Attempted",
          "Live Passes",
          "Dead",
          "Free Kick",
          "Back Pass",
          "Pass made under pressure",
          "Cross Field Pass",
          "Crosses",
          "Corner Kicks",
          "Inswinging Corner",
          "Outswinging Corner",
          "Straight corner",
          "Ground Passes",
          "Low Pass",
          "High Pass",
          "Left Foot Pass",
          "Right Foot Pass",
          "Headed Pass",
          "Throw Ins",
          "Other Parts",
          "Passes Completed",
          "Off Sides",
          "Out of bound",
          "Intercepted",
          "Passes Blocked"
         ],
         "type": "scatterpolar"
        },
        {
         "fill": "toself",
         "name": "Thiago Alcántara",
         "r": [
          "Thiago Alcántara",
          "MF",
          0.33862446366755417,
          1.3589826601768094,
          1.5235324076626826,
          -0.30785002106749015,
          0.3370794115890237,
          2.09757067042899,
          1.195878196771286,
          2.1189850062897984,
          -0.45336586951946894,
          -0.3463610895847786,
          -0.3236398052758715,
          -0.30493968226223067,
          -0.2934811053979282,
          1.435415340329525,
          0.9884676891998402,
          0.7773630532324141,
          -0.3792543958753706,
          2.053257249797294,
          1.0091366419216605,
          -0.3952049565347244,
          -0.2224995288096454,
          1.5323304952786216,
          0.0028696416524239036,
          0.6884482140593416,
          1.474206396509658,
          0.30725842477690074
         ],
         "theta": [
          "Position",
          "90s",
          "Passes Attempted",
          "Live Passes",
          "Dead",
          "Free Kick",
          "Back Pass",
          "Pass made under pressure",
          "Cross Field Pass",
          "Crosses",
          "Corner Kicks",
          "Inswinging Corner",
          "Outswinging Corner",
          "Straight corner",
          "Ground Passes",
          "Low Pass",
          "High Pass",
          "Left Foot Pass",
          "Right Foot Pass",
          "Headed Pass",
          "Throw Ins",
          "Other Parts",
          "Passes Completed",
          "Off Sides",
          "Out of bound",
          "Intercepted",
          "Passes Blocked"
         ],
         "type": "scatterpolar"
        },
        {
         "fill": "toself",
         "name": "Thiago Mendes",
         "r": [
          "Thiago Mendes",
          "MF",
          0.8482393008514802,
          1.240929010054879,
          1.3647230950558504,
          -0.11332707564060758,
          1.2327383638723703,
          1.6610475102604192,
          1.1450641841718805,
          1.2511775151226825,
          -0.33667941850613164,
          -0.29089706200031684,
          -0.3236398052758715,
          -0.30493968226223067,
          -0.2934811053979282,
          1.3534137835947389,
          0.5216758996607125,
          0.8153024942010217,
          -0.06577045098059346,
          1.6787034301464525,
          1.2902760671771278,
          -0.3782366690267438,
          -0.1857770745412286,
          1.391811077310814,
          0.4020367955045917,
          0.5914040849798378,
          0.5669796555844352,
          -0.052175146347636835
         ],
         "theta": [
          "Position",
          "90s",
          "Passes Attempted",
          "Live Passes",
          "Dead",
          "Free Kick",
          "Back Pass",
          "Pass made under pressure",
          "Cross Field Pass",
          "Crosses",
          "Corner Kicks",
          "Inswinging Corner",
          "Outswinging Corner",
          "Straight corner",
          "Ground Passes",
          "Low Pass",
          "High Pass",
          "Left Foot Pass",
          "Right Foot Pass",
          "Headed Pass",
          "Throw Ins",
          "Other Parts",
          "Passes Completed",
          "Off Sides",
          "Out of bound",
          "Intercepted",
          "Passes Blocked"
         ],
         "type": "scatterpolar"
        },
        {
         "fill": "toself",
         "name": "Damien Da Silva",
         "r": [
          "Damien Da Silva",
          "DF",
          1.539242469914431,
          2.486311882467919,
          2.7452813239675167,
          -0.29640749486590884,
          0.7034853466140292,
          1.2245243500918488,
          0.827476605425597,
          1.9020331334980194,
          -0.45336586951946894,
          -0.3463610895847786,
          -0.3236398052758715,
          -0.30493968226223067,
          -0.2934811053979282,
          2.786163205433086,
          0.7434019996917981,
          1.5816792017668972,
          -0.4674217553770266,
          3.4501226713186672,
          2.9771126187099313,
          -0.412173244042705,
          -0.2224995288096454,
          2.695519010678806,
          -0.7954646660519117,
          1.2707129885363648,
          0.40202933905257654,
          -0.052175146347636835
         ],
         "theta": [
          "Position",
          "90s",
          "Passes Attempted",
          "Live Passes",
          "Dead",
          "Free Kick",
          "Back Pass",
          "Pass made under pressure",
          "Cross Field Pass",
          "Crosses",
          "Corner Kicks",
          "Inswinging Corner",
          "Outswinging Corner",
          "Straight corner",
          "Ground Passes",
          "Low Pass",
          "High Pass",
          "Left Foot Pass",
          "Right Foot Pass",
          "Headed Pass",
          "Throw Ins",
          "Other Parts",
          "Passes Completed",
          "Off Sides",
          "Out of bound",
          "Intercepted",
          "Passes Blocked"
         ],
         "type": "scatterpolar"
        },
        {
         "fill": "toself",
         "name": "Jordan Henderson",
         "r": [
          "Jordan Henderson",
          "MF,DF",
          0.6841260481990296,
          2.431441876073219,
          2.6496348061474926,
          -0.06755697083428228,
          1.0698912816390347,
          2.09757067042899,
          0.8401801085754483,
          2.596279126431712,
          0.16896186921832995,
          -0.17996900683139333,
          -0.18151416387453376,
          -0.1714686004413487,
          -0.2934811053979282,
          2.492324293800102,
          1.3969105050465769,
          1.8851947295157587,
          0.2673062404701072,
          2.9808287678737897,
          2.173857117980025,
          -0.3443000940107826,
          -0.1857770745412286,
          2.551096275545226,
          0.0028696416524239036,
          0.7854923431388454,
          0.731929972116294,
          0.6666919959014384
         ],
         "theta": [
          "Position",
          "90s",
          "Passes Attempted",
          "Live Passes",
          "Dead",
          "Free Kick",
          "Back Pass",
          "Pass made under pressure",
          "Cross Field Pass",
          "Crosses",
          "Corner Kicks",
          "Inswinging Corner",
          "Outswinging Corner",
          "Straight corner",
          "Ground Passes",
          "Low Pass",
          "High Pass",
          "Left Foot Pass",
          "Right Foot Pass",
          "Headed Pass",
          "Throw Ins",
          "Other Parts",
          "Passes Completed",
          "Off Sides",
          "Out of bound",
          "Intercepted",
          "Passes Blocked"
         ],
         "type": "scatterpolar"
        }
       ],
       "layout": {
        "showlegend": true,
        "template": {
         "data": {
          "bar": [
           {
            "error_x": {
             "color": "#2a3f5f"
            },
            "error_y": {
             "color": "#2a3f5f"
            },
            "marker": {
             "line": {
              "color": "#E5ECF6",
              "width": 0.5
             }
            },
            "type": "bar"
           }
          ],
          "barpolar": [
           {
            "marker": {
             "line": {
              "color": "#E5ECF6",
              "width": 0.5
             }
            },
            "type": "barpolar"
           }
          ],
          "carpet": [
           {
            "aaxis": {
             "endlinecolor": "#2a3f5f",
             "gridcolor": "white",
             "linecolor": "white",
             "minorgridcolor": "white",
             "startlinecolor": "#2a3f5f"
            },
            "baxis": {
             "endlinecolor": "#2a3f5f",
             "gridcolor": "white",
             "linecolor": "white",
             "minorgridcolor": "white",
             "startlinecolor": "#2a3f5f"
            },
            "type": "carpet"
           }
          ],
          "choropleth": [
           {
            "colorbar": {
             "outlinewidth": 0,
             "ticks": ""
            },
            "type": "choropleth"
           }
          ],
          "contour": [
           {
            "colorbar": {
             "outlinewidth": 0,
             "ticks": ""
            },
            "colorscale": [
             [
              0,
              "#0d0887"
             ],
             [
              0.1111111111111111,
              "#46039f"
             ],
             [
              0.2222222222222222,
              "#7201a8"
             ],
             [
              0.3333333333333333,
              "#9c179e"
             ],
             [
              0.4444444444444444,
              "#bd3786"
             ],
             [
              0.5555555555555556,
              "#d8576b"
             ],
             [
              0.6666666666666666,
              "#ed7953"
             ],
             [
              0.7777777777777778,
              "#fb9f3a"
             ],
             [
              0.8888888888888888,
              "#fdca26"
             ],
             [
              1,
              "#f0f921"
             ]
            ],
            "type": "contour"
           }
          ],
          "contourcarpet": [
           {
            "colorbar": {
             "outlinewidth": 0,
             "ticks": ""
            },
            "type": "contourcarpet"
           }
          ],
          "heatmap": [
           {
            "colorbar": {
             "outlinewidth": 0,
             "ticks": ""
            },
            "colorscale": [
             [
              0,
              "#0d0887"
             ],
             [
              0.1111111111111111,
              "#46039f"
             ],
             [
              0.2222222222222222,
              "#7201a8"
             ],
             [
              0.3333333333333333,
              "#9c179e"
             ],
             [
              0.4444444444444444,
              "#bd3786"
             ],
             [
              0.5555555555555556,
              "#d8576b"
             ],
             [
              0.6666666666666666,
              "#ed7953"
             ],
             [
              0.7777777777777778,
              "#fb9f3a"
             ],
             [
              0.8888888888888888,
              "#fdca26"
             ],
             [
              1,
              "#f0f921"
             ]
            ],
            "type": "heatmap"
           }
          ],
          "heatmapgl": [
           {
            "colorbar": {
             "outlinewidth": 0,
             "ticks": ""
            },
            "colorscale": [
             [
              0,
              "#0d0887"
             ],
             [
              0.1111111111111111,
              "#46039f"
             ],
             [
              0.2222222222222222,
              "#7201a8"
             ],
             [
              0.3333333333333333,
              "#9c179e"
             ],
             [
              0.4444444444444444,
              "#bd3786"
             ],
             [
              0.5555555555555556,
              "#d8576b"
             ],
             [
              0.6666666666666666,
              "#ed7953"
             ],
             [
              0.7777777777777778,
              "#fb9f3a"
             ],
             [
              0.8888888888888888,
              "#fdca26"
             ],
             [
              1,
              "#f0f921"
             ]
            ],
            "type": "heatmapgl"
           }
          ],
          "histogram": [
           {
            "marker": {
             "colorbar": {
              "outlinewidth": 0,
              "ticks": ""
             }
            },
            "type": "histogram"
           }
          ],
          "histogram2d": [
           {
            "colorbar": {
             "outlinewidth": 0,
             "ticks": ""
            },
            "colorscale": [
             [
              0,
              "#0d0887"
             ],
             [
              0.1111111111111111,
              "#46039f"
             ],
             [
              0.2222222222222222,
              "#7201a8"
             ],
             [
              0.3333333333333333,
              "#9c179e"
             ],
             [
              0.4444444444444444,
              "#bd3786"
             ],
             [
              0.5555555555555556,
              "#d8576b"
             ],
             [
              0.6666666666666666,
              "#ed7953"
             ],
             [
              0.7777777777777778,
              "#fb9f3a"
             ],
             [
              0.8888888888888888,
              "#fdca26"
             ],
             [
              1,
              "#f0f921"
             ]
            ],
            "type": "histogram2d"
           }
          ],
          "histogram2dcontour": [
           {
            "colorbar": {
             "outlinewidth": 0,
             "ticks": ""
            },
            "colorscale": [
             [
              0,
              "#0d0887"
             ],
             [
              0.1111111111111111,
              "#46039f"
             ],
             [
              0.2222222222222222,
              "#7201a8"
             ],
             [
              0.3333333333333333,
              "#9c179e"
             ],
             [
              0.4444444444444444,
              "#bd3786"
             ],
             [
              0.5555555555555556,
              "#d8576b"
             ],
             [
              0.6666666666666666,
              "#ed7953"
             ],
             [
              0.7777777777777778,
              "#fb9f3a"
             ],
             [
              0.8888888888888888,
              "#fdca26"
             ],
             [
              1,
              "#f0f921"
             ]
            ],
            "type": "histogram2dcontour"
           }
          ],
          "mesh3d": [
           {
            "colorbar": {
             "outlinewidth": 0,
             "ticks": ""
            },
            "type": "mesh3d"
           }
          ],
          "parcoords": [
           {
            "line": {
             "colorbar": {
              "outlinewidth": 0,
              "ticks": ""
             }
            },
            "type": "parcoords"
           }
          ],
          "pie": [
           {
            "automargin": true,
            "type": "pie"
           }
          ],
          "scatter": [
           {
            "marker": {
             "colorbar": {
              "outlinewidth": 0,
              "ticks": ""
             }
            },
            "type": "scatter"
           }
          ],
          "scatter3d": [
           {
            "line": {
             "colorbar": {
              "outlinewidth": 0,
              "ticks": ""
             }
            },
            "marker": {
             "colorbar": {
              "outlinewidth": 0,
              "ticks": ""
             }
            },
            "type": "scatter3d"
           }
          ],
          "scattercarpet": [
           {
            "marker": {
             "colorbar": {
              "outlinewidth": 0,
              "ticks": ""
             }
            },
            "type": "scattercarpet"
           }
          ],
          "scattergeo": [
           {
            "marker": {
             "colorbar": {
              "outlinewidth": 0,
              "ticks": ""
             }
            },
            "type": "scattergeo"
           }
          ],
          "scattergl": [
           {
            "marker": {
             "colorbar": {
              "outlinewidth": 0,
              "ticks": ""
             }
            },
            "type": "scattergl"
           }
          ],
          "scattermapbox": [
           {
            "marker": {
             "colorbar": {
              "outlinewidth": 0,
              "ticks": ""
             }
            },
            "type": "scattermapbox"
           }
          ],
          "scatterpolar": [
           {
            "marker": {
             "colorbar": {
              "outlinewidth": 0,
              "ticks": ""
             }
            },
            "type": "scatterpolar"
           }
          ],
          "scatterpolargl": [
           {
            "marker": {
             "colorbar": {
              "outlinewidth": 0,
              "ticks": ""
             }
            },
            "type": "scatterpolargl"
           }
          ],
          "scatterternary": [
           {
            "marker": {
             "colorbar": {
              "outlinewidth": 0,
              "ticks": ""
             }
            },
            "type": "scatterternary"
           }
          ],
          "surface": [
           {
            "colorbar": {
             "outlinewidth": 0,
             "ticks": ""
            },
            "colorscale": [
             [
              0,
              "#0d0887"
             ],
             [
              0.1111111111111111,
              "#46039f"
             ],
             [
              0.2222222222222222,
              "#7201a8"
             ],
             [
              0.3333333333333333,
              "#9c179e"
             ],
             [
              0.4444444444444444,
              "#bd3786"
             ],
             [
              0.5555555555555556,
              "#d8576b"
             ],
             [
              0.6666666666666666,
              "#ed7953"
             ],
             [
              0.7777777777777778,
              "#fb9f3a"
             ],
             [
              0.8888888888888888,
              "#fdca26"
             ],
             [
              1,
              "#f0f921"
             ]
            ],
            "type": "surface"
           }
          ],
          "table": [
           {
            "cells": {
             "fill": {
              "color": "#EBF0F8"
             },
             "line": {
              "color": "white"
             }
            },
            "header": {
             "fill": {
              "color": "#C8D4E3"
             },
             "line": {
              "color": "white"
             }
            },
            "type": "table"
           }
          ]
         },
         "layout": {
          "annotationdefaults": {
           "arrowcolor": "#2a3f5f",
           "arrowhead": 0,
           "arrowwidth": 1
          },
          "autotypenumbers": "strict",
          "coloraxis": {
           "colorbar": {
            "outlinewidth": 0,
            "ticks": ""
           }
          },
          "colorscale": {
           "diverging": [
            [
             0,
             "#8e0152"
            ],
            [
             0.1,
             "#c51b7d"
            ],
            [
             0.2,
             "#de77ae"
            ],
            [
             0.3,
             "#f1b6da"
            ],
            [
             0.4,
             "#fde0ef"
            ],
            [
             0.5,
             "#f7f7f7"
            ],
            [
             0.6,
             "#e6f5d0"
            ],
            [
             0.7,
             "#b8e186"
            ],
            [
             0.8,
             "#7fbc41"
            ],
            [
             0.9,
             "#4d9221"
            ],
            [
             1,
             "#276419"
            ]
           ],
           "sequential": [
            [
             0,
             "#0d0887"
            ],
            [
             0.1111111111111111,
             "#46039f"
            ],
            [
             0.2222222222222222,
             "#7201a8"
            ],
            [
             0.3333333333333333,
             "#9c179e"
            ],
            [
             0.4444444444444444,
             "#bd3786"
            ],
            [
             0.5555555555555556,
             "#d8576b"
            ],
            [
             0.6666666666666666,
             "#ed7953"
            ],
            [
             0.7777777777777778,
             "#fb9f3a"
            ],
            [
             0.8888888888888888,
             "#fdca26"
            ],
            [
             1,
             "#f0f921"
            ]
           ],
           "sequentialminus": [
            [
             0,
             "#0d0887"
            ],
            [
             0.1111111111111111,
             "#46039f"
            ],
            [
             0.2222222222222222,
             "#7201a8"
            ],
            [
             0.3333333333333333,
             "#9c179e"
            ],
            [
             0.4444444444444444,
             "#bd3786"
            ],
            [
             0.5555555555555556,
             "#d8576b"
            ],
            [
             0.6666666666666666,
             "#ed7953"
            ],
            [
             0.7777777777777778,
             "#fb9f3a"
            ],
            [
             0.8888888888888888,
             "#fdca26"
            ],
            [
             1,
             "#f0f921"
            ]
           ]
          },
          "colorway": [
           "#636efa",
           "#EF553B",
           "#00cc96",
           "#ab63fa",
           "#FFA15A",
           "#19d3f3",
           "#FF6692",
           "#B6E880",
           "#FF97FF",
           "#FECB52"
          ],
          "font": {
           "color": "#2a3f5f"
          },
          "geo": {
           "bgcolor": "white",
           "lakecolor": "white",
           "landcolor": "#E5ECF6",
           "showlakes": true,
           "showland": true,
           "subunitcolor": "white"
          },
          "hoverlabel": {
           "align": "left"
          },
          "hovermode": "closest",
          "mapbox": {
           "style": "light"
          },
          "paper_bgcolor": "white",
          "plot_bgcolor": "#E5ECF6",
          "polar": {
           "angularaxis": {
            "gridcolor": "white",
            "linecolor": "white",
            "ticks": ""
           },
           "bgcolor": "#E5ECF6",
           "radialaxis": {
            "gridcolor": "white",
            "linecolor": "white",
            "ticks": ""
           }
          },
          "scene": {
           "xaxis": {
            "backgroundcolor": "#E5ECF6",
            "gridcolor": "white",
            "gridwidth": 2,
            "linecolor": "white",
            "showbackground": true,
            "ticks": "",
            "zerolinecolor": "white"
           },
           "yaxis": {
            "backgroundcolor": "#E5ECF6",
            "gridcolor": "white",
            "gridwidth": 2,
            "linecolor": "white",
            "showbackground": true,
            "ticks": "",
            "zerolinecolor": "white"
           },
           "zaxis": {
            "backgroundcolor": "#E5ECF6",
            "gridcolor": "white",
            "gridwidth": 2,
            "linecolor": "white",
            "showbackground": true,
            "ticks": "",
            "zerolinecolor": "white"
           }
          },
          "shapedefaults": {
           "line": {
            "color": "#2a3f5f"
           }
          },
          "ternary": {
           "aaxis": {
            "gridcolor": "white",
            "linecolor": "white",
            "ticks": ""
           },
           "baxis": {
            "gridcolor": "white",
            "linecolor": "white",
            "ticks": ""
           },
           "bgcolor": "#E5ECF6",
           "caxis": {
            "gridcolor": "white",
            "linecolor": "white",
            "ticks": ""
           }
          },
          "title": {
           "x": 0.05
          },
          "xaxis": {
           "automargin": true,
           "gridcolor": "white",
           "linecolor": "white",
           "ticks": "",
           "title": {
            "standoff": 15
           },
           "zerolinecolor": "white",
           "zerolinewidth": 2
          },
          "yaxis": {
           "automargin": true,
           "gridcolor": "white",
           "linecolor": "white",
           "ticks": "",
           "title": {
            "standoff": 15
           },
           "zerolinecolor": "white",
           "zerolinewidth": 2
          }
         }
        }
       }
      },
      "text/html": [
       "<div>                            <div id=\"3bb95011-bab0-41d1-81cf-a333596c5c89\" class=\"plotly-graph-div\" style=\"height:525px; width:100%;\"></div>            <script type=\"text/javascript\">                require([\"plotly\"], function(Plotly) {                    window.PLOTLYENV=window.PLOTLYENV || {};                                    if (document.getElementById(\"3bb95011-bab0-41d1-81cf-a333596c5c89\")) {                    Plotly.newPlot(                        \"3bb95011-bab0-41d1-81cf-a333596c5c89\",                        [{\"fill\": \"toself\", \"name\": \"R\\u00faben Neves\", \"r\": [\"R\\u00faben Neves\", \"MF\", 1.254203662675964, 1.7646881620042882, 1.9349928994167478, -0.12476960184218891, 1.2327383638723703, 1.6610475102604192, 1.4626517629181641, 3.7678192395073196, -0.025515549137232207, -0.3463610895847786, -0.3236398052758715, -0.30493968226223067, -0.2934811053979282, 1.6039740958399187, 2.0970981893552683, 1.3464546677615294, -0.21271605015002024, 2.4388273582613955, 1.4107643922866138, -0.3952049565347244, -0.03888725746756141, 1.7821427938880572, 0.0028696416524239036, 1.6588895048543806, 2.0515325043711634, 0.6666919959014384], \"theta\": [\"Position\", \"90s\", \"Passes Attempted\", \"Live Passes\", \"Dead\", \"Free Kick\", \"Back Pass\", \"Pass made under pressure\", \"Cross Field Pass\", \"Crosses\", \"Corner Kicks\", \"Inswinging Corner\", \"Outswinging Corner\", \"Straight corner\", \"Ground Passes\", \"Low Pass\", \"High Pass\", \"Left Foot Pass\", \"Right Foot Pass\", \"Headed Pass\", \"Throw Ins\", \"Other Parts\", \"Passes Completed\", \"Off Sides\", \"Out of bound\", \"Intercepted\", \"Passes Blocked\"], \"type\": \"scatterpolar\"}, {\"fill\": \"toself\", \"name\": \"Edmond Tapsoba\", \"r\": [\"Edmond Tapsoba\", \"DF,MF\", 1.5737926283675785, 3.723381117548428, 3.986881404348204, 0.34437397242264556, 1.8434149222473795, 1.2245243500918488, 2.27567596450865, 3.4640866175988285, -0.6089478042039187, -0.3463610895847786, -0.3236398052758715, -0.30493968226223067, -0.2934811053979282, 4.512751538904417, 1.4902688629544023, 0.9898239226566172, 0.7342667000529522, 4.386507220445771, 1.2099505171041371, -0.2764269439788602, -0.295944437346479, 4.10071319035688, 0.0028696416524239036, 1.4648012466953726, 1.8041070295733754, 0.42706961515174663], \"theta\": [\"Position\", \"90s\", \"Passes Attempted\", \"Live Passes\", \"Dead\", \"Free Kick\", \"Back Pass\", \"Pass made under pressure\", \"Cross Field Pass\", \"Crosses\", \"Corner Kicks\", \"Inswinging Corner\", \"Outswinging Corner\", \"Straight corner\", \"Ground Passes\", \"Low Pass\", \"High Pass\", \"Left Foot Pass\", \"Right Foot Pass\", \"Headed Pass\", \"Throw Ins\", \"Other Parts\", \"Passes Completed\", \"Off Sides\", \"Out of bound\", \"Intercepted\", \"Passes Blocked\"], \"type\": \"scatterpolar\"}, {\"fill\": \"toself\", \"name\": \"Dayot Upamecano\", \"r\": [\"Dayot Upamecano\", \"DF\", 1.3924042964885541, 2.737383729910334, 2.9889092467166343, -0.11332707564060758, 1.3955854461057062, 0.351478029754708, 1.8564603605635557, 2.422717628198289, -0.5311568368616938, -0.3463610895847786, -0.3236398052758715, -0.30493968226223067, -0.2934811053979282, 2.9820558131884085, 1.221863583969404, 1.763788518416214, 0.08117514818883331, 3.4346998669801034, 2.0935315679070343, -0.42914153155068563, -0.2224995288096454, 2.931669699208038, 1.2003711032089273, 1.076624730377357, 1.6391567130415166, 0.24735282958947782], \"theta\": [\"Position\", \"90s\", \"Passes Attempted\", \"Live Passes\", \"Dead\", \"Free Kick\", \"Back Pass\", \"Pass made under pressure\", \"Cross Field Pass\", \"Crosses\", \"Corner Kicks\", \"Inswinging Corner\", \"Outswinging Corner\", \"Straight corner\", \"Ground Passes\", \"Low Pass\", \"High Pass\", \"Left Foot Pass\", \"Right Foot Pass\", \"Headed Pass\", \"Throw Ins\", \"Other Parts\", \"Passes Completed\", \"Off Sides\", \"Out of bound\", \"Intercepted\", \"Passes Blocked\"], \"type\": \"scatterpolar\"}, {\"fill\": \"toself\", \"name\": \"Thiago Alc\\u00e1ntara\", \"r\": [\"Thiago Alc\\u00e1ntara\", \"MF\", 0.33862446366755417, 1.3589826601768094, 1.5235324076626826, -0.30785002106749015, 0.3370794115890237, 2.09757067042899, 1.195878196771286, 2.1189850062897984, -0.45336586951946894, -0.3463610895847786, -0.3236398052758715, -0.30493968226223067, -0.2934811053979282, 1.435415340329525, 0.9884676891998402, 0.7773630532324141, -0.3792543958753706, 2.053257249797294, 1.0091366419216605, -0.3952049565347244, -0.2224995288096454, 1.5323304952786216, 0.0028696416524239036, 0.6884482140593416, 1.474206396509658, 0.30725842477690074], \"theta\": [\"Position\", \"90s\", \"Passes Attempted\", \"Live Passes\", \"Dead\", \"Free Kick\", \"Back Pass\", \"Pass made under pressure\", \"Cross Field Pass\", \"Crosses\", \"Corner Kicks\", \"Inswinging Corner\", \"Outswinging Corner\", \"Straight corner\", \"Ground Passes\", \"Low Pass\", \"High Pass\", \"Left Foot Pass\", \"Right Foot Pass\", \"Headed Pass\", \"Throw Ins\", \"Other Parts\", \"Passes Completed\", \"Off Sides\", \"Out of bound\", \"Intercepted\", \"Passes Blocked\"], \"type\": \"scatterpolar\"}, {\"fill\": \"toself\", \"name\": \"Thiago Mendes\", \"r\": [\"Thiago Mendes\", \"MF\", 0.8482393008514802, 1.240929010054879, 1.3647230950558504, -0.11332707564060758, 1.2327383638723703, 1.6610475102604192, 1.1450641841718805, 1.2511775151226825, -0.33667941850613164, -0.29089706200031684, -0.3236398052758715, -0.30493968226223067, -0.2934811053979282, 1.3534137835947389, 0.5216758996607125, 0.8153024942010217, -0.06577045098059346, 1.6787034301464525, 1.2902760671771278, -0.3782366690267438, -0.1857770745412286, 1.391811077310814, 0.4020367955045917, 0.5914040849798378, 0.5669796555844352, -0.052175146347636835], \"theta\": [\"Position\", \"90s\", \"Passes Attempted\", \"Live Passes\", \"Dead\", \"Free Kick\", \"Back Pass\", \"Pass made under pressure\", \"Cross Field Pass\", \"Crosses\", \"Corner Kicks\", \"Inswinging Corner\", \"Outswinging Corner\", \"Straight corner\", \"Ground Passes\", \"Low Pass\", \"High Pass\", \"Left Foot Pass\", \"Right Foot Pass\", \"Headed Pass\", \"Throw Ins\", \"Other Parts\", \"Passes Completed\", \"Off Sides\", \"Out of bound\", \"Intercepted\", \"Passes Blocked\"], \"type\": \"scatterpolar\"}, {\"fill\": \"toself\", \"name\": \"Damien Da Silva\", \"r\": [\"Damien Da Silva\", \"DF\", 1.539242469914431, 2.486311882467919, 2.7452813239675167, -0.29640749486590884, 0.7034853466140292, 1.2245243500918488, 0.827476605425597, 1.9020331334980194, -0.45336586951946894, -0.3463610895847786, -0.3236398052758715, -0.30493968226223067, -0.2934811053979282, 2.786163205433086, 0.7434019996917981, 1.5816792017668972, -0.4674217553770266, 3.4501226713186672, 2.9771126187099313, -0.412173244042705, -0.2224995288096454, 2.695519010678806, -0.7954646660519117, 1.2707129885363648, 0.40202933905257654, -0.052175146347636835], \"theta\": [\"Position\", \"90s\", \"Passes Attempted\", \"Live Passes\", \"Dead\", \"Free Kick\", \"Back Pass\", \"Pass made under pressure\", \"Cross Field Pass\", \"Crosses\", \"Corner Kicks\", \"Inswinging Corner\", \"Outswinging Corner\", \"Straight corner\", \"Ground Passes\", \"Low Pass\", \"High Pass\", \"Left Foot Pass\", \"Right Foot Pass\", \"Headed Pass\", \"Throw Ins\", \"Other Parts\", \"Passes Completed\", \"Off Sides\", \"Out of bound\", \"Intercepted\", \"Passes Blocked\"], \"type\": \"scatterpolar\"}, {\"fill\": \"toself\", \"name\": \"Jordan Henderson\", \"r\": [\"Jordan Henderson\", \"MF,DF\", 0.6841260481990296, 2.431441876073219, 2.6496348061474926, -0.06755697083428228, 1.0698912816390347, 2.09757067042899, 0.8401801085754483, 2.596279126431712, 0.16896186921832995, -0.17996900683139333, -0.18151416387453376, -0.1714686004413487, -0.2934811053979282, 2.492324293800102, 1.3969105050465769, 1.8851947295157587, 0.2673062404701072, 2.9808287678737897, 2.173857117980025, -0.3443000940107826, -0.1857770745412286, 2.551096275545226, 0.0028696416524239036, 0.7854923431388454, 0.731929972116294, 0.6666919959014384], \"theta\": [\"Position\", \"90s\", \"Passes Attempted\", \"Live Passes\", \"Dead\", \"Free Kick\", \"Back Pass\", \"Pass made under pressure\", \"Cross Field Pass\", \"Crosses\", \"Corner Kicks\", \"Inswinging Corner\", \"Outswinging Corner\", \"Straight corner\", \"Ground Passes\", \"Low Pass\", \"High Pass\", \"Left Foot Pass\", \"Right Foot Pass\", \"Headed Pass\", \"Throw Ins\", \"Other Parts\", \"Passes Completed\", \"Off Sides\", \"Out of bound\", \"Intercepted\", \"Passes Blocked\"], \"type\": \"scatterpolar\"}],                        {\"showlegend\": true, \"template\": {\"data\": {\"bar\": [{\"error_x\": {\"color\": \"#2a3f5f\"}, \"error_y\": {\"color\": \"#2a3f5f\"}, \"marker\": {\"line\": {\"color\": \"#E5ECF6\", \"width\": 0.5}}, \"type\": \"bar\"}], \"barpolar\": [{\"marker\": {\"line\": {\"color\": \"#E5ECF6\", \"width\": 0.5}}, \"type\": \"barpolar\"}], \"carpet\": [{\"aaxis\": {\"endlinecolor\": \"#2a3f5f\", \"gridcolor\": \"white\", \"linecolor\": \"white\", \"minorgridcolor\": \"white\", \"startlinecolor\": \"#2a3f5f\"}, \"baxis\": {\"endlinecolor\": \"#2a3f5f\", \"gridcolor\": \"white\", \"linecolor\": \"white\", \"minorgridcolor\": \"white\", \"startlinecolor\": \"#2a3f5f\"}, \"type\": \"carpet\"}], \"choropleth\": [{\"colorbar\": {\"outlinewidth\": 0, \"ticks\": \"\"}, \"type\": \"choropleth\"}], \"contour\": [{\"colorbar\": {\"outlinewidth\": 0, \"ticks\": \"\"}, \"colorscale\": [[0.0, \"#0d0887\"], [0.1111111111111111, \"#46039f\"], [0.2222222222222222, \"#7201a8\"], [0.3333333333333333, \"#9c179e\"], [0.4444444444444444, \"#bd3786\"], [0.5555555555555556, \"#d8576b\"], [0.6666666666666666, \"#ed7953\"], [0.7777777777777778, \"#fb9f3a\"], [0.8888888888888888, \"#fdca26\"], [1.0, \"#f0f921\"]], \"type\": \"contour\"}], \"contourcarpet\": [{\"colorbar\": {\"outlinewidth\": 0, \"ticks\": \"\"}, \"type\": \"contourcarpet\"}], \"heatmap\": [{\"colorbar\": {\"outlinewidth\": 0, \"ticks\": \"\"}, \"colorscale\": [[0.0, \"#0d0887\"], [0.1111111111111111, \"#46039f\"], [0.2222222222222222, \"#7201a8\"], [0.3333333333333333, \"#9c179e\"], [0.4444444444444444, \"#bd3786\"], [0.5555555555555556, \"#d8576b\"], [0.6666666666666666, \"#ed7953\"], [0.7777777777777778, \"#fb9f3a\"], [0.8888888888888888, \"#fdca26\"], [1.0, \"#f0f921\"]], \"type\": \"heatmap\"}], \"heatmapgl\": [{\"colorbar\": {\"outlinewidth\": 0, \"ticks\": \"\"}, \"colorscale\": [[0.0, \"#0d0887\"], [0.1111111111111111, \"#46039f\"], [0.2222222222222222, \"#7201a8\"], [0.3333333333333333, \"#9c179e\"], [0.4444444444444444, \"#bd3786\"], [0.5555555555555556, \"#d8576b\"], [0.6666666666666666, \"#ed7953\"], [0.7777777777777778, \"#fb9f3a\"], [0.8888888888888888, \"#fdca26\"], [1.0, \"#f0f921\"]], \"type\": \"heatmapgl\"}], \"histogram\": [{\"marker\": {\"colorbar\": {\"outlinewidth\": 0, \"ticks\": \"\"}}, \"type\": \"histogram\"}], \"histogram2d\": [{\"colorbar\": {\"outlinewidth\": 0, \"ticks\": \"\"}, \"colorscale\": [[0.0, \"#0d0887\"], [0.1111111111111111, \"#46039f\"], [0.2222222222222222, \"#7201a8\"], [0.3333333333333333, \"#9c179e\"], [0.4444444444444444, \"#bd3786\"], [0.5555555555555556, \"#d8576b\"], [0.6666666666666666, \"#ed7953\"], [0.7777777777777778, \"#fb9f3a\"], [0.8888888888888888, \"#fdca26\"], [1.0, \"#f0f921\"]], \"type\": \"histogram2d\"}], \"histogram2dcontour\": [{\"colorbar\": {\"outlinewidth\": 0, \"ticks\": \"\"}, \"colorscale\": [[0.0, \"#0d0887\"], [0.1111111111111111, \"#46039f\"], [0.2222222222222222, \"#7201a8\"], [0.3333333333333333, \"#9c179e\"], [0.4444444444444444, \"#bd3786\"], [0.5555555555555556, \"#d8576b\"], [0.6666666666666666, \"#ed7953\"], [0.7777777777777778, \"#fb9f3a\"], [0.8888888888888888, \"#fdca26\"], [1.0, \"#f0f921\"]], \"type\": \"histogram2dcontour\"}], \"mesh3d\": [{\"colorbar\": {\"outlinewidth\": 0, \"ticks\": \"\"}, \"type\": \"mesh3d\"}], \"parcoords\": [{\"line\": {\"colorbar\": {\"outlinewidth\": 0, \"ticks\": \"\"}}, \"type\": \"parcoords\"}], \"pie\": [{\"automargin\": true, \"type\": \"pie\"}], \"scatter\": [{\"marker\": {\"colorbar\": {\"outlinewidth\": 0, \"ticks\": \"\"}}, \"type\": \"scatter\"}], \"scatter3d\": [{\"line\": {\"colorbar\": {\"outlinewidth\": 0, \"ticks\": \"\"}}, \"marker\": {\"colorbar\": {\"outlinewidth\": 0, \"ticks\": \"\"}}, \"type\": \"scatter3d\"}], \"scattercarpet\": [{\"marker\": {\"colorbar\": {\"outlinewidth\": 0, \"ticks\": \"\"}}, \"type\": \"scattercarpet\"}], \"scattergeo\": [{\"marker\": {\"colorbar\": {\"outlinewidth\": 0, \"ticks\": \"\"}}, \"type\": \"scattergeo\"}], \"scattergl\": [{\"marker\": {\"colorbar\": {\"outlinewidth\": 0, \"ticks\": \"\"}}, \"type\": \"scattergl\"}], \"scattermapbox\": [{\"marker\": {\"colorbar\": {\"outlinewidth\": 0, \"ticks\": \"\"}}, \"type\": \"scattermapbox\"}], \"scatterpolar\": [{\"marker\": {\"colorbar\": {\"outlinewidth\": 0, \"ticks\": \"\"}}, \"type\": \"scatterpolar\"}], \"scatterpolargl\": [{\"marker\": {\"colorbar\": {\"outlinewidth\": 0, \"ticks\": \"\"}}, \"type\": \"scatterpolargl\"}], \"scatterternary\": [{\"marker\": {\"colorbar\": {\"outlinewidth\": 0, \"ticks\": \"\"}}, \"type\": \"scatterternary\"}], \"surface\": [{\"colorbar\": {\"outlinewidth\": 0, \"ticks\": \"\"}, \"colorscale\": [[0.0, \"#0d0887\"], [0.1111111111111111, \"#46039f\"], [0.2222222222222222, \"#7201a8\"], [0.3333333333333333, \"#9c179e\"], [0.4444444444444444, \"#bd3786\"], [0.5555555555555556, \"#d8576b\"], [0.6666666666666666, \"#ed7953\"], [0.7777777777777778, \"#fb9f3a\"], [0.8888888888888888, \"#fdca26\"], [1.0, \"#f0f921\"]], \"type\": \"surface\"}], \"table\": [{\"cells\": {\"fill\": {\"color\": \"#EBF0F8\"}, \"line\": {\"color\": \"white\"}}, \"header\": {\"fill\": {\"color\": \"#C8D4E3\"}, \"line\": {\"color\": \"white\"}}, \"type\": \"table\"}]}, \"layout\": {\"annotationdefaults\": {\"arrowcolor\": \"#2a3f5f\", \"arrowhead\": 0, \"arrowwidth\": 1}, \"autotypenumbers\": \"strict\", \"coloraxis\": {\"colorbar\": {\"outlinewidth\": 0, \"ticks\": \"\"}}, \"colorscale\": {\"diverging\": [[0, \"#8e0152\"], [0.1, \"#c51b7d\"], [0.2, \"#de77ae\"], [0.3, \"#f1b6da\"], [0.4, \"#fde0ef\"], [0.5, \"#f7f7f7\"], [0.6, \"#e6f5d0\"], [0.7, \"#b8e186\"], [0.8, \"#7fbc41\"], [0.9, \"#4d9221\"], [1, \"#276419\"]], \"sequential\": [[0.0, \"#0d0887\"], [0.1111111111111111, \"#46039f\"], [0.2222222222222222, \"#7201a8\"], [0.3333333333333333, \"#9c179e\"], [0.4444444444444444, \"#bd3786\"], [0.5555555555555556, \"#d8576b\"], [0.6666666666666666, \"#ed7953\"], [0.7777777777777778, \"#fb9f3a\"], [0.8888888888888888, \"#fdca26\"], [1.0, \"#f0f921\"]], \"sequentialminus\": [[0.0, \"#0d0887\"], [0.1111111111111111, \"#46039f\"], [0.2222222222222222, \"#7201a8\"], [0.3333333333333333, \"#9c179e\"], [0.4444444444444444, \"#bd3786\"], [0.5555555555555556, \"#d8576b\"], [0.6666666666666666, \"#ed7953\"], [0.7777777777777778, \"#fb9f3a\"], [0.8888888888888888, \"#fdca26\"], [1.0, \"#f0f921\"]]}, \"colorway\": [\"#636efa\", \"#EF553B\", \"#00cc96\", \"#ab63fa\", \"#FFA15A\", \"#19d3f3\", \"#FF6692\", \"#B6E880\", \"#FF97FF\", \"#FECB52\"], \"font\": {\"color\": \"#2a3f5f\"}, \"geo\": {\"bgcolor\": \"white\", \"lakecolor\": \"white\", \"landcolor\": \"#E5ECF6\", \"showlakes\": true, \"showland\": true, \"subunitcolor\": \"white\"}, \"hoverlabel\": {\"align\": \"left\"}, \"hovermode\": \"closest\", \"mapbox\": {\"style\": \"light\"}, \"paper_bgcolor\": \"white\", \"plot_bgcolor\": \"#E5ECF6\", \"polar\": {\"angularaxis\": {\"gridcolor\": \"white\", \"linecolor\": \"white\", \"ticks\": \"\"}, \"bgcolor\": \"#E5ECF6\", \"radialaxis\": {\"gridcolor\": \"white\", \"linecolor\": \"white\", \"ticks\": \"\"}}, \"scene\": {\"xaxis\": {\"backgroundcolor\": \"#E5ECF6\", \"gridcolor\": \"white\", \"gridwidth\": 2, \"linecolor\": \"white\", \"showbackground\": true, \"ticks\": \"\", \"zerolinecolor\": \"white\"}, \"yaxis\": {\"backgroundcolor\": \"#E5ECF6\", \"gridcolor\": \"white\", \"gridwidth\": 2, \"linecolor\": \"white\", \"showbackground\": true, \"ticks\": \"\", \"zerolinecolor\": \"white\"}, \"zaxis\": {\"backgroundcolor\": \"#E5ECF6\", \"gridcolor\": \"white\", \"gridwidth\": 2, \"linecolor\": \"white\", \"showbackground\": true, \"ticks\": \"\", \"zerolinecolor\": \"white\"}}, \"shapedefaults\": {\"line\": {\"color\": \"#2a3f5f\"}}, \"ternary\": {\"aaxis\": {\"gridcolor\": \"white\", \"linecolor\": \"white\", \"ticks\": \"\"}, \"baxis\": {\"gridcolor\": \"white\", \"linecolor\": \"white\", \"ticks\": \"\"}, \"bgcolor\": \"#E5ECF6\", \"caxis\": {\"gridcolor\": \"white\", \"linecolor\": \"white\", \"ticks\": \"\"}}, \"title\": {\"x\": 0.05}, \"xaxis\": {\"automargin\": true, \"gridcolor\": \"white\", \"linecolor\": \"white\", \"ticks\": \"\", \"title\": {\"standoff\": 15}, \"zerolinecolor\": \"white\", \"zerolinewidth\": 2}, \"yaxis\": {\"automargin\": true, \"gridcolor\": \"white\", \"linecolor\": \"white\", \"ticks\": \"\", \"title\": {\"standoff\": 15}, \"zerolinecolor\": \"white\", \"zerolinewidth\": 2}}}},                        {\"responsive\": true}                    ).then(function(){\n",
       "                            \n",
       "var gd = document.getElementById('3bb95011-bab0-41d1-81cf-a333596c5c89');\n",
       "var x = new MutationObserver(function (mutations, observer) {{\n",
       "        var display = window.getComputedStyle(gd).display;\n",
       "        if (!display || display === 'none') {{\n",
       "            console.log([gd, 'removed!']);\n",
       "            Plotly.purge(gd);\n",
       "            observer.disconnect();\n",
       "        }}\n",
       "}});\n",
       "\n",
       "// Listen for the removal of the full notebook cells\n",
       "var notebookContainer = gd.closest('#notebook-container');\n",
       "if (notebookContainer) {{\n",
       "    x.observe(notebookContainer, {childList: true});\n",
       "}}\n",
       "\n",
       "// Listen for the clearing of the current output cell\n",
       "var outputEl = gd.closest('.output');\n",
       "if (outputEl) {{\n",
       "    x.observe(outputEl, {childList: true});\n",
       "}}\n",
       "\n",
       "                        })                };                });            </script>        </div>"
      ]
     },
     "metadata": {},
     "output_type": "display_data"
    }
   ],
   "source": [
    "categories = ['Position','90s','Passes Attempted',\n",
    "                   'Live Passes','Dead','Free Kick',\n",
    "                   'Back Pass','Pass made under pressure','Cross Field Pass',\n",
    "                   'Crosses','Corner Kicks','Inswinging Corner','Outswinging Corner',\n",
    "                   'Straight corner','Ground Passes','Low Pass','High Pass','Left Foot Pass','Right Foot Pass','Headed Pass',\n",
    "                   'Throw Ins','Other Parts','Passes Completed','Off Sides','Out of bound','Intercepted','Passes Blocked']\n",
    "\n",
    "\n",
    "\n",
    "fig = go.Figure()\n",
    "r = []\n",
    "for i in range(7):\n",
    "    \n",
    "    data = np.array(value[1].iloc[i])\n",
    "    \n",
    "    fig.add_trace(go.Scatterpolar(\n",
    "      r=data,     \n",
    "      theta=categories,\n",
    "      fill='toself',\n",
    "      name=value[1]['Player'].iloc[i]\n",
    "    ))\n",
    "\n",
    "\n",
    "fig.update_layout(\n",
    "  \n",
    "  showlegend=True\n",
    ")\n",
    "\n",
    "fig.show()"
   ]
  },
  {
   "cell_type": "code",
   "execution_count": null,
   "metadata": {},
   "outputs": [],
   "source": []
  }
 ],
 "metadata": {
  "kernelspec": {
   "display_name": "Python 3",
   "language": "python",
   "name": "python3"
  },
  "language_info": {
   "codemirror_mode": {
    "name": "ipython",
    "version": 3
   },
   "file_extension": ".py",
   "mimetype": "text/x-python",
   "name": "python",
   "nbconvert_exporter": "python",
   "pygments_lexer": "ipython3",
   "version": "3.8.5"
  }
 },
 "nbformat": 4,
 "nbformat_minor": 4
}
