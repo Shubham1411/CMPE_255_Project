{
 "cells": [
  {
   "cell_type": "code",
   "execution_count": 12,
   "metadata": {},
   "outputs": [],
   "source": [
    "import numpy as np\n",
    "import pandas as pd\n",
    "import os\n",
    "from difflib import SequenceMatcher\n",
    "import xlwt\n",
    "from pandas import ExcelWriter\n",
    "from sklearn.metrics.pairwise import cosine_similarity \n",
    "\n",
    "import plotly.graph_objects as go"
   ]
  },
  {
   "cell_type": "markdown",
   "metadata": {},
   "source": [
    "The code commented below is for merging the files. As the files are already merged, I commented the code. "
   ]
  },
  {
   "cell_type": "code",
   "execution_count": 36,
   "metadata": {},
   "outputs": [
    {
     "name": "stdout",
     "output_type": "stream",
     "text": [
      "D:\\255\\project\\20-21\n"
     ]
    }
   ],
   "source": [
    "#cwd = os.getcwd()\n",
    "#path = os.walk(\".\")\n",
    "\n",
    "#print(cwd)"
   ]
  },
  {
   "cell_type": "code",
   "execution_count": 37,
   "metadata": {},
   "outputs": [],
   "source": [
    "#goal_shot_creation = []\n",
    "#goal_shot_creation = pd.DataFrame()\n",
    "\n",
    "#for directories in os.listdir(cwd):\n",
    "#    #print(directories)\n",
    "#    if directories.endswith('.ipynb'):\n",
    "#        continue\n",
    "#    if directories.endswith('.csv'):\n",
    "#        continue\n",
    "#        \n",
    "#    else:\n",
    "#        \n",
    "#        for file in os.listdir(directories):\n",
    "#           # print(file)\n",
    "#           if file.startswith('goal_shot_creation.xls'):\n",
    "#              #  os.rename(os.path.join(directories,file),os.path.join(directories,'aa_std_stats.xls'))    \n",
    "#                data = pd.read_html(os.path.join(directories,file),encoding = 'utf-8')\n",
    "#                #print(data[0])\n",
    "#                data = pd.DataFrame(data[0])\n",
    "#                data.columns = data.columns.droplevel()\n",
    "#                data['club'] = directories\n",
    "#                #print(data)\n",
    "#                goal_shot_creation = goal_shot_creation.append(data,ignore_index = True)\n",
    "#              # print(\"found\")"
   ]
  },
  {
   "cell_type": "code",
   "execution_count": 38,
   "metadata": {},
   "outputs": [],
   "source": [
    "#goal_shot_creation.to_csv('20-21_goal_shot_creation.csv')"
   ]
  },
  {
   "cell_type": "code",
   "execution_count": null,
   "metadata": {},
   "outputs": [],
   "source": []
  },
  {
   "cell_type": "code",
   "execution_count": null,
   "metadata": {},
   "outputs": [],
   "source": []
  },
  {
   "cell_type": "code",
   "execution_count": 40,
   "metadata": {},
   "outputs": [],
   "source": [
    "goal_shot_creation = pd.read_csv('20-21_goal_shot_creation.csv')"
   ]
  },
  {
   "cell_type": "code",
   "execution_count": 41,
   "metadata": {},
   "outputs": [
    {
     "data": {
      "text/plain": [
       "Unnamed: 0      0\n",
       "Player          0\n",
       "Nation          2\n",
       "Pos             2\n",
       "Age             1\n",
       "90s             0\n",
       "SCA           148\n",
       "SCA90         148\n",
       "PassLive      148\n",
       "PassDead      148\n",
       "Drib          148\n",
       "Sh            148\n",
       "Fld           148\n",
       "Def           148\n",
       "GCA           148\n",
       "GCA90         148\n",
       "PassLive.1    148\n",
       "PassDead.1    148\n",
       "Drib.1        148\n",
       "Sh.1          148\n",
       "Fld.1         148\n",
       "Def.1         148\n",
       "OG            148\n",
       "Matches         2\n",
       "club            0\n",
       "dtype: int64"
      ]
     },
     "execution_count": 41,
     "metadata": {},
     "output_type": "execute_result"
    }
   ],
   "source": [
    "goal_shot_creation.isnull().sum()"
   ]
  },
  {
   "cell_type": "code",
   "execution_count": 42,
   "metadata": {},
   "outputs": [],
   "source": [
    "goal_shot_creation.dropna(inplace=True)"
   ]
  },
  {
   "cell_type": "code",
   "execution_count": 43,
   "metadata": {},
   "outputs": [],
   "source": [
    "df_final = goal_shot_creation.drop(columns=['Matches','club','Nation','Age','Unnamed: 0','OG'])"
   ]
  },
  {
   "cell_type": "code",
   "execution_count": 44,
   "metadata": {},
   "outputs": [
    {
     "data": {
      "text/plain": [
       "Player        0\n",
       "Pos           0\n",
       "90s           0\n",
       "SCA           0\n",
       "SCA90         0\n",
       "PassLive      0\n",
       "PassDead      0\n",
       "Drib          0\n",
       "Sh            0\n",
       "Fld           0\n",
       "Def           0\n",
       "GCA           0\n",
       "GCA90         0\n",
       "PassLive.1    0\n",
       "PassDead.1    0\n",
       "Drib.1        0\n",
       "Sh.1          0\n",
       "Fld.1         0\n",
       "Def.1         0\n",
       "dtype: int64"
      ]
     },
     "execution_count": 44,
     "metadata": {},
     "output_type": "execute_result"
    }
   ],
   "source": [
    "df_final.isnull().sum()"
   ]
  },
  {
   "cell_type": "code",
   "execution_count": 45,
   "metadata": {},
   "outputs": [],
   "source": [
    "df_final.columns = ['Player','Position','90s','Shot Creation Action',\n",
    "                   'Shot Creation Action per 90','Live Passes led to shot','Dead Passes led to shot',\n",
    "                   'Dribbles for led to shot','Shots led to Other Shot','Fouls led to shot',\n",
    "                   'Defensive action led to a shot','Goal Creating Action','Goal Creating Action per 90','Live Passes led to a goal',\n",
    "                   'Dead pass led to a goal','Dribbles led to a goal','Shot led to a goal','Foules led to a goal','Def actions led to a goal']"
   ]
  },
  {
   "cell_type": "code",
   "execution_count": null,
   "metadata": {},
   "outputs": [],
   "source": []
  },
  {
   "cell_type": "code",
   "execution_count": 48,
   "metadata": {},
   "outputs": [
    {
     "data": {
      "text/html": [
       "<div>\n",
       "<style scoped>\n",
       "    .dataframe tbody tr th:only-of-type {\n",
       "        vertical-align: middle;\n",
       "    }\n",
       "\n",
       "    .dataframe tbody tr th {\n",
       "        vertical-align: top;\n",
       "    }\n",
       "\n",
       "    .dataframe thead th {\n",
       "        text-align: right;\n",
       "    }\n",
       "</style>\n",
       "<table border=\"1\" class=\"dataframe\">\n",
       "  <thead>\n",
       "    <tr style=\"text-align: right;\">\n",
       "      <th></th>\n",
       "      <th>90s</th>\n",
       "      <th>Shot Creation Action</th>\n",
       "      <th>Shot Creation Action per 90</th>\n",
       "      <th>Live Passes led to shot</th>\n",
       "      <th>Dead Passes led to shot</th>\n",
       "      <th>Dribbles for led to shot</th>\n",
       "      <th>Shots led to Other Shot</th>\n",
       "      <th>Fouls led to shot</th>\n",
       "      <th>Defensive action led to a shot</th>\n",
       "      <th>Goal Creating Action</th>\n",
       "      <th>Goal Creating Action per 90</th>\n",
       "      <th>Live Passes led to a goal</th>\n",
       "      <th>Dead pass led to a goal</th>\n",
       "      <th>Dribbles led to a goal</th>\n",
       "      <th>Shot led to a goal</th>\n",
       "      <th>Foules led to a goal</th>\n",
       "      <th>Def actions led to a goal</th>\n",
       "    </tr>\n",
       "  </thead>\n",
       "  <tbody>\n",
       "    <tr>\n",
       "      <th>0</th>\n",
       "      <td>1.583431</td>\n",
       "      <td>-0.812749</td>\n",
       "      <td>-0.750242</td>\n",
       "      <td>-0.881611</td>\n",
       "      <td>-0.197121</td>\n",
       "      <td>-0.533044</td>\n",
       "      <td>-0.630975</td>\n",
       "      <td>-0.598563</td>\n",
       "      <td>-0.563524</td>\n",
       "      <td>-0.675548</td>\n",
       "      <td>-0.421832</td>\n",
       "      <td>-0.656653</td>\n",
       "      <td>-0.280983</td>\n",
       "      <td>-0.327639</td>\n",
       "      <td>-0.391615</td>\n",
       "      <td>-0.382427</td>\n",
       "      <td>-0.253731</td>\n",
       "    </tr>\n",
       "    <tr>\n",
       "      <th>1</th>\n",
       "      <td>1.350621</td>\n",
       "      <td>0.948857</td>\n",
       "      <td>-0.030369</td>\n",
       "      <td>0.721154</td>\n",
       "      <td>-0.374710</td>\n",
       "      <td>0.972406</td>\n",
       "      <td>2.088382</td>\n",
       "      <td>2.383158</td>\n",
       "      <td>2.497222</td>\n",
       "      <td>0.532953</td>\n",
       "      <td>-0.041458</td>\n",
       "      <td>0.043754</td>\n",
       "      <td>-0.280983</td>\n",
       "      <td>-0.327639</td>\n",
       "      <td>-0.391615</td>\n",
       "      <td>1.262326</td>\n",
       "      <td>6.489664</td>\n",
       "    </tr>\n",
       "    <tr>\n",
       "      <th>2</th>\n",
       "      <td>1.278987</td>\n",
       "      <td>-0.335648</td>\n",
       "      <td>-0.547088</td>\n",
       "      <td>-0.347356</td>\n",
       "      <td>-0.019532</td>\n",
       "      <td>-0.533044</td>\n",
       "      <td>-0.087103</td>\n",
       "      <td>-0.598563</td>\n",
       "      <td>0.456725</td>\n",
       "      <td>-0.433848</td>\n",
       "      <td>-0.332332</td>\n",
       "      <td>-0.656653</td>\n",
       "      <td>-0.280983</td>\n",
       "      <td>-0.327639</td>\n",
       "      <td>1.282237</td>\n",
       "      <td>-0.382427</td>\n",
       "      <td>-0.253731</td>\n",
       "    </tr>\n",
       "    <tr>\n",
       "      <th>3</th>\n",
       "      <td>1.046177</td>\n",
       "      <td>-0.445748</td>\n",
       "      <td>-0.569170</td>\n",
       "      <td>-0.454207</td>\n",
       "      <td>-0.197121</td>\n",
       "      <td>-0.533044</td>\n",
       "      <td>-0.087103</td>\n",
       "      <td>-0.598563</td>\n",
       "      <td>0.456725</td>\n",
       "      <td>-0.433848</td>\n",
       "      <td>-0.332332</td>\n",
       "      <td>-0.306449</td>\n",
       "      <td>-0.280983</td>\n",
       "      <td>-0.327639</td>\n",
       "      <td>-0.391615</td>\n",
       "      <td>-0.382427</td>\n",
       "      <td>-0.253731</td>\n",
       "    </tr>\n",
       "    <tr>\n",
       "      <th>4</th>\n",
       "      <td>0.947680</td>\n",
       "      <td>-0.298948</td>\n",
       "      <td>-0.494091</td>\n",
       "      <td>-0.454207</td>\n",
       "      <td>-0.374710</td>\n",
       "      <td>-0.533044</td>\n",
       "      <td>1.544510</td>\n",
       "      <td>0.253357</td>\n",
       "      <td>0.456725</td>\n",
       "      <td>-0.675548</td>\n",
       "      <td>-0.421832</td>\n",
       "      <td>-0.656653</td>\n",
       "      <td>-0.280983</td>\n",
       "      <td>-0.327639</td>\n",
       "      <td>-0.391615</td>\n",
       "      <td>-0.382427</td>\n",
       "      <td>-0.253731</td>\n",
       "    </tr>\n",
       "    <tr>\n",
       "      <th>...</th>\n",
       "      <td>...</td>\n",
       "      <td>...</td>\n",
       "      <td>...</td>\n",
       "      <td>...</td>\n",
       "      <td>...</td>\n",
       "      <td>...</td>\n",
       "      <td>...</td>\n",
       "      <td>...</td>\n",
       "      <td>...</td>\n",
       "      <td>...</td>\n",
       "      <td>...</td>\n",
       "      <td>...</td>\n",
       "      <td>...</td>\n",
       "      <td>...</td>\n",
       "      <td>...</td>\n",
       "      <td>...</td>\n",
       "      <td>...</td>\n",
       "    </tr>\n",
       "    <tr>\n",
       "      <th>2218</th>\n",
       "      <td>-1.111794</td>\n",
       "      <td>-0.849450</td>\n",
       "      <td>-0.763491</td>\n",
       "      <td>-0.881611</td>\n",
       "      <td>-0.374710</td>\n",
       "      <td>-0.533044</td>\n",
       "      <td>-0.630975</td>\n",
       "      <td>-0.598563</td>\n",
       "      <td>-0.563524</td>\n",
       "      <td>-0.675548</td>\n",
       "      <td>-0.421832</td>\n",
       "      <td>-0.656653</td>\n",
       "      <td>-0.280983</td>\n",
       "      <td>-0.327639</td>\n",
       "      <td>-0.391615</td>\n",
       "      <td>-0.382427</td>\n",
       "      <td>-0.253731</td>\n",
       "    </tr>\n",
       "    <tr>\n",
       "      <th>2219</th>\n",
       "      <td>-1.138656</td>\n",
       "      <td>-0.482448</td>\n",
       "      <td>1.815684</td>\n",
       "      <td>-0.614483</td>\n",
       "      <td>-0.019532</td>\n",
       "      <td>-0.533044</td>\n",
       "      <td>-0.630975</td>\n",
       "      <td>0.679317</td>\n",
       "      <td>-0.563524</td>\n",
       "      <td>-0.433848</td>\n",
       "      <td>0.875915</td>\n",
       "      <td>-0.656653</td>\n",
       "      <td>-0.280983</td>\n",
       "      <td>-0.327639</td>\n",
       "      <td>-0.391615</td>\n",
       "      <td>1.262326</td>\n",
       "      <td>-0.253731</td>\n",
       "    </tr>\n",
       "    <tr>\n",
       "      <th>2220</th>\n",
       "      <td>-1.183428</td>\n",
       "      <td>-0.592549</td>\n",
       "      <td>0.724834</td>\n",
       "      <td>-0.667909</td>\n",
       "      <td>-0.374710</td>\n",
       "      <td>-0.533044</td>\n",
       "      <td>-0.087103</td>\n",
       "      <td>0.253357</td>\n",
       "      <td>-0.563524</td>\n",
       "      <td>-0.433848</td>\n",
       "      <td>0.652166</td>\n",
       "      <td>-0.306449</td>\n",
       "      <td>-0.280983</td>\n",
       "      <td>-0.327639</td>\n",
       "      <td>-0.391615</td>\n",
       "      <td>-0.382427</td>\n",
       "      <td>-0.253731</td>\n",
       "    </tr>\n",
       "    <tr>\n",
       "      <th>2221</th>\n",
       "      <td>-1.264016</td>\n",
       "      <td>-0.849450</td>\n",
       "      <td>-0.763491</td>\n",
       "      <td>-0.881611</td>\n",
       "      <td>-0.374710</td>\n",
       "      <td>-0.533044</td>\n",
       "      <td>-0.630975</td>\n",
       "      <td>-0.598563</td>\n",
       "      <td>-0.563524</td>\n",
       "      <td>-0.675548</td>\n",
       "      <td>-0.421832</td>\n",
       "      <td>-0.656653</td>\n",
       "      <td>-0.280983</td>\n",
       "      <td>-0.327639</td>\n",
       "      <td>-0.391615</td>\n",
       "      <td>-0.382427</td>\n",
       "      <td>-0.253731</td>\n",
       "    </tr>\n",
       "    <tr>\n",
       "      <th>2222</th>\n",
       "      <td>-1.281924</td>\n",
       "      <td>-0.849450</td>\n",
       "      <td>-0.763491</td>\n",
       "      <td>-0.881611</td>\n",
       "      <td>-0.374710</td>\n",
       "      <td>-0.533044</td>\n",
       "      <td>-0.630975</td>\n",
       "      <td>-0.598563</td>\n",
       "      <td>-0.563524</td>\n",
       "      <td>-0.675548</td>\n",
       "      <td>-0.421832</td>\n",
       "      <td>-0.656653</td>\n",
       "      <td>-0.280983</td>\n",
       "      <td>-0.327639</td>\n",
       "      <td>-0.391615</td>\n",
       "      <td>-0.382427</td>\n",
       "      <td>-0.253731</td>\n",
       "    </tr>\n",
       "  </tbody>\n",
       "</table>\n",
       "<p>2073 rows × 17 columns</p>\n",
       "</div>"
      ],
      "text/plain": [
       "           90s  Shot Creation Action  Shot Creation Action per 90  \\\n",
       "0     1.583431             -0.812749                    -0.750242   \n",
       "1     1.350621              0.948857                    -0.030369   \n",
       "2     1.278987             -0.335648                    -0.547088   \n",
       "3     1.046177             -0.445748                    -0.569170   \n",
       "4     0.947680             -0.298948                    -0.494091   \n",
       "...        ...                   ...                          ...   \n",
       "2218 -1.111794             -0.849450                    -0.763491   \n",
       "2219 -1.138656             -0.482448                     1.815684   \n",
       "2220 -1.183428             -0.592549                     0.724834   \n",
       "2221 -1.264016             -0.849450                    -0.763491   \n",
       "2222 -1.281924             -0.849450                    -0.763491   \n",
       "\n",
       "      Live Passes led to shot  Dead Passes led to shot  \\\n",
       "0                   -0.881611                -0.197121   \n",
       "1                    0.721154                -0.374710   \n",
       "2                   -0.347356                -0.019532   \n",
       "3                   -0.454207                -0.197121   \n",
       "4                   -0.454207                -0.374710   \n",
       "...                       ...                      ...   \n",
       "2218                -0.881611                -0.374710   \n",
       "2219                -0.614483                -0.019532   \n",
       "2220                -0.667909                -0.374710   \n",
       "2221                -0.881611                -0.374710   \n",
       "2222                -0.881611                -0.374710   \n",
       "\n",
       "      Dribbles for led to shot  Shots led to Other Shot  Fouls led to shot  \\\n",
       "0                    -0.533044                -0.630975          -0.598563   \n",
       "1                     0.972406                 2.088382           2.383158   \n",
       "2                    -0.533044                -0.087103          -0.598563   \n",
       "3                    -0.533044                -0.087103          -0.598563   \n",
       "4                    -0.533044                 1.544510           0.253357   \n",
       "...                        ...                      ...                ...   \n",
       "2218                 -0.533044                -0.630975          -0.598563   \n",
       "2219                 -0.533044                -0.630975           0.679317   \n",
       "2220                 -0.533044                -0.087103           0.253357   \n",
       "2221                 -0.533044                -0.630975          -0.598563   \n",
       "2222                 -0.533044                -0.630975          -0.598563   \n",
       "\n",
       "      Defensive action led to a shot  Goal Creating Action  \\\n",
       "0                          -0.563524             -0.675548   \n",
       "1                           2.497222              0.532953   \n",
       "2                           0.456725             -0.433848   \n",
       "3                           0.456725             -0.433848   \n",
       "4                           0.456725             -0.675548   \n",
       "...                              ...                   ...   \n",
       "2218                       -0.563524             -0.675548   \n",
       "2219                       -0.563524             -0.433848   \n",
       "2220                       -0.563524             -0.433848   \n",
       "2221                       -0.563524             -0.675548   \n",
       "2222                       -0.563524             -0.675548   \n",
       "\n",
       "      Goal Creating Action per 90  Live Passes led to a goal  \\\n",
       "0                       -0.421832                  -0.656653   \n",
       "1                       -0.041458                   0.043754   \n",
       "2                       -0.332332                  -0.656653   \n",
       "3                       -0.332332                  -0.306449   \n",
       "4                       -0.421832                  -0.656653   \n",
       "...                           ...                        ...   \n",
       "2218                    -0.421832                  -0.656653   \n",
       "2219                     0.875915                  -0.656653   \n",
       "2220                     0.652166                  -0.306449   \n",
       "2221                    -0.421832                  -0.656653   \n",
       "2222                    -0.421832                  -0.656653   \n",
       "\n",
       "      Dead pass led to a goal  Dribbles led to a goal  Shot led to a goal  \\\n",
       "0                   -0.280983               -0.327639           -0.391615   \n",
       "1                   -0.280983               -0.327639           -0.391615   \n",
       "2                   -0.280983               -0.327639            1.282237   \n",
       "3                   -0.280983               -0.327639           -0.391615   \n",
       "4                   -0.280983               -0.327639           -0.391615   \n",
       "...                       ...                     ...                 ...   \n",
       "2218                -0.280983               -0.327639           -0.391615   \n",
       "2219                -0.280983               -0.327639           -0.391615   \n",
       "2220                -0.280983               -0.327639           -0.391615   \n",
       "2221                -0.280983               -0.327639           -0.391615   \n",
       "2222                -0.280983               -0.327639           -0.391615   \n",
       "\n",
       "      Foules led to a goal  Def actions led to a goal  \n",
       "0                -0.382427                  -0.253731  \n",
       "1                 1.262326                   6.489664  \n",
       "2                -0.382427                  -0.253731  \n",
       "3                -0.382427                  -0.253731  \n",
       "4                -0.382427                  -0.253731  \n",
       "...                    ...                        ...  \n",
       "2218             -0.382427                  -0.253731  \n",
       "2219              1.262326                  -0.253731  \n",
       "2220             -0.382427                  -0.253731  \n",
       "2221             -0.382427                  -0.253731  \n",
       "2222             -0.382427                  -0.253731  \n",
       "\n",
       "[2073 rows x 17 columns]"
      ]
     },
     "metadata": {},
     "output_type": "display_data"
    }
   ],
   "source": [
    "to_be_scaled = df_final[['90s','Shot Creation Action',\n",
    "                   'Shot Creation Action per 90','Live Passes led to shot','Dead Passes led to shot',\n",
    "                   'Dribbles for led to shot','Shots led to Other Shot','Fouls led to shot',\n",
    "                   'Defensive action led to a shot','Goal Creating Action','Goal Creating Action per 90','Live Passes led to a goal',\n",
    "                   'Dead pass led to a goal','Dribbles led to a goal','Shot led to a goal','Foules led to a goal','Def actions led to a goal']]\n",
    "\n",
    "# copy the data\n",
    "df_z_scaled = to_be_scaled.copy()\n",
    "  \n",
    "# apply normalization techniques\n",
    "for column in df_z_scaled.columns:\n",
    "    df_z_scaled[column] = (df_z_scaled[column] -\n",
    "                           df_z_scaled[column].mean()) / df_z_scaled[column].std()    \n",
    "  \n",
    "# view normalized data   \n",
    "display(df_z_scaled)"
   ]
  },
  {
   "cell_type": "code",
   "execution_count": 49,
   "metadata": {},
   "outputs": [],
   "source": [
    "df_z_scaled.insert(0, \"Player\", df_final['Player'])\n",
    "df_z_scaled.insert(1, \"Position\", df_final['Position'])\n",
    "\n",
    "df_final = df_z_scaled\n",
    "\n"
   ]
  },
  {
   "cell_type": "code",
   "execution_count": null,
   "metadata": {},
   "outputs": [],
   "source": []
  },
  {
   "cell_type": "code",
   "execution_count": null,
   "metadata": {},
   "outputs": [],
   "source": []
  },
  {
   "cell_type": "code",
   "execution_count": 51,
   "metadata": {},
   "outputs": [],
   "source": [
    "def get_similar_players(player_name):\n",
    "    \n",
    "    player_index = [list(df_final['Player']).index(x) for x in list(df_final['Player']) if player_name in x]\n",
    "    player_index = int(player_index[0])\n",
    "    print(player_index)\n",
    "    df1 = df_final.iloc[:,5:]\n",
    "    cos = cosine_similarity(df1,df1)\n",
    "    player_cos = sorted(list(cos[player_index]))[-7:-1]\n",
    "    indexes = [list(cos[player_index]).index(x) for x in player_cos]\n",
    "    indexes.append(player_index)\n",
    "    return player_cos, df_final.iloc[indexes]"
   ]
  },
  {
   "cell_type": "code",
   "execution_count": 52,
   "metadata": {},
   "outputs": [
    {
     "name": "stdout",
     "output_type": "stream",
     "text": [
      "1118\n"
     ]
    }
   ],
   "source": [
    "value = get_similar_players('Kevin De Bruyne')"
   ]
  },
  {
   "cell_type": "code",
   "execution_count": 54,
   "metadata": {},
   "outputs": [
    {
     "data": {
      "application/vnd.plotly.v1+json": {
       "config": {
        "plotlyServerURL": "https://plot.ly"
       },
       "data": [
        {
         "fill": "toself",
         "name": "Gaël Kakuta",
         "r": [
          "Gaël Kakuta",
          "MF,FW",
          0.8760463404699533,
          2.4902621368457747,
          0.8661588885474921,
          2.1636427043046074,
          2.644300878423947,
          2.4778564111594092,
          1.0006391737314593,
          0.679317066330394,
          2.497222178181068,
          1.9831557062984178,
          0.5850409801931341,
          2.495178328715504,
          1.220248450499123,
          -0.3276389614708381,
          -0.39161530209566453,
          1.2623262346777593,
          -0.2537312170458415
         ],
         "theta": [
          "Position",
          "90s",
          "Shot Creation Action",
          "Shot Creation Action per 90",
          "Live Passes led to shot",
          "Dead Passes led to shot",
          "Dribbles for led to shot",
          "Shots led to Other Shot",
          "Fouls led to shot",
          "Defensive action led to a shot",
          "Goal Creating Action",
          "Goal Creating Action per 90",
          "Live Passes led to a goal",
          "Dead pass led to a goal",
          "Dribbles led to a goal",
          "Shot led to a goal",
          "Foules led to a goal",
          "Def actions led to a goal"
         ],
         "type": "scatterpolar"
        },
        {
         "fill": "toself",
         "name": "Ángel Di María",
         "r": [
          "Ángel Di María",
          "MF",
          1.1267648992787034,
          4.141767898427851,
          1.6257788958893609,
          3.4458547970775024,
          4.2426007290331915,
          1.7251312733614235,
          4.807738033201098,
          3.2350780073520036,
          3.517470813452915,
          5.36696103925113,
          1.815663775180869,
          4.596398914535642,
          2.721479926988548,
          1.38750135956211,
          2.9560899401489236,
          4.551832563385484,
          6.4896638205955615
         ],
         "theta": [
          "Position",
          "90s",
          "Shot Creation Action",
          "Shot Creation Action per 90",
          "Live Passes led to shot",
          "Dead Passes led to shot",
          "Dribbles for led to shot",
          "Shots led to Other Shot",
          "Fouls led to shot",
          "Defensive action led to a shot",
          "Goal Creating Action",
          "Goal Creating Action per 90",
          "Live Passes led to a goal",
          "Dead pass led to a goal",
          "Dribbles led to a goal",
          "Shot led to a goal",
          "Foules led to a goal",
          "Def actions led to a goal"
         ],
         "type": "scatterpolar"
        },
        {
         "fill": "toself",
         "name": "Emil Forsberg",
         "r": [
          "Emil Forsberg",
          "MF,FW",
          0.44624309679780993,
          1.6094590640020003,
          0.8573260977644471,
          1.469111154052623,
          1.4011787723945337,
          1.7251312733614235,
          1.0006391737314593,
          0.2533569094934591,
          1.4769735429092206,
          1.4997549444480303,
          0.6745408198286057,
          1.7947714667754577,
          -0.2809830259903025,
          1.38750135956211,
          -0.39161530209566453,
          -0.3824269296761031,
          3.1179663017748602
         ],
         "theta": [
          "Position",
          "90s",
          "Shot Creation Action",
          "Shot Creation Action per 90",
          "Live Passes led to shot",
          "Dead Passes led to shot",
          "Dribbles for led to shot",
          "Shots led to Other Shot",
          "Fouls led to shot",
          "Defensive action led to a shot",
          "Goal Creating Action",
          "Goal Creating Action per 90",
          "Live Passes led to a goal",
          "Dead pass led to a goal",
          "Dribbles led to a goal",
          "Shot led to a goal",
          "Foules led to a goal",
          "Def actions led to a goal"
         ],
         "type": "scatterpolar"
        },
        {
         "fill": "toself",
         "name": "Riyad Mahrez",
         "r": [
          "Riyad Mahrez",
          "FW,MF",
          1.807286701759597,
          3.407765337724706,
          1.069313076557527,
          3.5527058048085767,
          1.2235899001046175,
          2.4778564111594092,
          4.807738033201098,
          -0.1726032473434758,
          4.537719448724762,
          3.6750583727747737,
          1.0101652184616243,
          3.1955851906555495,
          2.721479926988548,
          4.8177820016280055,
          1.2822373190266294,
          -0.3824269296761031,
          3.1179663017748602
         ],
         "theta": [
          "Position",
          "90s",
          "Shot Creation Action",
          "Shot Creation Action per 90",
          "Live Passes led to shot",
          "Dead Passes led to shot",
          "Dribbles for led to shot",
          "Shots led to Other Shot",
          "Fouls led to shot",
          "Defensive action led to a shot",
          "Goal Creating Action",
          "Goal Creating Action per 90",
          "Live Passes led to a goal",
          "Dead pass led to a goal",
          "Dribbles led to a goal",
          "Shot led to a goal",
          "Foules led to a goal",
          "Def actions led to a goal"
         ],
         "type": "scatterpolar"
        },
        {
         "fill": "toself",
         "name": "Memphis Depay",
         "r": [
          "Memphis Depay",
          "FW",
          1.449117332032811,
          4.5454693068145815,
          1.4402902894454164,
          3.766407820270726,
          4.2426007290331915,
          4.7360318245533675,
          3.1761242362855393,
          3.2350780073520036,
          3.517470813452915,
          4.641859896475549,
          1.2562897774591715,
          4.246195483565619,
          1.220248450499123,
          4.8177820016280055,
          -0.39161530209566453,
          4.551832563385484,
          3.1179663017748602
         ],
         "theta": [
          "Position",
          "90s",
          "Shot Creation Action",
          "Shot Creation Action per 90",
          "Live Passes led to shot",
          "Dead Passes led to shot",
          "Dribbles for led to shot",
          "Shots led to Other Shot",
          "Fouls led to shot",
          "Defensive action led to a shot",
          "Goal Creating Action",
          "Goal Creating Action per 90",
          "Live Passes led to a goal",
          "Dead pass led to a goal",
          "Dribbles led to a goal",
          "Shot led to a goal",
          "Foules led to a goal",
          "Def actions led to a goal"
         ],
         "type": "scatterpolar"
        },
        {
         "fill": "toself",
         "name": "Youri Tielemans",
         "r": [
          "Youri Tielemans",
          "MF",
          2.684801657590223,
          3.114164313443448,
          0.4510177217443778,
          3.819833324136263,
          0.8684121555247853,
          -0.1566815711335412,
          1.5445104393699793,
          0.679317066330394,
          4.537719448724762,
          3.1916576109243864,
          0.49554114055766235,
          4.246195483565619,
          -0.2809830259903025,
          -0.3276389614708381,
          -0.39161530209566453,
          1.2623262346777593,
          3.1179663017748602
         ],
         "theta": [
          "Position",
          "90s",
          "Shot Creation Action",
          "Shot Creation Action per 90",
          "Live Passes led to shot",
          "Dead Passes led to shot",
          "Dribbles for led to shot",
          "Shots led to Other Shot",
          "Fouls led to shot",
          "Defensive action led to a shot",
          "Goal Creating Action",
          "Goal Creating Action per 90",
          "Live Passes led to a goal",
          "Dead pass led to a goal",
          "Dribbles led to a goal",
          "Shot led to a goal",
          "Foules led to a goal",
          "Def actions led to a goal"
         ],
         "type": "scatterpolar"
        },
        {
         "fill": "toself",
         "name": "Kevin De Bruyne",
         "r": [
          "Kevin De Bruyne",
          "MF,FW",
          1.5028427374918292,
          4.949170715201311,
          1.7361887806774232,
          4.728066889850397,
          3.7098341121634433,
          2.8542189800584024,
          3.1761242362855393,
          1.957197536841199,
          7.598465354540305,
          5.36696103925113,
          1.5919141760921898,
          6.347416069385757,
          -0.2809830259903025,
          3.102641680595058,
          1.2822373190266294,
          1.2623262346777593,
          3.1179663017748602
         ],
         "theta": [
          "Position",
          "90s",
          "Shot Creation Action",
          "Shot Creation Action per 90",
          "Live Passes led to shot",
          "Dead Passes led to shot",
          "Dribbles for led to shot",
          "Shots led to Other Shot",
          "Fouls led to shot",
          "Defensive action led to a shot",
          "Goal Creating Action",
          "Goal Creating Action per 90",
          "Live Passes led to a goal",
          "Dead pass led to a goal",
          "Dribbles led to a goal",
          "Shot led to a goal",
          "Foules led to a goal",
          "Def actions led to a goal"
         ],
         "type": "scatterpolar"
        }
       ],
       "layout": {
        "showlegend": true,
        "template": {
         "data": {
          "bar": [
           {
            "error_x": {
             "color": "#2a3f5f"
            },
            "error_y": {
             "color": "#2a3f5f"
            },
            "marker": {
             "line": {
              "color": "#E5ECF6",
              "width": 0.5
             }
            },
            "type": "bar"
           }
          ],
          "barpolar": [
           {
            "marker": {
             "line": {
              "color": "#E5ECF6",
              "width": 0.5
             }
            },
            "type": "barpolar"
           }
          ],
          "carpet": [
           {
            "aaxis": {
             "endlinecolor": "#2a3f5f",
             "gridcolor": "white",
             "linecolor": "white",
             "minorgridcolor": "white",
             "startlinecolor": "#2a3f5f"
            },
            "baxis": {
             "endlinecolor": "#2a3f5f",
             "gridcolor": "white",
             "linecolor": "white",
             "minorgridcolor": "white",
             "startlinecolor": "#2a3f5f"
            },
            "type": "carpet"
           }
          ],
          "choropleth": [
           {
            "colorbar": {
             "outlinewidth": 0,
             "ticks": ""
            },
            "type": "choropleth"
           }
          ],
          "contour": [
           {
            "colorbar": {
             "outlinewidth": 0,
             "ticks": ""
            },
            "colorscale": [
             [
              0,
              "#0d0887"
             ],
             [
              0.1111111111111111,
              "#46039f"
             ],
             [
              0.2222222222222222,
              "#7201a8"
             ],
             [
              0.3333333333333333,
              "#9c179e"
             ],
             [
              0.4444444444444444,
              "#bd3786"
             ],
             [
              0.5555555555555556,
              "#d8576b"
             ],
             [
              0.6666666666666666,
              "#ed7953"
             ],
             [
              0.7777777777777778,
              "#fb9f3a"
             ],
             [
              0.8888888888888888,
              "#fdca26"
             ],
             [
              1,
              "#f0f921"
             ]
            ],
            "type": "contour"
           }
          ],
          "contourcarpet": [
           {
            "colorbar": {
             "outlinewidth": 0,
             "ticks": ""
            },
            "type": "contourcarpet"
           }
          ],
          "heatmap": [
           {
            "colorbar": {
             "outlinewidth": 0,
             "ticks": ""
            },
            "colorscale": [
             [
              0,
              "#0d0887"
             ],
             [
              0.1111111111111111,
              "#46039f"
             ],
             [
              0.2222222222222222,
              "#7201a8"
             ],
             [
              0.3333333333333333,
              "#9c179e"
             ],
             [
              0.4444444444444444,
              "#bd3786"
             ],
             [
              0.5555555555555556,
              "#d8576b"
             ],
             [
              0.6666666666666666,
              "#ed7953"
             ],
             [
              0.7777777777777778,
              "#fb9f3a"
             ],
             [
              0.8888888888888888,
              "#fdca26"
             ],
             [
              1,
              "#f0f921"
             ]
            ],
            "type": "heatmap"
           }
          ],
          "heatmapgl": [
           {
            "colorbar": {
             "outlinewidth": 0,
             "ticks": ""
            },
            "colorscale": [
             [
              0,
              "#0d0887"
             ],
             [
              0.1111111111111111,
              "#46039f"
             ],
             [
              0.2222222222222222,
              "#7201a8"
             ],
             [
              0.3333333333333333,
              "#9c179e"
             ],
             [
              0.4444444444444444,
              "#bd3786"
             ],
             [
              0.5555555555555556,
              "#d8576b"
             ],
             [
              0.6666666666666666,
              "#ed7953"
             ],
             [
              0.7777777777777778,
              "#fb9f3a"
             ],
             [
              0.8888888888888888,
              "#fdca26"
             ],
             [
              1,
              "#f0f921"
             ]
            ],
            "type": "heatmapgl"
           }
          ],
          "histogram": [
           {
            "marker": {
             "colorbar": {
              "outlinewidth": 0,
              "ticks": ""
             }
            },
            "type": "histogram"
           }
          ],
          "histogram2d": [
           {
            "colorbar": {
             "outlinewidth": 0,
             "ticks": ""
            },
            "colorscale": [
             [
              0,
              "#0d0887"
             ],
             [
              0.1111111111111111,
              "#46039f"
             ],
             [
              0.2222222222222222,
              "#7201a8"
             ],
             [
              0.3333333333333333,
              "#9c179e"
             ],
             [
              0.4444444444444444,
              "#bd3786"
             ],
             [
              0.5555555555555556,
              "#d8576b"
             ],
             [
              0.6666666666666666,
              "#ed7953"
             ],
             [
              0.7777777777777778,
              "#fb9f3a"
             ],
             [
              0.8888888888888888,
              "#fdca26"
             ],
             [
              1,
              "#f0f921"
             ]
            ],
            "type": "histogram2d"
           }
          ],
          "histogram2dcontour": [
           {
            "colorbar": {
             "outlinewidth": 0,
             "ticks": ""
            },
            "colorscale": [
             [
              0,
              "#0d0887"
             ],
             [
              0.1111111111111111,
              "#46039f"
             ],
             [
              0.2222222222222222,
              "#7201a8"
             ],
             [
              0.3333333333333333,
              "#9c179e"
             ],
             [
              0.4444444444444444,
              "#bd3786"
             ],
             [
              0.5555555555555556,
              "#d8576b"
             ],
             [
              0.6666666666666666,
              "#ed7953"
             ],
             [
              0.7777777777777778,
              "#fb9f3a"
             ],
             [
              0.8888888888888888,
              "#fdca26"
             ],
             [
              1,
              "#f0f921"
             ]
            ],
            "type": "histogram2dcontour"
           }
          ],
          "mesh3d": [
           {
            "colorbar": {
             "outlinewidth": 0,
             "ticks": ""
            },
            "type": "mesh3d"
           }
          ],
          "parcoords": [
           {
            "line": {
             "colorbar": {
              "outlinewidth": 0,
              "ticks": ""
             }
            },
            "type": "parcoords"
           }
          ],
          "pie": [
           {
            "automargin": true,
            "type": "pie"
           }
          ],
          "scatter": [
           {
            "marker": {
             "colorbar": {
              "outlinewidth": 0,
              "ticks": ""
             }
            },
            "type": "scatter"
           }
          ],
          "scatter3d": [
           {
            "line": {
             "colorbar": {
              "outlinewidth": 0,
              "ticks": ""
             }
            },
            "marker": {
             "colorbar": {
              "outlinewidth": 0,
              "ticks": ""
             }
            },
            "type": "scatter3d"
           }
          ],
          "scattercarpet": [
           {
            "marker": {
             "colorbar": {
              "outlinewidth": 0,
              "ticks": ""
             }
            },
            "type": "scattercarpet"
           }
          ],
          "scattergeo": [
           {
            "marker": {
             "colorbar": {
              "outlinewidth": 0,
              "ticks": ""
             }
            },
            "type": "scattergeo"
           }
          ],
          "scattergl": [
           {
            "marker": {
             "colorbar": {
              "outlinewidth": 0,
              "ticks": ""
             }
            },
            "type": "scattergl"
           }
          ],
          "scattermapbox": [
           {
            "marker": {
             "colorbar": {
              "outlinewidth": 0,
              "ticks": ""
             }
            },
            "type": "scattermapbox"
           }
          ],
          "scatterpolar": [
           {
            "marker": {
             "colorbar": {
              "outlinewidth": 0,
              "ticks": ""
             }
            },
            "type": "scatterpolar"
           }
          ],
          "scatterpolargl": [
           {
            "marker": {
             "colorbar": {
              "outlinewidth": 0,
              "ticks": ""
             }
            },
            "type": "scatterpolargl"
           }
          ],
          "scatterternary": [
           {
            "marker": {
             "colorbar": {
              "outlinewidth": 0,
              "ticks": ""
             }
            },
            "type": "scatterternary"
           }
          ],
          "surface": [
           {
            "colorbar": {
             "outlinewidth": 0,
             "ticks": ""
            },
            "colorscale": [
             [
              0,
              "#0d0887"
             ],
             [
              0.1111111111111111,
              "#46039f"
             ],
             [
              0.2222222222222222,
              "#7201a8"
             ],
             [
              0.3333333333333333,
              "#9c179e"
             ],
             [
              0.4444444444444444,
              "#bd3786"
             ],
             [
              0.5555555555555556,
              "#d8576b"
             ],
             [
              0.6666666666666666,
              "#ed7953"
             ],
             [
              0.7777777777777778,
              "#fb9f3a"
             ],
             [
              0.8888888888888888,
              "#fdca26"
             ],
             [
              1,
              "#f0f921"
             ]
            ],
            "type": "surface"
           }
          ],
          "table": [
           {
            "cells": {
             "fill": {
              "color": "#EBF0F8"
             },
             "line": {
              "color": "white"
             }
            },
            "header": {
             "fill": {
              "color": "#C8D4E3"
             },
             "line": {
              "color": "white"
             }
            },
            "type": "table"
           }
          ]
         },
         "layout": {
          "annotationdefaults": {
           "arrowcolor": "#2a3f5f",
           "arrowhead": 0,
           "arrowwidth": 1
          },
          "autotypenumbers": "strict",
          "coloraxis": {
           "colorbar": {
            "outlinewidth": 0,
            "ticks": ""
           }
          },
          "colorscale": {
           "diverging": [
            [
             0,
             "#8e0152"
            ],
            [
             0.1,
             "#c51b7d"
            ],
            [
             0.2,
             "#de77ae"
            ],
            [
             0.3,
             "#f1b6da"
            ],
            [
             0.4,
             "#fde0ef"
            ],
            [
             0.5,
             "#f7f7f7"
            ],
            [
             0.6,
             "#e6f5d0"
            ],
            [
             0.7,
             "#b8e186"
            ],
            [
             0.8,
             "#7fbc41"
            ],
            [
             0.9,
             "#4d9221"
            ],
            [
             1,
             "#276419"
            ]
           ],
           "sequential": [
            [
             0,
             "#0d0887"
            ],
            [
             0.1111111111111111,
             "#46039f"
            ],
            [
             0.2222222222222222,
             "#7201a8"
            ],
            [
             0.3333333333333333,
             "#9c179e"
            ],
            [
             0.4444444444444444,
             "#bd3786"
            ],
            [
             0.5555555555555556,
             "#d8576b"
            ],
            [
             0.6666666666666666,
             "#ed7953"
            ],
            [
             0.7777777777777778,
             "#fb9f3a"
            ],
            [
             0.8888888888888888,
             "#fdca26"
            ],
            [
             1,
             "#f0f921"
            ]
           ],
           "sequentialminus": [
            [
             0,
             "#0d0887"
            ],
            [
             0.1111111111111111,
             "#46039f"
            ],
            [
             0.2222222222222222,
             "#7201a8"
            ],
            [
             0.3333333333333333,
             "#9c179e"
            ],
            [
             0.4444444444444444,
             "#bd3786"
            ],
            [
             0.5555555555555556,
             "#d8576b"
            ],
            [
             0.6666666666666666,
             "#ed7953"
            ],
            [
             0.7777777777777778,
             "#fb9f3a"
            ],
            [
             0.8888888888888888,
             "#fdca26"
            ],
            [
             1,
             "#f0f921"
            ]
           ]
          },
          "colorway": [
           "#636efa",
           "#EF553B",
           "#00cc96",
           "#ab63fa",
           "#FFA15A",
           "#19d3f3",
           "#FF6692",
           "#B6E880",
           "#FF97FF",
           "#FECB52"
          ],
          "font": {
           "color": "#2a3f5f"
          },
          "geo": {
           "bgcolor": "white",
           "lakecolor": "white",
           "landcolor": "#E5ECF6",
           "showlakes": true,
           "showland": true,
           "subunitcolor": "white"
          },
          "hoverlabel": {
           "align": "left"
          },
          "hovermode": "closest",
          "mapbox": {
           "style": "light"
          },
          "paper_bgcolor": "white",
          "plot_bgcolor": "#E5ECF6",
          "polar": {
           "angularaxis": {
            "gridcolor": "white",
            "linecolor": "white",
            "ticks": ""
           },
           "bgcolor": "#E5ECF6",
           "radialaxis": {
            "gridcolor": "white",
            "linecolor": "white",
            "ticks": ""
           }
          },
          "scene": {
           "xaxis": {
            "backgroundcolor": "#E5ECF6",
            "gridcolor": "white",
            "gridwidth": 2,
            "linecolor": "white",
            "showbackground": true,
            "ticks": "",
            "zerolinecolor": "white"
           },
           "yaxis": {
            "backgroundcolor": "#E5ECF6",
            "gridcolor": "white",
            "gridwidth": 2,
            "linecolor": "white",
            "showbackground": true,
            "ticks": "",
            "zerolinecolor": "white"
           },
           "zaxis": {
            "backgroundcolor": "#E5ECF6",
            "gridcolor": "white",
            "gridwidth": 2,
            "linecolor": "white",
            "showbackground": true,
            "ticks": "",
            "zerolinecolor": "white"
           }
          },
          "shapedefaults": {
           "line": {
            "color": "#2a3f5f"
           }
          },
          "ternary": {
           "aaxis": {
            "gridcolor": "white",
            "linecolor": "white",
            "ticks": ""
           },
           "baxis": {
            "gridcolor": "white",
            "linecolor": "white",
            "ticks": ""
           },
           "bgcolor": "#E5ECF6",
           "caxis": {
            "gridcolor": "white",
            "linecolor": "white",
            "ticks": ""
           }
          },
          "title": {
           "x": 0.05
          },
          "xaxis": {
           "automargin": true,
           "gridcolor": "white",
           "linecolor": "white",
           "ticks": "",
           "title": {
            "standoff": 15
           },
           "zerolinecolor": "white",
           "zerolinewidth": 2
          },
          "yaxis": {
           "automargin": true,
           "gridcolor": "white",
           "linecolor": "white",
           "ticks": "",
           "title": {
            "standoff": 15
           },
           "zerolinecolor": "white",
           "zerolinewidth": 2
          }
         }
        }
       }
      },
      "text/html": [
       "<div>                            <div id=\"b224d3df-24af-48f7-a401-ee7defa4bf6f\" class=\"plotly-graph-div\" style=\"height:525px; width:100%;\"></div>            <script type=\"text/javascript\">                require([\"plotly\"], function(Plotly) {                    window.PLOTLYENV=window.PLOTLYENV || {};                                    if (document.getElementById(\"b224d3df-24af-48f7-a401-ee7defa4bf6f\")) {                    Plotly.newPlot(                        \"b224d3df-24af-48f7-a401-ee7defa4bf6f\",                        [{\"fill\": \"toself\", \"name\": \"Ga\\u00ebl Kakuta\", \"r\": [\"Ga\\u00ebl Kakuta\", \"MF,FW\", 0.8760463404699533, 2.4902621368457747, 0.8661588885474921, 2.1636427043046074, 2.644300878423947, 2.4778564111594092, 1.0006391737314593, 0.679317066330394, 2.497222178181068, 1.9831557062984178, 0.5850409801931341, 2.495178328715504, 1.220248450499123, -0.3276389614708381, -0.39161530209566453, 1.2623262346777593, -0.2537312170458415], \"theta\": [\"Position\", \"90s\", \"Shot Creation Action\", \"Shot Creation Action per 90\", \"Live Passes led to shot\", \"Dead Passes led to shot\", \"Dribbles for led to shot\", \"Shots led to Other Shot\", \"Fouls led to shot\", \"Defensive action led to a shot\", \"Goal Creating Action\", \"Goal Creating Action per 90\", \"Live Passes led to a goal\", \"Dead pass led to a goal\", \"Dribbles led to a goal\", \"Shot led to a goal\", \"Foules led to a goal\", \"Def actions led to a goal\"], \"type\": \"scatterpolar\"}, {\"fill\": \"toself\", \"name\": \"\\u00c1ngel Di Mar\\u00eda\", \"r\": [\"\\u00c1ngel Di Mar\\u00eda\", \"MF\", 1.1267648992787034, 4.141767898427851, 1.6257788958893609, 3.4458547970775024, 4.2426007290331915, 1.7251312733614235, 4.807738033201098, 3.2350780073520036, 3.517470813452915, 5.36696103925113, 1.815663775180869, 4.596398914535642, 2.721479926988548, 1.38750135956211, 2.9560899401489236, 4.551832563385484, 6.4896638205955615], \"theta\": [\"Position\", \"90s\", \"Shot Creation Action\", \"Shot Creation Action per 90\", \"Live Passes led to shot\", \"Dead Passes led to shot\", \"Dribbles for led to shot\", \"Shots led to Other Shot\", \"Fouls led to shot\", \"Defensive action led to a shot\", \"Goal Creating Action\", \"Goal Creating Action per 90\", \"Live Passes led to a goal\", \"Dead pass led to a goal\", \"Dribbles led to a goal\", \"Shot led to a goal\", \"Foules led to a goal\", \"Def actions led to a goal\"], \"type\": \"scatterpolar\"}, {\"fill\": \"toself\", \"name\": \"Emil Forsberg\", \"r\": [\"Emil Forsberg\", \"MF,FW\", 0.44624309679780993, 1.6094590640020003, 0.8573260977644471, 1.469111154052623, 1.4011787723945337, 1.7251312733614235, 1.0006391737314593, 0.2533569094934591, 1.4769735429092206, 1.4997549444480303, 0.6745408198286057, 1.7947714667754577, -0.2809830259903025, 1.38750135956211, -0.39161530209566453, -0.3824269296761031, 3.1179663017748602], \"theta\": [\"Position\", \"90s\", \"Shot Creation Action\", \"Shot Creation Action per 90\", \"Live Passes led to shot\", \"Dead Passes led to shot\", \"Dribbles for led to shot\", \"Shots led to Other Shot\", \"Fouls led to shot\", \"Defensive action led to a shot\", \"Goal Creating Action\", \"Goal Creating Action per 90\", \"Live Passes led to a goal\", \"Dead pass led to a goal\", \"Dribbles led to a goal\", \"Shot led to a goal\", \"Foules led to a goal\", \"Def actions led to a goal\"], \"type\": \"scatterpolar\"}, {\"fill\": \"toself\", \"name\": \"Riyad Mahrez\", \"r\": [\"Riyad Mahrez\", \"FW,MF\", 1.807286701759597, 3.407765337724706, 1.069313076557527, 3.5527058048085767, 1.2235899001046175, 2.4778564111594092, 4.807738033201098, -0.1726032473434758, 4.537719448724762, 3.6750583727747737, 1.0101652184616243, 3.1955851906555495, 2.721479926988548, 4.8177820016280055, 1.2822373190266294, -0.3824269296761031, 3.1179663017748602], \"theta\": [\"Position\", \"90s\", \"Shot Creation Action\", \"Shot Creation Action per 90\", \"Live Passes led to shot\", \"Dead Passes led to shot\", \"Dribbles for led to shot\", \"Shots led to Other Shot\", \"Fouls led to shot\", \"Defensive action led to a shot\", \"Goal Creating Action\", \"Goal Creating Action per 90\", \"Live Passes led to a goal\", \"Dead pass led to a goal\", \"Dribbles led to a goal\", \"Shot led to a goal\", \"Foules led to a goal\", \"Def actions led to a goal\"], \"type\": \"scatterpolar\"}, {\"fill\": \"toself\", \"name\": \"Memphis Depay\", \"r\": [\"Memphis Depay\", \"FW\", 1.449117332032811, 4.5454693068145815, 1.4402902894454164, 3.766407820270726, 4.2426007290331915, 4.7360318245533675, 3.1761242362855393, 3.2350780073520036, 3.517470813452915, 4.641859896475549, 1.2562897774591715, 4.246195483565619, 1.220248450499123, 4.8177820016280055, -0.39161530209566453, 4.551832563385484, 3.1179663017748602], \"theta\": [\"Position\", \"90s\", \"Shot Creation Action\", \"Shot Creation Action per 90\", \"Live Passes led to shot\", \"Dead Passes led to shot\", \"Dribbles for led to shot\", \"Shots led to Other Shot\", \"Fouls led to shot\", \"Defensive action led to a shot\", \"Goal Creating Action\", \"Goal Creating Action per 90\", \"Live Passes led to a goal\", \"Dead pass led to a goal\", \"Dribbles led to a goal\", \"Shot led to a goal\", \"Foules led to a goal\", \"Def actions led to a goal\"], \"type\": \"scatterpolar\"}, {\"fill\": \"toself\", \"name\": \"Youri Tielemans\", \"r\": [\"Youri Tielemans\", \"MF\", 2.684801657590223, 3.114164313443448, 0.4510177217443778, 3.819833324136263, 0.8684121555247853, -0.1566815711335412, 1.5445104393699793, 0.679317066330394, 4.537719448724762, 3.1916576109243864, 0.49554114055766235, 4.246195483565619, -0.2809830259903025, -0.3276389614708381, -0.39161530209566453, 1.2623262346777593, 3.1179663017748602], \"theta\": [\"Position\", \"90s\", \"Shot Creation Action\", \"Shot Creation Action per 90\", \"Live Passes led to shot\", \"Dead Passes led to shot\", \"Dribbles for led to shot\", \"Shots led to Other Shot\", \"Fouls led to shot\", \"Defensive action led to a shot\", \"Goal Creating Action\", \"Goal Creating Action per 90\", \"Live Passes led to a goal\", \"Dead pass led to a goal\", \"Dribbles led to a goal\", \"Shot led to a goal\", \"Foules led to a goal\", \"Def actions led to a goal\"], \"type\": \"scatterpolar\"}, {\"fill\": \"toself\", \"name\": \"Kevin De Bruyne\", \"r\": [\"Kevin De Bruyne\", \"MF,FW\", 1.5028427374918292, 4.949170715201311, 1.7361887806774232, 4.728066889850397, 3.7098341121634433, 2.8542189800584024, 3.1761242362855393, 1.957197536841199, 7.598465354540305, 5.36696103925113, 1.5919141760921898, 6.347416069385757, -0.2809830259903025, 3.102641680595058, 1.2822373190266294, 1.2623262346777593, 3.1179663017748602], \"theta\": [\"Position\", \"90s\", \"Shot Creation Action\", \"Shot Creation Action per 90\", \"Live Passes led to shot\", \"Dead Passes led to shot\", \"Dribbles for led to shot\", \"Shots led to Other Shot\", \"Fouls led to shot\", \"Defensive action led to a shot\", \"Goal Creating Action\", \"Goal Creating Action per 90\", \"Live Passes led to a goal\", \"Dead pass led to a goal\", \"Dribbles led to a goal\", \"Shot led to a goal\", \"Foules led to a goal\", \"Def actions led to a goal\"], \"type\": \"scatterpolar\"}],                        {\"showlegend\": true, \"template\": {\"data\": {\"bar\": [{\"error_x\": {\"color\": \"#2a3f5f\"}, \"error_y\": {\"color\": \"#2a3f5f\"}, \"marker\": {\"line\": {\"color\": \"#E5ECF6\", \"width\": 0.5}}, \"type\": \"bar\"}], \"barpolar\": [{\"marker\": {\"line\": {\"color\": \"#E5ECF6\", \"width\": 0.5}}, \"type\": \"barpolar\"}], \"carpet\": [{\"aaxis\": {\"endlinecolor\": \"#2a3f5f\", \"gridcolor\": \"white\", \"linecolor\": \"white\", \"minorgridcolor\": \"white\", \"startlinecolor\": \"#2a3f5f\"}, \"baxis\": {\"endlinecolor\": \"#2a3f5f\", \"gridcolor\": \"white\", \"linecolor\": \"white\", \"minorgridcolor\": \"white\", \"startlinecolor\": \"#2a3f5f\"}, \"type\": \"carpet\"}], \"choropleth\": [{\"colorbar\": {\"outlinewidth\": 0, \"ticks\": \"\"}, \"type\": \"choropleth\"}], \"contour\": [{\"colorbar\": {\"outlinewidth\": 0, \"ticks\": \"\"}, \"colorscale\": [[0.0, \"#0d0887\"], [0.1111111111111111, \"#46039f\"], [0.2222222222222222, \"#7201a8\"], [0.3333333333333333, \"#9c179e\"], [0.4444444444444444, \"#bd3786\"], [0.5555555555555556, \"#d8576b\"], [0.6666666666666666, \"#ed7953\"], [0.7777777777777778, \"#fb9f3a\"], [0.8888888888888888, \"#fdca26\"], [1.0, \"#f0f921\"]], \"type\": \"contour\"}], \"contourcarpet\": [{\"colorbar\": {\"outlinewidth\": 0, \"ticks\": \"\"}, \"type\": \"contourcarpet\"}], \"heatmap\": [{\"colorbar\": {\"outlinewidth\": 0, \"ticks\": \"\"}, \"colorscale\": [[0.0, \"#0d0887\"], [0.1111111111111111, \"#46039f\"], [0.2222222222222222, \"#7201a8\"], [0.3333333333333333, \"#9c179e\"], [0.4444444444444444, \"#bd3786\"], [0.5555555555555556, \"#d8576b\"], [0.6666666666666666, \"#ed7953\"], [0.7777777777777778, \"#fb9f3a\"], [0.8888888888888888, \"#fdca26\"], [1.0, \"#f0f921\"]], \"type\": \"heatmap\"}], \"heatmapgl\": [{\"colorbar\": {\"outlinewidth\": 0, \"ticks\": \"\"}, \"colorscale\": [[0.0, \"#0d0887\"], [0.1111111111111111, \"#46039f\"], [0.2222222222222222, \"#7201a8\"], [0.3333333333333333, \"#9c179e\"], [0.4444444444444444, \"#bd3786\"], [0.5555555555555556, \"#d8576b\"], [0.6666666666666666, \"#ed7953\"], [0.7777777777777778, \"#fb9f3a\"], [0.8888888888888888, \"#fdca26\"], [1.0, \"#f0f921\"]], \"type\": \"heatmapgl\"}], \"histogram\": [{\"marker\": {\"colorbar\": {\"outlinewidth\": 0, \"ticks\": \"\"}}, \"type\": \"histogram\"}], \"histogram2d\": [{\"colorbar\": {\"outlinewidth\": 0, \"ticks\": \"\"}, \"colorscale\": [[0.0, \"#0d0887\"], [0.1111111111111111, \"#46039f\"], [0.2222222222222222, \"#7201a8\"], [0.3333333333333333, \"#9c179e\"], [0.4444444444444444, \"#bd3786\"], [0.5555555555555556, \"#d8576b\"], [0.6666666666666666, \"#ed7953\"], [0.7777777777777778, \"#fb9f3a\"], [0.8888888888888888, \"#fdca26\"], [1.0, \"#f0f921\"]], \"type\": \"histogram2d\"}], \"histogram2dcontour\": [{\"colorbar\": {\"outlinewidth\": 0, \"ticks\": \"\"}, \"colorscale\": [[0.0, \"#0d0887\"], [0.1111111111111111, \"#46039f\"], [0.2222222222222222, \"#7201a8\"], [0.3333333333333333, \"#9c179e\"], [0.4444444444444444, \"#bd3786\"], [0.5555555555555556, \"#d8576b\"], [0.6666666666666666, \"#ed7953\"], [0.7777777777777778, \"#fb9f3a\"], [0.8888888888888888, \"#fdca26\"], [1.0, \"#f0f921\"]], \"type\": \"histogram2dcontour\"}], \"mesh3d\": [{\"colorbar\": {\"outlinewidth\": 0, \"ticks\": \"\"}, \"type\": \"mesh3d\"}], \"parcoords\": [{\"line\": {\"colorbar\": {\"outlinewidth\": 0, \"ticks\": \"\"}}, \"type\": \"parcoords\"}], \"pie\": [{\"automargin\": true, \"type\": \"pie\"}], \"scatter\": [{\"marker\": {\"colorbar\": {\"outlinewidth\": 0, \"ticks\": \"\"}}, \"type\": \"scatter\"}], \"scatter3d\": [{\"line\": {\"colorbar\": {\"outlinewidth\": 0, \"ticks\": \"\"}}, \"marker\": {\"colorbar\": {\"outlinewidth\": 0, \"ticks\": \"\"}}, \"type\": \"scatter3d\"}], \"scattercarpet\": [{\"marker\": {\"colorbar\": {\"outlinewidth\": 0, \"ticks\": \"\"}}, \"type\": \"scattercarpet\"}], \"scattergeo\": [{\"marker\": {\"colorbar\": {\"outlinewidth\": 0, \"ticks\": \"\"}}, \"type\": \"scattergeo\"}], \"scattergl\": [{\"marker\": {\"colorbar\": {\"outlinewidth\": 0, \"ticks\": \"\"}}, \"type\": \"scattergl\"}], \"scattermapbox\": [{\"marker\": {\"colorbar\": {\"outlinewidth\": 0, \"ticks\": \"\"}}, \"type\": \"scattermapbox\"}], \"scatterpolar\": [{\"marker\": {\"colorbar\": {\"outlinewidth\": 0, \"ticks\": \"\"}}, \"type\": \"scatterpolar\"}], \"scatterpolargl\": [{\"marker\": {\"colorbar\": {\"outlinewidth\": 0, \"ticks\": \"\"}}, \"type\": \"scatterpolargl\"}], \"scatterternary\": [{\"marker\": {\"colorbar\": {\"outlinewidth\": 0, \"ticks\": \"\"}}, \"type\": \"scatterternary\"}], \"surface\": [{\"colorbar\": {\"outlinewidth\": 0, \"ticks\": \"\"}, \"colorscale\": [[0.0, \"#0d0887\"], [0.1111111111111111, \"#46039f\"], [0.2222222222222222, \"#7201a8\"], [0.3333333333333333, \"#9c179e\"], [0.4444444444444444, \"#bd3786\"], [0.5555555555555556, \"#d8576b\"], [0.6666666666666666, \"#ed7953\"], [0.7777777777777778, \"#fb9f3a\"], [0.8888888888888888, \"#fdca26\"], [1.0, \"#f0f921\"]], \"type\": \"surface\"}], \"table\": [{\"cells\": {\"fill\": {\"color\": \"#EBF0F8\"}, \"line\": {\"color\": \"white\"}}, \"header\": {\"fill\": {\"color\": \"#C8D4E3\"}, \"line\": {\"color\": \"white\"}}, \"type\": \"table\"}]}, \"layout\": {\"annotationdefaults\": {\"arrowcolor\": \"#2a3f5f\", \"arrowhead\": 0, \"arrowwidth\": 1}, \"autotypenumbers\": \"strict\", \"coloraxis\": {\"colorbar\": {\"outlinewidth\": 0, \"ticks\": \"\"}}, \"colorscale\": {\"diverging\": [[0, \"#8e0152\"], [0.1, \"#c51b7d\"], [0.2, \"#de77ae\"], [0.3, \"#f1b6da\"], [0.4, \"#fde0ef\"], [0.5, \"#f7f7f7\"], [0.6, \"#e6f5d0\"], [0.7, \"#b8e186\"], [0.8, \"#7fbc41\"], [0.9, \"#4d9221\"], [1, \"#276419\"]], \"sequential\": [[0.0, \"#0d0887\"], [0.1111111111111111, \"#46039f\"], [0.2222222222222222, \"#7201a8\"], [0.3333333333333333, \"#9c179e\"], [0.4444444444444444, \"#bd3786\"], [0.5555555555555556, \"#d8576b\"], [0.6666666666666666, \"#ed7953\"], [0.7777777777777778, \"#fb9f3a\"], [0.8888888888888888, \"#fdca26\"], [1.0, \"#f0f921\"]], \"sequentialminus\": [[0.0, \"#0d0887\"], [0.1111111111111111, \"#46039f\"], [0.2222222222222222, \"#7201a8\"], [0.3333333333333333, \"#9c179e\"], [0.4444444444444444, \"#bd3786\"], [0.5555555555555556, \"#d8576b\"], [0.6666666666666666, \"#ed7953\"], [0.7777777777777778, \"#fb9f3a\"], [0.8888888888888888, \"#fdca26\"], [1.0, \"#f0f921\"]]}, \"colorway\": [\"#636efa\", \"#EF553B\", \"#00cc96\", \"#ab63fa\", \"#FFA15A\", \"#19d3f3\", \"#FF6692\", \"#B6E880\", \"#FF97FF\", \"#FECB52\"], \"font\": {\"color\": \"#2a3f5f\"}, \"geo\": {\"bgcolor\": \"white\", \"lakecolor\": \"white\", \"landcolor\": \"#E5ECF6\", \"showlakes\": true, \"showland\": true, \"subunitcolor\": \"white\"}, \"hoverlabel\": {\"align\": \"left\"}, \"hovermode\": \"closest\", \"mapbox\": {\"style\": \"light\"}, \"paper_bgcolor\": \"white\", \"plot_bgcolor\": \"#E5ECF6\", \"polar\": {\"angularaxis\": {\"gridcolor\": \"white\", \"linecolor\": \"white\", \"ticks\": \"\"}, \"bgcolor\": \"#E5ECF6\", \"radialaxis\": {\"gridcolor\": \"white\", \"linecolor\": \"white\", \"ticks\": \"\"}}, \"scene\": {\"xaxis\": {\"backgroundcolor\": \"#E5ECF6\", \"gridcolor\": \"white\", \"gridwidth\": 2, \"linecolor\": \"white\", \"showbackground\": true, \"ticks\": \"\", \"zerolinecolor\": \"white\"}, \"yaxis\": {\"backgroundcolor\": \"#E5ECF6\", \"gridcolor\": \"white\", \"gridwidth\": 2, \"linecolor\": \"white\", \"showbackground\": true, \"ticks\": \"\", \"zerolinecolor\": \"white\"}, \"zaxis\": {\"backgroundcolor\": \"#E5ECF6\", \"gridcolor\": \"white\", \"gridwidth\": 2, \"linecolor\": \"white\", \"showbackground\": true, \"ticks\": \"\", \"zerolinecolor\": \"white\"}}, \"shapedefaults\": {\"line\": {\"color\": \"#2a3f5f\"}}, \"ternary\": {\"aaxis\": {\"gridcolor\": \"white\", \"linecolor\": \"white\", \"ticks\": \"\"}, \"baxis\": {\"gridcolor\": \"white\", \"linecolor\": \"white\", \"ticks\": \"\"}, \"bgcolor\": \"#E5ECF6\", \"caxis\": {\"gridcolor\": \"white\", \"linecolor\": \"white\", \"ticks\": \"\"}}, \"title\": {\"x\": 0.05}, \"xaxis\": {\"automargin\": true, \"gridcolor\": \"white\", \"linecolor\": \"white\", \"ticks\": \"\", \"title\": {\"standoff\": 15}, \"zerolinecolor\": \"white\", \"zerolinewidth\": 2}, \"yaxis\": {\"automargin\": true, \"gridcolor\": \"white\", \"linecolor\": \"white\", \"ticks\": \"\", \"title\": {\"standoff\": 15}, \"zerolinecolor\": \"white\", \"zerolinewidth\": 2}}}},                        {\"responsive\": true}                    ).then(function(){\n",
       "                            \n",
       "var gd = document.getElementById('b224d3df-24af-48f7-a401-ee7defa4bf6f');\n",
       "var x = new MutationObserver(function (mutations, observer) {{\n",
       "        var display = window.getComputedStyle(gd).display;\n",
       "        if (!display || display === 'none') {{\n",
       "            console.log([gd, 'removed!']);\n",
       "            Plotly.purge(gd);\n",
       "            observer.disconnect();\n",
       "        }}\n",
       "}});\n",
       "\n",
       "// Listen for the removal of the full notebook cells\n",
       "var notebookContainer = gd.closest('#notebook-container');\n",
       "if (notebookContainer) {{\n",
       "    x.observe(notebookContainer, {childList: true});\n",
       "}}\n",
       "\n",
       "// Listen for the clearing of the current output cell\n",
       "var outputEl = gd.closest('.output');\n",
       "if (outputEl) {{\n",
       "    x.observe(outputEl, {childList: true});\n",
       "}}\n",
       "\n",
       "                        })                };                });            </script>        </div>"
      ]
     },
     "metadata": {},
     "output_type": "display_data"
    }
   ],
   "source": [
    "categories = ['Position','90s','Shot Creation Action',\n",
    "                   'Shot Creation Action per 90','Live Passes led to shot','Dead Passes led to shot',\n",
    "                   'Dribbles for led to shot','Shots led to Other Shot','Fouls led to shot',\n",
    "                   'Defensive action led to a shot','Goal Creating Action','Goal Creating Action per 90','Live Passes led to a goal',\n",
    "                   'Dead pass led to a goal','Dribbles led to a goal','Shot led to a goal','Foules led to a goal','Def actions led to a goal']\n",
    "\n",
    "\n",
    "\n",
    "fig = go.Figure()\n",
    "r = []\n",
    "for i in range(7):\n",
    "    \n",
    "    data = np.array(value[1].iloc[i])\n",
    "    \n",
    "    fig.add_trace(go.Scatterpolar(\n",
    "      r=data,     \n",
    "      theta=categories,\n",
    "      fill='toself',\n",
    "      name=value[1]['Player'].iloc[i]\n",
    "    ))\n",
    "\n",
    "\n",
    "fig.update_layout(\n",
    "  \n",
    "  showlegend=True\n",
    ")\n",
    "\n",
    "fig.show()"
   ]
  },
  {
   "cell_type": "code",
   "execution_count": null,
   "metadata": {},
   "outputs": [],
   "source": []
  }
 ],
 "metadata": {
  "kernelspec": {
   "display_name": "Python 3",
   "language": "python",
   "name": "python3"
  },
  "language_info": {
   "codemirror_mode": {
    "name": "ipython",
    "version": 3
   },
   "file_extension": ".py",
   "mimetype": "text/x-python",
   "name": "python",
   "nbconvert_exporter": "python",
   "pygments_lexer": "ipython3",
   "version": "3.8.5"
  }
 },
 "nbformat": 4,
 "nbformat_minor": 4
}
