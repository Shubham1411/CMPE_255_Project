{
 "cells": [
  {
   "cell_type": "code",
   "execution_count": 1,
   "metadata": {},
   "outputs": [],
   "source": [
    "import numpy as np\n",
    "import pandas as pd\n",
    "import os\n",
    "from difflib import SequenceMatcher\n",
    "import xlwt\n",
    "from pandas import ExcelWriter\n",
    "\n",
    "\n",
    "from sklearn.metrics.pairwise import cosine_similarity\n",
    "import plotly.graph_objects as go"
   ]
  },
  {
   "cell_type": "markdown",
   "metadata": {},
   "source": [
    "#  Code for Merging the Data files. \n",
    "\n",
    "As the files are already merged, I commented the code for merging the files. "
   ]
  },
  {
   "cell_type": "code",
   "execution_count": 11,
   "metadata": {},
   "outputs": [
    {
     "name": "stdout",
     "output_type": "stream",
     "text": [
      "D:\\255\\project\\20-21\n"
     ]
    }
   ],
   "source": [
    "#cwd = os.getcwd()\n",
    "#path = os.walk(\".\")\n",
    "\n",
    "#print(cwd)"
   ]
  },
  {
   "cell_type": "code",
   "execution_count": 12,
   "metadata": {},
   "outputs": [],
   "source": [
    "#def_actions = []\n",
    "#def_actions = pd.DataFrame()\n",
    "\n",
    "#for directories in os.listdir(cwd):\n",
    "#    #print(directories)\n",
    "#    if directories.endswith('.ipynb'):\n",
    "#        continue\n",
    "#    if directories.endswith('.csv'):\n",
    "#        continue\n",
    "#        \n",
    "#    else:\n",
    "#        \n",
    "#        for file in os.listdir(directories):\n",
    "#           # print(file)\n",
    "#            if file.startswith('def_actions.xls') or file.startswith('def_action.xls') :\n",
    "#                \n",
    "#              #  os.rename(os.path.join(directories,file),os.path.join(directories,'aa_std_stats.xls'))    \n",
    "#                data = pd.read_html(os.path.join(directories,file),encoding = 'utf-8')\n",
    "#                #print(data[0])\n",
    "#                data = pd.DataFrame(data[0])\n",
    "#                data.columns = data.columns.droplevel()\n",
    "#                data['club'] = directories\n",
    "#                #print(data)\n",
    "#                def_actions = def_actions.append(data,ignore_index = True)\n",
    "#               # print(\"found\")"
   ]
  },
  {
   "cell_type": "code",
   "execution_count": 13,
   "metadata": {},
   "outputs": [],
   "source": [
    "#def_actions.to_csv('20-21_def_actions.csv')"
   ]
  },
  {
   "cell_type": "code",
   "execution_count": null,
   "metadata": {},
   "outputs": [],
   "source": []
  },
  {
   "cell_type": "code",
   "execution_count": null,
   "metadata": {},
   "outputs": [],
   "source": []
  },
  {
   "cell_type": "code",
   "execution_count": null,
   "metadata": {},
   "outputs": [],
   "source": []
  },
  {
   "cell_type": "code",
   "execution_count": null,
   "metadata": {},
   "outputs": [],
   "source": []
  },
  {
   "cell_type": "code",
   "execution_count": 11,
   "metadata": {},
   "outputs": [],
   "source": [
    "def_actions = pd.read_csv('20-21_def_actions.csv')"
   ]
  },
  {
   "cell_type": "code",
   "execution_count": 12,
   "metadata": {},
   "outputs": [],
   "source": [
    "df_final = def_actions.drop(columns=['Matches','club','Nation','Age','Unnamed: 0','Tkl%','ShSv'])"
   ]
  },
  {
   "cell_type": "code",
   "execution_count": 13,
   "metadata": {},
   "outputs": [],
   "source": [
    "df_final.dropna(inplace=True)"
   ]
  },
  {
   "cell_type": "code",
   "execution_count": 14,
   "metadata": {},
   "outputs": [
    {
     "data": {
      "text/plain": [
       "Index(['Player', 'Pos', '90s', 'Tkl', 'TklW', 'Def 3rd', 'Mid 3rd', 'Att 3rd',\n",
       "       'Tkl.1', 'Att', 'Past', 'Press', 'Succ', '%', 'Def 3rd.1', 'Mid 3rd.1',\n",
       "       'Att 3rd.1', 'Blocks', 'Sh', 'Pass', 'Int', 'Tkl+Int', 'Clr', 'Err'],\n",
       "      dtype='object')"
      ]
     },
     "execution_count": 14,
     "metadata": {},
     "output_type": "execute_result"
    }
   ],
   "source": [
    "df_final.columns"
   ]
  },
  {
   "cell_type": "code",
   "execution_count": 15,
   "metadata": {},
   "outputs": [],
   "source": [
    "df_final.columns=['Player','Position','90s','No. of Tackels','Tckls, team won possession',\n",
    "                 'Tackles in def 3rd','Tackles in mid 3rd','Tackles in att 3rd',\n",
    "                 'Number of dribblers Tackled','Dribbles Past + Tackles','Dribbled past by','No. pressure Applied',\n",
    "                 'Pressure Success','Pressure Success %','Pressure Def 3rd','Pressure Mid 3rd','Pressure Att 3rd',\n",
    "                 'No. of Blocks','Shot Blocked','Pass Saved','Interceptions',\n",
    "                 'Tackles+Interceptions','Clearance','Errors']"
   ]
  },
  {
   "cell_type": "code",
   "execution_count": 16,
   "metadata": {},
   "outputs": [
    {
     "data": {
      "text/html": [
       "<div>\n",
       "<style scoped>\n",
       "    .dataframe tbody tr th:only-of-type {\n",
       "        vertical-align: middle;\n",
       "    }\n",
       "\n",
       "    .dataframe tbody tr th {\n",
       "        vertical-align: top;\n",
       "    }\n",
       "\n",
       "    .dataframe thead th {\n",
       "        text-align: right;\n",
       "    }\n",
       "</style>\n",
       "<table border=\"1\" class=\"dataframe\">\n",
       "  <thead>\n",
       "    <tr style=\"text-align: right;\">\n",
       "      <th></th>\n",
       "      <th>90s</th>\n",
       "      <th>No. of Tackels</th>\n",
       "      <th>Tckls, team won possession</th>\n",
       "      <th>Tackles in def 3rd</th>\n",
       "      <th>Tackles in mid 3rd</th>\n",
       "      <th>Tackles in att 3rd</th>\n",
       "      <th>Number of dribblers Tackled</th>\n",
       "      <th>Dribbles Past + Tackles</th>\n",
       "      <th>Dribbled past by</th>\n",
       "      <th>No. pressure Applied</th>\n",
       "      <th>...</th>\n",
       "      <th>Pressure Def 3rd</th>\n",
       "      <th>Pressure Mid 3rd</th>\n",
       "      <th>Pressure Att 3rd</th>\n",
       "      <th>No. of Blocks</th>\n",
       "      <th>Shot Blocked</th>\n",
       "      <th>Pass Saved</th>\n",
       "      <th>Interceptions</th>\n",
       "      <th>Tackles+Interceptions</th>\n",
       "      <th>Clearance</th>\n",
       "      <th>Errors</th>\n",
       "    </tr>\n",
       "  </thead>\n",
       "  <tbody>\n",
       "    <tr>\n",
       "      <th>0</th>\n",
       "      <td>1.499258</td>\n",
       "      <td>-0.972758</td>\n",
       "      <td>-1.015056</td>\n",
       "      <td>-0.830073</td>\n",
       "      <td>-0.929992</td>\n",
       "      <td>-0.852667</td>\n",
       "      <td>-0.793284</td>\n",
       "      <td>-0.836240</td>\n",
       "      <td>-0.787400</td>\n",
       "      <td>-1.117654</td>\n",
       "      <td>...</td>\n",
       "      <td>-0.926858</td>\n",
       "      <td>-1.059868</td>\n",
       "      <td>-0.840763</td>\n",
       "      <td>-1.077584</td>\n",
       "      <td>-0.665403</td>\n",
       "      <td>-1.064841</td>\n",
       "      <td>-0.961791</td>\n",
       "      <td>-1.002744</td>\n",
       "      <td>-0.692672</td>\n",
       "      <td>4.952656</td>\n",
       "    </tr>\n",
       "    <tr>\n",
       "      <th>1</th>\n",
       "      <td>1.271360</td>\n",
       "      <td>0.187266</td>\n",
       "      <td>0.458019</td>\n",
       "      <td>-0.169615</td>\n",
       "      <td>0.639416</td>\n",
       "      <td>0.041862</td>\n",
       "      <td>-0.081798</td>\n",
       "      <td>0.091965</td>\n",
       "      <td>0.185675</td>\n",
       "      <td>1.914878</td>\n",
       "      <td>...</td>\n",
       "      <td>-0.210866</td>\n",
       "      <td>2.000808</td>\n",
       "      <td>3.303121</td>\n",
       "      <td>0.631851</td>\n",
       "      <td>0.216957</td>\n",
       "      <td>0.701428</td>\n",
       "      <td>0.042865</td>\n",
       "      <td>0.175053</td>\n",
       "      <td>0.494750</td>\n",
       "      <td>-0.485136</td>\n",
       "    </tr>\n",
       "    <tr>\n",
       "      <th>2</th>\n",
       "      <td>1.201238</td>\n",
       "      <td>0.767278</td>\n",
       "      <td>0.524977</td>\n",
       "      <td>1.811759</td>\n",
       "      <td>-0.197602</td>\n",
       "      <td>-0.852667</td>\n",
       "      <td>0.985432</td>\n",
       "      <td>0.091965</td>\n",
       "      <td>-0.439874</td>\n",
       "      <td>0.247589</td>\n",
       "      <td>...</td>\n",
       "      <td>1.530294</td>\n",
       "      <td>-0.197882</td>\n",
       "      <td>-0.724033</td>\n",
       "      <td>1.305265</td>\n",
       "      <td>1.834616</td>\n",
       "      <td>0.832263</td>\n",
       "      <td>2.387062</td>\n",
       "      <td>1.496484</td>\n",
       "      <td>3.819533</td>\n",
       "      <td>-0.485136</td>\n",
       "    </tr>\n",
       "    <tr>\n",
       "      <th>3</th>\n",
       "      <td>0.973341</td>\n",
       "      <td>-0.080432</td>\n",
       "      <td>-0.010687</td>\n",
       "      <td>0.408286</td>\n",
       "      <td>-0.511483</td>\n",
       "      <td>-0.554491</td>\n",
       "      <td>0.511107</td>\n",
       "      <td>0.463247</td>\n",
       "      <td>0.394191</td>\n",
       "      <td>-0.163192</td>\n",
       "      <td>...</td>\n",
       "      <td>0.602760</td>\n",
       "      <td>-0.335300</td>\n",
       "      <td>-0.724033</td>\n",
       "      <td>1.046259</td>\n",
       "      <td>1.540496</td>\n",
       "      <td>0.636011</td>\n",
       "      <td>0.712636</td>\n",
       "      <td>0.146326</td>\n",
       "      <td>3.059583</td>\n",
       "      <td>0.874312</td>\n",
       "    </tr>\n",
       "    <tr>\n",
       "      <th>4</th>\n",
       "      <td>0.876923</td>\n",
       "      <td>1.034975</td>\n",
       "      <td>0.792808</td>\n",
       "      <td>0.738515</td>\n",
       "      <td>1.371806</td>\n",
       "      <td>0.340038</td>\n",
       "      <td>0.748270</td>\n",
       "      <td>0.973760</td>\n",
       "      <td>1.019739</td>\n",
       "      <td>1.431606</td>\n",
       "      <td>...</td>\n",
       "      <td>1.676747</td>\n",
       "      <td>1.713479</td>\n",
       "      <td>-0.062568</td>\n",
       "      <td>0.942657</td>\n",
       "      <td>1.393436</td>\n",
       "      <td>0.570594</td>\n",
       "      <td>-0.024112</td>\n",
       "      <td>0.692135</td>\n",
       "      <td>0.447253</td>\n",
       "      <td>-0.485136</td>\n",
       "    </tr>\n",
       "    <tr>\n",
       "      <th>...</th>\n",
       "      <td>...</td>\n",
       "      <td>...</td>\n",
       "      <td>...</td>\n",
       "      <td>...</td>\n",
       "      <td>...</td>\n",
       "      <td>...</td>\n",
       "      <td>...</td>\n",
       "      <td>...</td>\n",
       "      <td>...</td>\n",
       "      <td>...</td>\n",
       "      <td>...</td>\n",
       "      <td>...</td>\n",
       "      <td>...</td>\n",
       "      <td>...</td>\n",
       "      <td>...</td>\n",
       "      <td>...</td>\n",
       "      <td>...</td>\n",
       "      <td>...</td>\n",
       "      <td>...</td>\n",
       "      <td>...</td>\n",
       "      <td>...</td>\n",
       "    </tr>\n",
       "    <tr>\n",
       "      <th>2801</th>\n",
       "      <td>-1.139091</td>\n",
       "      <td>-0.794292</td>\n",
       "      <td>-0.747224</td>\n",
       "      <td>-0.664958</td>\n",
       "      <td>-0.720738</td>\n",
       "      <td>-0.852667</td>\n",
       "      <td>-0.674703</td>\n",
       "      <td>-0.789830</td>\n",
       "      <td>-0.787400</td>\n",
       "      <td>-0.996836</td>\n",
       "      <td>...</td>\n",
       "      <td>-0.812950</td>\n",
       "      <td>-0.947435</td>\n",
       "      <td>-0.762943</td>\n",
       "      <td>-0.870380</td>\n",
       "      <td>-0.665403</td>\n",
       "      <td>-0.803172</td>\n",
       "      <td>-0.827836</td>\n",
       "      <td>-0.859111</td>\n",
       "      <td>-0.573930</td>\n",
       "      <td>-0.485136</td>\n",
       "    </tr>\n",
       "    <tr>\n",
       "      <th>2802</th>\n",
       "      <td>-1.165387</td>\n",
       "      <td>-0.928141</td>\n",
       "      <td>-0.814182</td>\n",
       "      <td>-0.912630</td>\n",
       "      <td>-0.929992</td>\n",
       "      <td>-0.256315</td>\n",
       "      <td>-0.793284</td>\n",
       "      <td>-0.836240</td>\n",
       "      <td>-0.787400</td>\n",
       "      <td>-0.966632</td>\n",
       "      <td>...</td>\n",
       "      <td>-0.959403</td>\n",
       "      <td>-0.884973</td>\n",
       "      <td>-0.587849</td>\n",
       "      <td>-1.025783</td>\n",
       "      <td>-0.665403</td>\n",
       "      <td>-0.999424</td>\n",
       "      <td>-0.827836</td>\n",
       "      <td>-0.916564</td>\n",
       "      <td>-0.692672</td>\n",
       "      <td>-0.485136</td>\n",
       "    </tr>\n",
       "    <tr>\n",
       "      <th>2803</th>\n",
       "      <td>-1.209213</td>\n",
       "      <td>-0.705060</td>\n",
       "      <td>-0.680266</td>\n",
       "      <td>-0.664958</td>\n",
       "      <td>-0.511483</td>\n",
       "      <td>-0.852667</td>\n",
       "      <td>-0.911865</td>\n",
       "      <td>-0.975471</td>\n",
       "      <td>-0.926411</td>\n",
       "      <td>-0.942468</td>\n",
       "      <td>...</td>\n",
       "      <td>-0.894313</td>\n",
       "      <td>-0.785032</td>\n",
       "      <td>-0.743488</td>\n",
       "      <td>-0.922181</td>\n",
       "      <td>-0.518343</td>\n",
       "      <td>-0.934006</td>\n",
       "      <td>-0.760859</td>\n",
       "      <td>-0.744204</td>\n",
       "      <td>-0.668924</td>\n",
       "      <td>-0.485136</td>\n",
       "    </tr>\n",
       "    <tr>\n",
       "      <th>2804</th>\n",
       "      <td>-1.288100</td>\n",
       "      <td>-1.017374</td>\n",
       "      <td>-1.015056</td>\n",
       "      <td>-0.912630</td>\n",
       "      <td>-0.929992</td>\n",
       "      <td>-0.852667</td>\n",
       "      <td>-0.911865</td>\n",
       "      <td>-1.021881</td>\n",
       "      <td>-0.995916</td>\n",
       "      <td>-1.111614</td>\n",
       "      <td>...</td>\n",
       "      <td>-0.991948</td>\n",
       "      <td>-1.047376</td>\n",
       "      <td>-0.762943</td>\n",
       "      <td>-1.077584</td>\n",
       "      <td>-0.665403</td>\n",
       "      <td>-1.064841</td>\n",
       "      <td>-0.961791</td>\n",
       "      <td>-1.031471</td>\n",
       "      <td>-0.716421</td>\n",
       "      <td>-0.485136</td>\n",
       "    </tr>\n",
       "    <tr>\n",
       "      <th>2805</th>\n",
       "      <td>-1.305631</td>\n",
       "      <td>-1.017374</td>\n",
       "      <td>-0.948098</td>\n",
       "      <td>-0.912630</td>\n",
       "      <td>-0.929992</td>\n",
       "      <td>-0.852667</td>\n",
       "      <td>-0.911865</td>\n",
       "      <td>-0.975471</td>\n",
       "      <td>-0.926411</td>\n",
       "      <td>-1.123695</td>\n",
       "      <td>...</td>\n",
       "      <td>-0.975675</td>\n",
       "      <td>-1.059868</td>\n",
       "      <td>-0.801853</td>\n",
       "      <td>-1.077584</td>\n",
       "      <td>-0.665403</td>\n",
       "      <td>-1.064841</td>\n",
       "      <td>-0.961791</td>\n",
       "      <td>-1.031471</td>\n",
       "      <td>-0.716421</td>\n",
       "      <td>-0.485136</td>\n",
       "    </tr>\n",
       "  </tbody>\n",
       "</table>\n",
       "<p>2550 rows × 22 columns</p>\n",
       "</div>"
      ],
      "text/plain": [
       "           90s  No. of Tackels  Tckls, team won possession  \\\n",
       "0     1.499258       -0.972758                   -1.015056   \n",
       "1     1.271360        0.187266                    0.458019   \n",
       "2     1.201238        0.767278                    0.524977   \n",
       "3     0.973341       -0.080432                   -0.010687   \n",
       "4     0.876923        1.034975                    0.792808   \n",
       "...        ...             ...                         ...   \n",
       "2801 -1.139091       -0.794292                   -0.747224   \n",
       "2802 -1.165387       -0.928141                   -0.814182   \n",
       "2803 -1.209213       -0.705060                   -0.680266   \n",
       "2804 -1.288100       -1.017374                   -1.015056   \n",
       "2805 -1.305631       -1.017374                   -0.948098   \n",
       "\n",
       "      Tackles in def 3rd  Tackles in mid 3rd  Tackles in att 3rd  \\\n",
       "0              -0.830073           -0.929992           -0.852667   \n",
       "1              -0.169615            0.639416            0.041862   \n",
       "2               1.811759           -0.197602           -0.852667   \n",
       "3               0.408286           -0.511483           -0.554491   \n",
       "4               0.738515            1.371806            0.340038   \n",
       "...                  ...                 ...                 ...   \n",
       "2801           -0.664958           -0.720738           -0.852667   \n",
       "2802           -0.912630           -0.929992           -0.256315   \n",
       "2803           -0.664958           -0.511483           -0.852667   \n",
       "2804           -0.912630           -0.929992           -0.852667   \n",
       "2805           -0.912630           -0.929992           -0.852667   \n",
       "\n",
       "      Number of dribblers Tackled  Dribbles Past + Tackles  Dribbled past by  \\\n",
       "0                       -0.793284                -0.836240         -0.787400   \n",
       "1                       -0.081798                 0.091965          0.185675   \n",
       "2                        0.985432                 0.091965         -0.439874   \n",
       "3                        0.511107                 0.463247          0.394191   \n",
       "4                        0.748270                 0.973760          1.019739   \n",
       "...                           ...                      ...               ...   \n",
       "2801                    -0.674703                -0.789830         -0.787400   \n",
       "2802                    -0.793284                -0.836240         -0.787400   \n",
       "2803                    -0.911865                -0.975471         -0.926411   \n",
       "2804                    -0.911865                -1.021881         -0.995916   \n",
       "2805                    -0.911865                -0.975471         -0.926411   \n",
       "\n",
       "      No. pressure Applied  ...  Pressure Def 3rd  Pressure Mid 3rd  \\\n",
       "0                -1.117654  ...         -0.926858         -1.059868   \n",
       "1                 1.914878  ...         -0.210866          2.000808   \n",
       "2                 0.247589  ...          1.530294         -0.197882   \n",
       "3                -0.163192  ...          0.602760         -0.335300   \n",
       "4                 1.431606  ...          1.676747          1.713479   \n",
       "...                    ...  ...               ...               ...   \n",
       "2801             -0.996836  ...         -0.812950         -0.947435   \n",
       "2802             -0.966632  ...         -0.959403         -0.884973   \n",
       "2803             -0.942468  ...         -0.894313         -0.785032   \n",
       "2804             -1.111614  ...         -0.991948         -1.047376   \n",
       "2805             -1.123695  ...         -0.975675         -1.059868   \n",
       "\n",
       "      Pressure Att 3rd  No. of Blocks  Shot Blocked  Pass Saved  \\\n",
       "0            -0.840763      -1.077584     -0.665403   -1.064841   \n",
       "1             3.303121       0.631851      0.216957    0.701428   \n",
       "2            -0.724033       1.305265      1.834616    0.832263   \n",
       "3            -0.724033       1.046259      1.540496    0.636011   \n",
       "4            -0.062568       0.942657      1.393436    0.570594   \n",
       "...                ...            ...           ...         ...   \n",
       "2801         -0.762943      -0.870380     -0.665403   -0.803172   \n",
       "2802         -0.587849      -1.025783     -0.665403   -0.999424   \n",
       "2803         -0.743488      -0.922181     -0.518343   -0.934006   \n",
       "2804         -0.762943      -1.077584     -0.665403   -1.064841   \n",
       "2805         -0.801853      -1.077584     -0.665403   -1.064841   \n",
       "\n",
       "      Interceptions  Tackles+Interceptions  Clearance    Errors  \n",
       "0         -0.961791              -1.002744  -0.692672  4.952656  \n",
       "1          0.042865               0.175053   0.494750 -0.485136  \n",
       "2          2.387062               1.496484   3.819533 -0.485136  \n",
       "3          0.712636               0.146326   3.059583  0.874312  \n",
       "4         -0.024112               0.692135   0.447253 -0.485136  \n",
       "...             ...                    ...        ...       ...  \n",
       "2801      -0.827836              -0.859111  -0.573930 -0.485136  \n",
       "2802      -0.827836              -0.916564  -0.692672 -0.485136  \n",
       "2803      -0.760859              -0.744204  -0.668924 -0.485136  \n",
       "2804      -0.961791              -1.031471  -0.716421 -0.485136  \n",
       "2805      -0.961791              -1.031471  -0.716421 -0.485136  \n",
       "\n",
       "[2550 rows x 22 columns]"
      ]
     },
     "metadata": {},
     "output_type": "display_data"
    }
   ],
   "source": [
    "to_be_scaled = df_final[['90s','No. of Tackels','Tckls, team won possession',\n",
    "                 'Tackles in def 3rd','Tackles in mid 3rd','Tackles in att 3rd',\n",
    "                 'Number of dribblers Tackled','Dribbles Past + Tackles','Dribbled past by','No. pressure Applied',\n",
    "                 'Pressure Success','Pressure Success %','Pressure Def 3rd','Pressure Mid 3rd','Pressure Att 3rd',\n",
    "                 'No. of Blocks','Shot Blocked','Pass Saved','Interceptions',\n",
    "                 'Tackles+Interceptions','Clearance','Errors']]\n",
    "\n",
    "# copy the data\n",
    "df_z_scaled = to_be_scaled.copy()\n",
    "  \n",
    "# apply normalization techniques\n",
    "for column in df_z_scaled.columns:\n",
    "    df_z_scaled[column] = (df_z_scaled[column] -\n",
    "                           df_z_scaled[column].mean()) / df_z_scaled[column].std()    \n",
    "  \n",
    "# view normalized data   \n",
    "display(df_z_scaled)"
   ]
  },
  {
   "cell_type": "code",
   "execution_count": 7,
   "metadata": {},
   "outputs": [],
   "source": [
    "df_z_scaled.insert(0, \"Player\", df_final['Player'])\n",
    "df_z_scaled.insert(1, \"Position\", df_final['Position'])\n",
    "df_final = df_z_scaled"
   ]
  },
  {
   "cell_type": "code",
   "execution_count": 8,
   "metadata": {},
   "outputs": [],
   "source": [
    "def get_similar_players(player_name):\n",
    "    \n",
    "    player_index = [list(df_final['Player']).index(x) for x in list(df_final['Player']) if player_name in x]\n",
    "    player_index = int(player_index[0])\n",
    "    print(player_index)\n",
    "    df1 = df_final.iloc[:,5:]\n",
    "    cos = cosine_similarity(df1,df1)\n",
    "    player_cos = sorted(list(cos[player_index]))[-7:-1]\n",
    "    indexes = [list(cos[player_index]).index(x) for x in player_cos]\n",
    "    indexes.append(player_index)\n",
    "    return player_cos, df_final.iloc[indexes]"
   ]
  },
  {
   "cell_type": "code",
   "execution_count": 9,
   "metadata": {},
   "outputs": [
    {
     "name": "stdout",
     "output_type": "stream",
     "text": [
      "1431\n"
     ]
    }
   ],
   "source": [
    "value = get_similar_players('Rúben Dias')"
   ]
  },
  {
   "cell_type": "code",
   "execution_count": 24,
   "metadata": {},
   "outputs": [
    {
     "data": {
      "text/plain": [
       "([0.9416176901292165,\n",
       "  0.9449029092950278,\n",
       "  0.9449885406136748,\n",
       "  0.9451370267246074,\n",
       "  0.9512503843834001,\n",
       "  0.9596582934757354],\n",
       "                  Player Position       90s  No. of Tackels  \\\n",
       " 2029     Danilo Pereira    DF,FW  0.780505        0.276499   \n",
       " 1496   Andrew Gravillon       DF  0.727913        0.588813   \n",
       " 348   Laurent Koscielny       DF  0.675322        0.187266   \n",
       " 987     Domingos Duarte       DF  1.446666        0.678045   \n",
       " 1024       Koray Günter       DF  1.297656        0.588813   \n",
       " 2489       Armando Izzo       DF  1.341483        1.168824   \n",
       " 1582         Rúben Dias       DF  2.472203        0.722661   \n",
       " \n",
       "       Tckls, team won possession  Tackles in def 3rd  Tackles in mid 3rd  \\\n",
       " 2029                    0.458019            0.325729            0.220907   \n",
       " 1496                   -0.010687            1.068744            0.116280   \n",
       " 348                     0.190187            0.655958           -0.197602   \n",
       " 987                     0.190187            0.986187            0.430161   \n",
       " 1024                    0.524977            0.738515            0.639416   \n",
       " 2489                    1.261514            1.316416            0.848670   \n",
       " 1582                    1.060640            0.738515            0.639416   \n",
       " \n",
       "       Tackles in att 3rd  Number of dribblers Tackled  \\\n",
       " 2029            0.041862                     0.155364   \n",
       " 1496           -0.256315                     0.866851   \n",
       " 348            -0.554491                     0.392526   \n",
       " 987            -0.256315                     0.273945   \n",
       " 1024           -0.554491                     0.748270   \n",
       " 2489            0.638214                     0.985432   \n",
       " 1582            0.340038                     0.273945   \n",
       " \n",
       "       Dribbles Past + Tackles  ...  Pressure Mid 3rd  Pressure Att 3rd  \\\n",
       " 2029                -0.047266  ...          0.064462         -0.529485   \n",
       " 1496                 0.556068  ...         -0.185390         -0.743488   \n",
       " 348                 -0.093676  ...         -0.360285         -0.743488   \n",
       " 987                 -0.047266  ...         -0.197882         -0.704579   \n",
       " 1024                 0.509657  ...          0.526686         -0.568395   \n",
       " 2489                 0.648888  ...          0.439238         -0.159843   \n",
       " 1582                 0.277606  ...          0.126924         -0.393301   \n",
       " \n",
       "       No. of Blocks  Shot Blocked  Shot Saved  Pass Saved  Interceptions  \\\n",
       " 2029       0.580050      1.687556   -0.255125   -0.018163       1.382407   \n",
       " 1496       2.237684      4.187576   -0.255125    0.963098       2.320085   \n",
       " 348        1.616071      4.334635   -0.255125    0.112672       1.650315   \n",
       " 987        1.046259      2.716976   -0.255125    0.112672       1.650315   \n",
       " 1024       2.082280      5.069935   -0.255125    0.374341       1.851246   \n",
       " 2489       2.393087      4.040516   -0.255125    1.224767       1.985200   \n",
       " 1582       1.667872      3.599336   -0.255125    0.505176       1.851246   \n",
       " \n",
       "       Tackles+Interceptions  Clearance    Errors  \n",
       " 2029               0.605955   1.112210  0.874312  \n",
       " 1496               1.410304   3.273319 -0.485136  \n",
       " 348                0.864495   2.465871  0.874312  \n",
       " 987                1.123036   2.537117  0.874312  \n",
       " 1024               1.209217   3.487055  0.874312  \n",
       " 2489               1.611391   3.107080  0.874312  \n",
       " 1582               1.151763   2.418374  0.874312  \n",
       " \n",
       " [7 rows x 25 columns])"
      ]
     },
     "execution_count": 24,
     "metadata": {},
     "output_type": "execute_result"
    }
   ],
   "source": [
    "value"
   ]
  },
  {
   "cell_type": "code",
   "execution_count": 17,
   "metadata": {},
   "outputs": [
    {
     "data": {
      "application/vnd.plotly.v1+json": {
       "config": {
        "plotlyServerURL": "https://plot.ly"
       },
       "data": [
        {
         "fill": "toself",
         "name": "Danilo Pereira",
         "r": [
          "Danilo Pereira",
          "DF,FW",
          0.7805049215992238,
          0.2764985304177801,
          0.4580185829463478,
          0.3257288502268535,
          0.22090698943133952,
          0.041861606373917254,
          0.15536439403172356,
          -0.04726566169157053,
          -0.1618520829382842,
          -0.01821035654394276,
          0.04322312476739829,
          0.2055166989754343,
          0.30985450714407037,
          0.06446158264627298,
          -0.5294848431677194,
          0.5800498854408743,
          1.6875562564061,
          -0.25512459264749043,
          -0.018162945375326738,
          1.3824065151244953,
          0.6059545311009725,
          1.112209742647344,
          0.8743117546381388
         ],
         "theta": [
          "Position",
          "90s",
          "No. of Tackels",
          "Tckls, team won possession",
          "Tackles in def 3rd",
          "Tackles in mid 3rd",
          "Tackles in att 3rd",
          "Number of dribblers Tackled",
          "Dribbles Past + Tackles",
          "Dribbled past by",
          "No. pressure Applied",
          "Pressure Success",
          "Pressure Success %",
          "Pressure Def 3rd",
          "Pressure Mid 3rd",
          "Pressure Att 3rd",
          "No. of Blocks",
          "Shot Blocked",
          "Pass Saved",
          "Interceptions",
          "Tackles+Interceptions",
          "Clearance",
          "Errors"
         ],
         "type": "scatterpolar"
        },
        {
         "fill": "toself",
         "name": "Andrew Gravillon",
         "r": [
          "Andrew Gravillon",
          "DF",
          0.7279132614998333,
          0.5888125700278147,
          -0.010687012742026264,
          1.068744168058708,
          0.11627979347110255,
          -0.256314640144208,
          0.8668505444912775,
          0.5560676787302861,
          0.32468541797925937,
          -0.01821035654394276,
          0.08422720518289889,
          0.2937153530065305,
          0.8143029540865443,
          -0.18538951288191705,
          -0.7434882415460501,
          2.237683514773905,
          4.1875755208174334,
          -0.25512459264749043,
          0.963097874689996,
          2.3200853529027383,
          1.4103039988473414,
          3.273318655272246,
          -0.48513640043945516
         ],
         "theta": [
          "Position",
          "90s",
          "No. of Tackels",
          "Tckls, team won possession",
          "Tackles in def 3rd",
          "Tackles in mid 3rd",
          "Tackles in att 3rd",
          "Number of dribblers Tackled",
          "Dribbles Past + Tackles",
          "Dribbled past by",
          "No. pressure Applied",
          "Pressure Success",
          "Pressure Success %",
          "Pressure Def 3rd",
          "Pressure Mid 3rd",
          "Pressure Att 3rd",
          "No. of Blocks",
          "Shot Blocked",
          "Pass Saved",
          "Interceptions",
          "Tackles+Interceptions",
          "Clearance",
          "Errors"
         ],
         "type": "scatterpolar"
        },
        {
         "fill": "toself",
         "name": "Laurent Koscielny",
         "r": [
          "Laurent Koscielny",
          "DF",
          0.675321601400443,
          0.18726594767205595,
          0.19018681398156262,
          0.6559578803743444,
          -0.19760179440960832,
          -0.5544908866623333,
          0.3925264441849082,
          -0.09367591864709796,
          -0.3703681547600886,
          -0.12694658203724005,
          0.4942680093379048,
          1.6343348942791938,
          0.7492128319004187,
          -0.3602852797516501,
          -0.7434882415460501,
          1.6160709037740182,
          4.334635477547511,
          -0.25512459264749043,
          0.11267183063338296,
          1.6503147544897077,
          0.8644954314480197,
          2.465871369236568,
          0.8743117546381388
         ],
         "theta": [
          "Position",
          "90s",
          "No. of Tackels",
          "Tckls, team won possession",
          "Tackles in def 3rd",
          "Tackles in mid 3rd",
          "Tackles in att 3rd",
          "Number of dribblers Tackled",
          "Dribbles Past + Tackles",
          "Dribbled past by",
          "No. pressure Applied",
          "Pressure Success",
          "Pressure Success %",
          "Pressure Def 3rd",
          "Pressure Mid 3rd",
          "Pressure Att 3rd",
          "No. of Blocks",
          "Shot Blocked",
          "Pass Saved",
          "Interceptions",
          "Tackles+Interceptions",
          "Clearance",
          "Errors"
         ],
         "type": "scatterpolar"
        },
        {
         "fill": "toself",
         "name": "Domingos Duarte",
         "r": [
          "Domingos Duarte",
          "DF",
          1.446665949524836,
          0.6780451527735388,
          0.19018681398156262,
          0.9861869105218353,
          0.4301613813518134,
          -0.256314640144208,
          0.2739454191083159,
          -0.04726566169157053,
          -0.23135744021221902,
          -0.24172370894683165,
          -0.18229931751785497,
          0.2231564297816538,
          0.19594679331835044,
          -0.19788206765832655,
          -0.7045785327499899,
          1.0462593436907892,
          2.716975953516649,
          -0.25512459264749043,
          0.11267183063338296,
          1.6503147544897077,
          1.1230363317950667,
          2.537116718004422,
          0.8743117546381388
         ],
         "theta": [
          "Position",
          "90s",
          "No. of Tackels",
          "Tckls, team won possession",
          "Tackles in def 3rd",
          "Tackles in mid 3rd",
          "Tackles in att 3rd",
          "Number of dribblers Tackled",
          "Dribbles Past + Tackles",
          "Dribbled past by",
          "No. pressure Applied",
          "Pressure Success",
          "Pressure Success %",
          "Pressure Def 3rd",
          "Pressure Mid 3rd",
          "Pressure Att 3rd",
          "No. of Blocks",
          "Shot Blocked",
          "Pass Saved",
          "Interceptions",
          "Tackles+Interceptions",
          "Clearance",
          "Errors"
         ],
         "type": "scatterpolar"
        },
        {
         "fill": "toself",
         "name": "Koray Günter",
         "r": [
          "Koray Günter",
          "DF",
          1.2976562459098966,
          0.5888125700278147,
          0.524976525187544,
          0.7385151379112171,
          0.6394157732722873,
          -0.5544908866623333,
          0.7482695194146851,
          0.5096574217747586,
          0.32468541797925937,
          0.8637612502350241,
          0.9658149341161616,
          0.19669683357232484,
          2.1161053978090574,
          0.5266861093734245,
          -0.5683945519637795,
          2.082280362023933,
          5.069935261197903,
          -0.25512459264749043,
          0.37434138265080236,
          1.851245934013617,
          1.2092166319107491,
          3.4870547015758073,
          0.8743117546381388
         ],
         "theta": [
          "Position",
          "90s",
          "No. of Tackels",
          "Tckls, team won possession",
          "Tackles in def 3rd",
          "Tackles in mid 3rd",
          "Tackles in att 3rd",
          "Number of dribblers Tackled",
          "Dribbles Past + Tackles",
          "Dribbled past by",
          "No. pressure Applied",
          "Pressure Success",
          "Pressure Success %",
          "Pressure Def 3rd",
          "Pressure Mid 3rd",
          "Pressure Att 3rd",
          "No. of Blocks",
          "Shot Blocked",
          "Pass Saved",
          "Interceptions",
          "Tackles+Interceptions",
          "Clearance",
          "Errors"
         ],
         "type": "scatterpolar"
        },
        {
         "fill": "toself",
         "name": "Armando Izzo",
         "r": [
          "Armando Izzo",
          "DF",
          1.341482629326055,
          1.1688243578750217,
          1.2615138898407032,
          1.316415940669326,
          0.8486701651927613,
          0.6382140994101677,
          0.9854315695678698,
          0.6488881926413409,
          0.3941907752531942,
          0.8093931374883755,
          0.9248108537006611,
          0.2231564297816538,
          1.741837195238835,
          0.43923822593855805,
          -0.1598426096051482,
          2.3930866675238764,
          4.040515564087355,
          -0.25512459264749043,
          1.2247674267074153,
          1.985200053696223,
          1.6113913657839336,
          3.1070795081472533,
          0.8743117546381388
         ],
         "theta": [
          "Position",
          "90s",
          "No. of Tackels",
          "Tckls, team won possession",
          "Tackles in def 3rd",
          "Tackles in mid 3rd",
          "Tackles in att 3rd",
          "Number of dribblers Tackled",
          "Dribbles Past + Tackles",
          "Dribbled past by",
          "No. pressure Applied",
          "Pressure Success",
          "Pressure Success %",
          "Pressure Def 3rd",
          "Pressure Mid 3rd",
          "Pressure Att 3rd",
          "No. of Blocks",
          "Shot Blocked",
          "Pass Saved",
          "Interceptions",
          "Tackles+Interceptions",
          "Clearance",
          "Errors"
         ],
         "type": "scatterpolar"
        },
        {
         "fill": "toself",
         "name": "Rúben Dias",
         "r": [
          "Rúben Dias",
          "DF",
          2.4722033214629504,
          0.7226614441464009,
          1.0606400631171145,
          0.7385151379112171,
          0.6394157732722873,
          0.3400378528920425,
          0.2739454191083159,
          0.2776061369971215,
          0.25518006070532456,
          0.14489398169600318,
          0.5147700495456551,
          0.8052675463868891,
          0.5539424653420416,
          0.1269243565283205,
          -0.39330086238150896,
          1.6678719546906755,
          3.5993356938971197,
          -0.25512459264749043,
          0.505176158659512,
          1.851245934013617,
          1.1517630985002942,
          2.4183744700579988,
          0.8743117546381388
         ],
         "theta": [
          "Position",
          "90s",
          "No. of Tackels",
          "Tckls, team won possession",
          "Tackles in def 3rd",
          "Tackles in mid 3rd",
          "Tackles in att 3rd",
          "Number of dribblers Tackled",
          "Dribbles Past + Tackles",
          "Dribbled past by",
          "No. pressure Applied",
          "Pressure Success",
          "Pressure Success %",
          "Pressure Def 3rd",
          "Pressure Mid 3rd",
          "Pressure Att 3rd",
          "No. of Blocks",
          "Shot Blocked",
          "Pass Saved",
          "Interceptions",
          "Tackles+Interceptions",
          "Clearance",
          "Errors"
         ],
         "type": "scatterpolar"
        }
       ],
       "layout": {
        "showlegend": true,
        "template": {
         "data": {
          "bar": [
           {
            "error_x": {
             "color": "#2a3f5f"
            },
            "error_y": {
             "color": "#2a3f5f"
            },
            "marker": {
             "line": {
              "color": "#E5ECF6",
              "width": 0.5
             }
            },
            "type": "bar"
           }
          ],
          "barpolar": [
           {
            "marker": {
             "line": {
              "color": "#E5ECF6",
              "width": 0.5
             }
            },
            "type": "barpolar"
           }
          ],
          "carpet": [
           {
            "aaxis": {
             "endlinecolor": "#2a3f5f",
             "gridcolor": "white",
             "linecolor": "white",
             "minorgridcolor": "white",
             "startlinecolor": "#2a3f5f"
            },
            "baxis": {
             "endlinecolor": "#2a3f5f",
             "gridcolor": "white",
             "linecolor": "white",
             "minorgridcolor": "white",
             "startlinecolor": "#2a3f5f"
            },
            "type": "carpet"
           }
          ],
          "choropleth": [
           {
            "colorbar": {
             "outlinewidth": 0,
             "ticks": ""
            },
            "type": "choropleth"
           }
          ],
          "contour": [
           {
            "colorbar": {
             "outlinewidth": 0,
             "ticks": ""
            },
            "colorscale": [
             [
              0,
              "#0d0887"
             ],
             [
              0.1111111111111111,
              "#46039f"
             ],
             [
              0.2222222222222222,
              "#7201a8"
             ],
             [
              0.3333333333333333,
              "#9c179e"
             ],
             [
              0.4444444444444444,
              "#bd3786"
             ],
             [
              0.5555555555555556,
              "#d8576b"
             ],
             [
              0.6666666666666666,
              "#ed7953"
             ],
             [
              0.7777777777777778,
              "#fb9f3a"
             ],
             [
              0.8888888888888888,
              "#fdca26"
             ],
             [
              1,
              "#f0f921"
             ]
            ],
            "type": "contour"
           }
          ],
          "contourcarpet": [
           {
            "colorbar": {
             "outlinewidth": 0,
             "ticks": ""
            },
            "type": "contourcarpet"
           }
          ],
          "heatmap": [
           {
            "colorbar": {
             "outlinewidth": 0,
             "ticks": ""
            },
            "colorscale": [
             [
              0,
              "#0d0887"
             ],
             [
              0.1111111111111111,
              "#46039f"
             ],
             [
              0.2222222222222222,
              "#7201a8"
             ],
             [
              0.3333333333333333,
              "#9c179e"
             ],
             [
              0.4444444444444444,
              "#bd3786"
             ],
             [
              0.5555555555555556,
              "#d8576b"
             ],
             [
              0.6666666666666666,
              "#ed7953"
             ],
             [
              0.7777777777777778,
              "#fb9f3a"
             ],
             [
              0.8888888888888888,
              "#fdca26"
             ],
             [
              1,
              "#f0f921"
             ]
            ],
            "type": "heatmap"
           }
          ],
          "heatmapgl": [
           {
            "colorbar": {
             "outlinewidth": 0,
             "ticks": ""
            },
            "colorscale": [
             [
              0,
              "#0d0887"
             ],
             [
              0.1111111111111111,
              "#46039f"
             ],
             [
              0.2222222222222222,
              "#7201a8"
             ],
             [
              0.3333333333333333,
              "#9c179e"
             ],
             [
              0.4444444444444444,
              "#bd3786"
             ],
             [
              0.5555555555555556,
              "#d8576b"
             ],
             [
              0.6666666666666666,
              "#ed7953"
             ],
             [
              0.7777777777777778,
              "#fb9f3a"
             ],
             [
              0.8888888888888888,
              "#fdca26"
             ],
             [
              1,
              "#f0f921"
             ]
            ],
            "type": "heatmapgl"
           }
          ],
          "histogram": [
           {
            "marker": {
             "colorbar": {
              "outlinewidth": 0,
              "ticks": ""
             }
            },
            "type": "histogram"
           }
          ],
          "histogram2d": [
           {
            "colorbar": {
             "outlinewidth": 0,
             "ticks": ""
            },
            "colorscale": [
             [
              0,
              "#0d0887"
             ],
             [
              0.1111111111111111,
              "#46039f"
             ],
             [
              0.2222222222222222,
              "#7201a8"
             ],
             [
              0.3333333333333333,
              "#9c179e"
             ],
             [
              0.4444444444444444,
              "#bd3786"
             ],
             [
              0.5555555555555556,
              "#d8576b"
             ],
             [
              0.6666666666666666,
              "#ed7953"
             ],
             [
              0.7777777777777778,
              "#fb9f3a"
             ],
             [
              0.8888888888888888,
              "#fdca26"
             ],
             [
              1,
              "#f0f921"
             ]
            ],
            "type": "histogram2d"
           }
          ],
          "histogram2dcontour": [
           {
            "colorbar": {
             "outlinewidth": 0,
             "ticks": ""
            },
            "colorscale": [
             [
              0,
              "#0d0887"
             ],
             [
              0.1111111111111111,
              "#46039f"
             ],
             [
              0.2222222222222222,
              "#7201a8"
             ],
             [
              0.3333333333333333,
              "#9c179e"
             ],
             [
              0.4444444444444444,
              "#bd3786"
             ],
             [
              0.5555555555555556,
              "#d8576b"
             ],
             [
              0.6666666666666666,
              "#ed7953"
             ],
             [
              0.7777777777777778,
              "#fb9f3a"
             ],
             [
              0.8888888888888888,
              "#fdca26"
             ],
             [
              1,
              "#f0f921"
             ]
            ],
            "type": "histogram2dcontour"
           }
          ],
          "mesh3d": [
           {
            "colorbar": {
             "outlinewidth": 0,
             "ticks": ""
            },
            "type": "mesh3d"
           }
          ],
          "parcoords": [
           {
            "line": {
             "colorbar": {
              "outlinewidth": 0,
              "ticks": ""
             }
            },
            "type": "parcoords"
           }
          ],
          "pie": [
           {
            "automargin": true,
            "type": "pie"
           }
          ],
          "scatter": [
           {
            "marker": {
             "colorbar": {
              "outlinewidth": 0,
              "ticks": ""
             }
            },
            "type": "scatter"
           }
          ],
          "scatter3d": [
           {
            "line": {
             "colorbar": {
              "outlinewidth": 0,
              "ticks": ""
             }
            },
            "marker": {
             "colorbar": {
              "outlinewidth": 0,
              "ticks": ""
             }
            },
            "type": "scatter3d"
           }
          ],
          "scattercarpet": [
           {
            "marker": {
             "colorbar": {
              "outlinewidth": 0,
              "ticks": ""
             }
            },
            "type": "scattercarpet"
           }
          ],
          "scattergeo": [
           {
            "marker": {
             "colorbar": {
              "outlinewidth": 0,
              "ticks": ""
             }
            },
            "type": "scattergeo"
           }
          ],
          "scattergl": [
           {
            "marker": {
             "colorbar": {
              "outlinewidth": 0,
              "ticks": ""
             }
            },
            "type": "scattergl"
           }
          ],
          "scattermapbox": [
           {
            "marker": {
             "colorbar": {
              "outlinewidth": 0,
              "ticks": ""
             }
            },
            "type": "scattermapbox"
           }
          ],
          "scatterpolar": [
           {
            "marker": {
             "colorbar": {
              "outlinewidth": 0,
              "ticks": ""
             }
            },
            "type": "scatterpolar"
           }
          ],
          "scatterpolargl": [
           {
            "marker": {
             "colorbar": {
              "outlinewidth": 0,
              "ticks": ""
             }
            },
            "type": "scatterpolargl"
           }
          ],
          "scatterternary": [
           {
            "marker": {
             "colorbar": {
              "outlinewidth": 0,
              "ticks": ""
             }
            },
            "type": "scatterternary"
           }
          ],
          "surface": [
           {
            "colorbar": {
             "outlinewidth": 0,
             "ticks": ""
            },
            "colorscale": [
             [
              0,
              "#0d0887"
             ],
             [
              0.1111111111111111,
              "#46039f"
             ],
             [
              0.2222222222222222,
              "#7201a8"
             ],
             [
              0.3333333333333333,
              "#9c179e"
             ],
             [
              0.4444444444444444,
              "#bd3786"
             ],
             [
              0.5555555555555556,
              "#d8576b"
             ],
             [
              0.6666666666666666,
              "#ed7953"
             ],
             [
              0.7777777777777778,
              "#fb9f3a"
             ],
             [
              0.8888888888888888,
              "#fdca26"
             ],
             [
              1,
              "#f0f921"
             ]
            ],
            "type": "surface"
           }
          ],
          "table": [
           {
            "cells": {
             "fill": {
              "color": "#EBF0F8"
             },
             "line": {
              "color": "white"
             }
            },
            "header": {
             "fill": {
              "color": "#C8D4E3"
             },
             "line": {
              "color": "white"
             }
            },
            "type": "table"
           }
          ]
         },
         "layout": {
          "annotationdefaults": {
           "arrowcolor": "#2a3f5f",
           "arrowhead": 0,
           "arrowwidth": 1
          },
          "autotypenumbers": "strict",
          "coloraxis": {
           "colorbar": {
            "outlinewidth": 0,
            "ticks": ""
           }
          },
          "colorscale": {
           "diverging": [
            [
             0,
             "#8e0152"
            ],
            [
             0.1,
             "#c51b7d"
            ],
            [
             0.2,
             "#de77ae"
            ],
            [
             0.3,
             "#f1b6da"
            ],
            [
             0.4,
             "#fde0ef"
            ],
            [
             0.5,
             "#f7f7f7"
            ],
            [
             0.6,
             "#e6f5d0"
            ],
            [
             0.7,
             "#b8e186"
            ],
            [
             0.8,
             "#7fbc41"
            ],
            [
             0.9,
             "#4d9221"
            ],
            [
             1,
             "#276419"
            ]
           ],
           "sequential": [
            [
             0,
             "#0d0887"
            ],
            [
             0.1111111111111111,
             "#46039f"
            ],
            [
             0.2222222222222222,
             "#7201a8"
            ],
            [
             0.3333333333333333,
             "#9c179e"
            ],
            [
             0.4444444444444444,
             "#bd3786"
            ],
            [
             0.5555555555555556,
             "#d8576b"
            ],
            [
             0.6666666666666666,
             "#ed7953"
            ],
            [
             0.7777777777777778,
             "#fb9f3a"
            ],
            [
             0.8888888888888888,
             "#fdca26"
            ],
            [
             1,
             "#f0f921"
            ]
           ],
           "sequentialminus": [
            [
             0,
             "#0d0887"
            ],
            [
             0.1111111111111111,
             "#46039f"
            ],
            [
             0.2222222222222222,
             "#7201a8"
            ],
            [
             0.3333333333333333,
             "#9c179e"
            ],
            [
             0.4444444444444444,
             "#bd3786"
            ],
            [
             0.5555555555555556,
             "#d8576b"
            ],
            [
             0.6666666666666666,
             "#ed7953"
            ],
            [
             0.7777777777777778,
             "#fb9f3a"
            ],
            [
             0.8888888888888888,
             "#fdca26"
            ],
            [
             1,
             "#f0f921"
            ]
           ]
          },
          "colorway": [
           "#636efa",
           "#EF553B",
           "#00cc96",
           "#ab63fa",
           "#FFA15A",
           "#19d3f3",
           "#FF6692",
           "#B6E880",
           "#FF97FF",
           "#FECB52"
          ],
          "font": {
           "color": "#2a3f5f"
          },
          "geo": {
           "bgcolor": "white",
           "lakecolor": "white",
           "landcolor": "#E5ECF6",
           "showlakes": true,
           "showland": true,
           "subunitcolor": "white"
          },
          "hoverlabel": {
           "align": "left"
          },
          "hovermode": "closest",
          "mapbox": {
           "style": "light"
          },
          "paper_bgcolor": "white",
          "plot_bgcolor": "#E5ECF6",
          "polar": {
           "angularaxis": {
            "gridcolor": "white",
            "linecolor": "white",
            "ticks": ""
           },
           "bgcolor": "#E5ECF6",
           "radialaxis": {
            "gridcolor": "white",
            "linecolor": "white",
            "ticks": ""
           }
          },
          "scene": {
           "xaxis": {
            "backgroundcolor": "#E5ECF6",
            "gridcolor": "white",
            "gridwidth": 2,
            "linecolor": "white",
            "showbackground": true,
            "ticks": "",
            "zerolinecolor": "white"
           },
           "yaxis": {
            "backgroundcolor": "#E5ECF6",
            "gridcolor": "white",
            "gridwidth": 2,
            "linecolor": "white",
            "showbackground": true,
            "ticks": "",
            "zerolinecolor": "white"
           },
           "zaxis": {
            "backgroundcolor": "#E5ECF6",
            "gridcolor": "white",
            "gridwidth": 2,
            "linecolor": "white",
            "showbackground": true,
            "ticks": "",
            "zerolinecolor": "white"
           }
          },
          "shapedefaults": {
           "line": {
            "color": "#2a3f5f"
           }
          },
          "ternary": {
           "aaxis": {
            "gridcolor": "white",
            "linecolor": "white",
            "ticks": ""
           },
           "baxis": {
            "gridcolor": "white",
            "linecolor": "white",
            "ticks": ""
           },
           "bgcolor": "#E5ECF6",
           "caxis": {
            "gridcolor": "white",
            "linecolor": "white",
            "ticks": ""
           }
          },
          "title": {
           "x": 0.05
          },
          "xaxis": {
           "automargin": true,
           "gridcolor": "white",
           "linecolor": "white",
           "ticks": "",
           "title": {
            "standoff": 15
           },
           "zerolinecolor": "white",
           "zerolinewidth": 2
          },
          "yaxis": {
           "automargin": true,
           "gridcolor": "white",
           "linecolor": "white",
           "ticks": "",
           "title": {
            "standoff": 15
           },
           "zerolinecolor": "white",
           "zerolinewidth": 2
          }
         }
        }
       }
      },
      "text/html": [
       "<div>                            <div id=\"4e6b0480-a609-4e08-b495-02b7096db82d\" class=\"plotly-graph-div\" style=\"height:525px; width:100%;\"></div>            <script type=\"text/javascript\">                require([\"plotly\"], function(Plotly) {                    window.PLOTLYENV=window.PLOTLYENV || {};                                    if (document.getElementById(\"4e6b0480-a609-4e08-b495-02b7096db82d\")) {                    Plotly.newPlot(                        \"4e6b0480-a609-4e08-b495-02b7096db82d\",                        [{\"fill\": \"toself\", \"name\": \"Danilo Pereira\", \"r\": [\"Danilo Pereira\", \"DF,FW\", 0.7805049215992238, 0.2764985304177801, 0.4580185829463478, 0.3257288502268535, 0.22090698943133952, 0.041861606373917254, 0.15536439403172356, -0.04726566169157053, -0.1618520829382842, -0.01821035654394276, 0.04322312476739829, 0.2055166989754343, 0.30985450714407037, 0.06446158264627298, -0.5294848431677194, 0.5800498854408743, 1.6875562564061, -0.25512459264749043, -0.018162945375326738, 1.3824065151244953, 0.6059545311009725, 1.112209742647344, 0.8743117546381388], \"theta\": [\"Position\", \"90s\", \"No. of Tackels\", \"Tckls, team won possession\", \"Tackles in def 3rd\", \"Tackles in mid 3rd\", \"Tackles in att 3rd\", \"Number of dribblers Tackled\", \"Dribbles Past + Tackles\", \"Dribbled past by\", \"No. pressure Applied\", \"Pressure Success\", \"Pressure Success %\", \"Pressure Def 3rd\", \"Pressure Mid 3rd\", \"Pressure Att 3rd\", \"No. of Blocks\", \"Shot Blocked\", \"Pass Saved\", \"Interceptions\", \"Tackles+Interceptions\", \"Clearance\", \"Errors\"], \"type\": \"scatterpolar\"}, {\"fill\": \"toself\", \"name\": \"Andrew Gravillon\", \"r\": [\"Andrew Gravillon\", \"DF\", 0.7279132614998333, 0.5888125700278147, -0.010687012742026264, 1.068744168058708, 0.11627979347110255, -0.256314640144208, 0.8668505444912775, 0.5560676787302861, 0.32468541797925937, -0.01821035654394276, 0.08422720518289889, 0.2937153530065305, 0.8143029540865443, -0.18538951288191705, -0.7434882415460501, 2.237683514773905, 4.1875755208174334, -0.25512459264749043, 0.963097874689996, 2.3200853529027383, 1.4103039988473414, 3.273318655272246, -0.48513640043945516], \"theta\": [\"Position\", \"90s\", \"No. of Tackels\", \"Tckls, team won possession\", \"Tackles in def 3rd\", \"Tackles in mid 3rd\", \"Tackles in att 3rd\", \"Number of dribblers Tackled\", \"Dribbles Past + Tackles\", \"Dribbled past by\", \"No. pressure Applied\", \"Pressure Success\", \"Pressure Success %\", \"Pressure Def 3rd\", \"Pressure Mid 3rd\", \"Pressure Att 3rd\", \"No. of Blocks\", \"Shot Blocked\", \"Pass Saved\", \"Interceptions\", \"Tackles+Interceptions\", \"Clearance\", \"Errors\"], \"type\": \"scatterpolar\"}, {\"fill\": \"toself\", \"name\": \"Laurent Koscielny\", \"r\": [\"Laurent Koscielny\", \"DF\", 0.675321601400443, 0.18726594767205595, 0.19018681398156262, 0.6559578803743444, -0.19760179440960832, -0.5544908866623333, 0.3925264441849082, -0.09367591864709796, -0.3703681547600886, -0.12694658203724005, 0.4942680093379048, 1.6343348942791938, 0.7492128319004187, -0.3602852797516501, -0.7434882415460501, 1.6160709037740182, 4.334635477547511, -0.25512459264749043, 0.11267183063338296, 1.6503147544897077, 0.8644954314480197, 2.465871369236568, 0.8743117546381388], \"theta\": [\"Position\", \"90s\", \"No. of Tackels\", \"Tckls, team won possession\", \"Tackles in def 3rd\", \"Tackles in mid 3rd\", \"Tackles in att 3rd\", \"Number of dribblers Tackled\", \"Dribbles Past + Tackles\", \"Dribbled past by\", \"No. pressure Applied\", \"Pressure Success\", \"Pressure Success %\", \"Pressure Def 3rd\", \"Pressure Mid 3rd\", \"Pressure Att 3rd\", \"No. of Blocks\", \"Shot Blocked\", \"Pass Saved\", \"Interceptions\", \"Tackles+Interceptions\", \"Clearance\", \"Errors\"], \"type\": \"scatterpolar\"}, {\"fill\": \"toself\", \"name\": \"Domingos Duarte\", \"r\": [\"Domingos Duarte\", \"DF\", 1.446665949524836, 0.6780451527735388, 0.19018681398156262, 0.9861869105218353, 0.4301613813518134, -0.256314640144208, 0.2739454191083159, -0.04726566169157053, -0.23135744021221902, -0.24172370894683165, -0.18229931751785497, 0.2231564297816538, 0.19594679331835044, -0.19788206765832655, -0.7045785327499899, 1.0462593436907892, 2.716975953516649, -0.25512459264749043, 0.11267183063338296, 1.6503147544897077, 1.1230363317950667, 2.537116718004422, 0.8743117546381388], \"theta\": [\"Position\", \"90s\", \"No. of Tackels\", \"Tckls, team won possession\", \"Tackles in def 3rd\", \"Tackles in mid 3rd\", \"Tackles in att 3rd\", \"Number of dribblers Tackled\", \"Dribbles Past + Tackles\", \"Dribbled past by\", \"No. pressure Applied\", \"Pressure Success\", \"Pressure Success %\", \"Pressure Def 3rd\", \"Pressure Mid 3rd\", \"Pressure Att 3rd\", \"No. of Blocks\", \"Shot Blocked\", \"Pass Saved\", \"Interceptions\", \"Tackles+Interceptions\", \"Clearance\", \"Errors\"], \"type\": \"scatterpolar\"}, {\"fill\": \"toself\", \"name\": \"Koray G\\u00fcnter\", \"r\": [\"Koray G\\u00fcnter\", \"DF\", 1.2976562459098966, 0.5888125700278147, 0.524976525187544, 0.7385151379112171, 0.6394157732722873, -0.5544908866623333, 0.7482695194146851, 0.5096574217747586, 0.32468541797925937, 0.8637612502350241, 0.9658149341161616, 0.19669683357232484, 2.1161053978090574, 0.5266861093734245, -0.5683945519637795, 2.082280362023933, 5.069935261197903, -0.25512459264749043, 0.37434138265080236, 1.851245934013617, 1.2092166319107491, 3.4870547015758073, 0.8743117546381388], \"theta\": [\"Position\", \"90s\", \"No. of Tackels\", \"Tckls, team won possession\", \"Tackles in def 3rd\", \"Tackles in mid 3rd\", \"Tackles in att 3rd\", \"Number of dribblers Tackled\", \"Dribbles Past + Tackles\", \"Dribbled past by\", \"No. pressure Applied\", \"Pressure Success\", \"Pressure Success %\", \"Pressure Def 3rd\", \"Pressure Mid 3rd\", \"Pressure Att 3rd\", \"No. of Blocks\", \"Shot Blocked\", \"Pass Saved\", \"Interceptions\", \"Tackles+Interceptions\", \"Clearance\", \"Errors\"], \"type\": \"scatterpolar\"}, {\"fill\": \"toself\", \"name\": \"Armando Izzo\", \"r\": [\"Armando Izzo\", \"DF\", 1.341482629326055, 1.1688243578750217, 1.2615138898407032, 1.316415940669326, 0.8486701651927613, 0.6382140994101677, 0.9854315695678698, 0.6488881926413409, 0.3941907752531942, 0.8093931374883755, 0.9248108537006611, 0.2231564297816538, 1.741837195238835, 0.43923822593855805, -0.1598426096051482, 2.3930866675238764, 4.040515564087355, -0.25512459264749043, 1.2247674267074153, 1.985200053696223, 1.6113913657839336, 3.1070795081472533, 0.8743117546381388], \"theta\": [\"Position\", \"90s\", \"No. of Tackels\", \"Tckls, team won possession\", \"Tackles in def 3rd\", \"Tackles in mid 3rd\", \"Tackles in att 3rd\", \"Number of dribblers Tackled\", \"Dribbles Past + Tackles\", \"Dribbled past by\", \"No. pressure Applied\", \"Pressure Success\", \"Pressure Success %\", \"Pressure Def 3rd\", \"Pressure Mid 3rd\", \"Pressure Att 3rd\", \"No. of Blocks\", \"Shot Blocked\", \"Pass Saved\", \"Interceptions\", \"Tackles+Interceptions\", \"Clearance\", \"Errors\"], \"type\": \"scatterpolar\"}, {\"fill\": \"toself\", \"name\": \"R\\u00faben Dias\", \"r\": [\"R\\u00faben Dias\", \"DF\", 2.4722033214629504, 0.7226614441464009, 1.0606400631171145, 0.7385151379112171, 0.6394157732722873, 0.3400378528920425, 0.2739454191083159, 0.2776061369971215, 0.25518006070532456, 0.14489398169600318, 0.5147700495456551, 0.8052675463868891, 0.5539424653420416, 0.1269243565283205, -0.39330086238150896, 1.6678719546906755, 3.5993356938971197, -0.25512459264749043, 0.505176158659512, 1.851245934013617, 1.1517630985002942, 2.4183744700579988, 0.8743117546381388], \"theta\": [\"Position\", \"90s\", \"No. of Tackels\", \"Tckls, team won possession\", \"Tackles in def 3rd\", \"Tackles in mid 3rd\", \"Tackles in att 3rd\", \"Number of dribblers Tackled\", \"Dribbles Past + Tackles\", \"Dribbled past by\", \"No. pressure Applied\", \"Pressure Success\", \"Pressure Success %\", \"Pressure Def 3rd\", \"Pressure Mid 3rd\", \"Pressure Att 3rd\", \"No. of Blocks\", \"Shot Blocked\", \"Pass Saved\", \"Interceptions\", \"Tackles+Interceptions\", \"Clearance\", \"Errors\"], \"type\": \"scatterpolar\"}],                        {\"showlegend\": true, \"template\": {\"data\": {\"bar\": [{\"error_x\": {\"color\": \"#2a3f5f\"}, \"error_y\": {\"color\": \"#2a3f5f\"}, \"marker\": {\"line\": {\"color\": \"#E5ECF6\", \"width\": 0.5}}, \"type\": \"bar\"}], \"barpolar\": [{\"marker\": {\"line\": {\"color\": \"#E5ECF6\", \"width\": 0.5}}, \"type\": \"barpolar\"}], \"carpet\": [{\"aaxis\": {\"endlinecolor\": \"#2a3f5f\", \"gridcolor\": \"white\", \"linecolor\": \"white\", \"minorgridcolor\": \"white\", \"startlinecolor\": \"#2a3f5f\"}, \"baxis\": {\"endlinecolor\": \"#2a3f5f\", \"gridcolor\": \"white\", \"linecolor\": \"white\", \"minorgridcolor\": \"white\", \"startlinecolor\": \"#2a3f5f\"}, \"type\": \"carpet\"}], \"choropleth\": [{\"colorbar\": {\"outlinewidth\": 0, \"ticks\": \"\"}, \"type\": \"choropleth\"}], \"contour\": [{\"colorbar\": {\"outlinewidth\": 0, \"ticks\": \"\"}, \"colorscale\": [[0.0, \"#0d0887\"], [0.1111111111111111, \"#46039f\"], [0.2222222222222222, \"#7201a8\"], [0.3333333333333333, \"#9c179e\"], [0.4444444444444444, \"#bd3786\"], [0.5555555555555556, \"#d8576b\"], [0.6666666666666666, \"#ed7953\"], [0.7777777777777778, \"#fb9f3a\"], [0.8888888888888888, \"#fdca26\"], [1.0, \"#f0f921\"]], \"type\": \"contour\"}], \"contourcarpet\": [{\"colorbar\": {\"outlinewidth\": 0, \"ticks\": \"\"}, \"type\": \"contourcarpet\"}], \"heatmap\": [{\"colorbar\": {\"outlinewidth\": 0, \"ticks\": \"\"}, \"colorscale\": [[0.0, \"#0d0887\"], [0.1111111111111111, \"#46039f\"], [0.2222222222222222, \"#7201a8\"], [0.3333333333333333, \"#9c179e\"], [0.4444444444444444, \"#bd3786\"], [0.5555555555555556, \"#d8576b\"], [0.6666666666666666, \"#ed7953\"], [0.7777777777777778, \"#fb9f3a\"], [0.8888888888888888, \"#fdca26\"], [1.0, \"#f0f921\"]], \"type\": \"heatmap\"}], \"heatmapgl\": [{\"colorbar\": {\"outlinewidth\": 0, \"ticks\": \"\"}, \"colorscale\": [[0.0, \"#0d0887\"], [0.1111111111111111, \"#46039f\"], [0.2222222222222222, \"#7201a8\"], [0.3333333333333333, \"#9c179e\"], [0.4444444444444444, \"#bd3786\"], [0.5555555555555556, \"#d8576b\"], [0.6666666666666666, \"#ed7953\"], [0.7777777777777778, \"#fb9f3a\"], [0.8888888888888888, \"#fdca26\"], [1.0, \"#f0f921\"]], \"type\": \"heatmapgl\"}], \"histogram\": [{\"marker\": {\"colorbar\": {\"outlinewidth\": 0, \"ticks\": \"\"}}, \"type\": \"histogram\"}], \"histogram2d\": [{\"colorbar\": {\"outlinewidth\": 0, \"ticks\": \"\"}, \"colorscale\": [[0.0, \"#0d0887\"], [0.1111111111111111, \"#46039f\"], [0.2222222222222222, \"#7201a8\"], [0.3333333333333333, \"#9c179e\"], [0.4444444444444444, \"#bd3786\"], [0.5555555555555556, \"#d8576b\"], [0.6666666666666666, \"#ed7953\"], [0.7777777777777778, \"#fb9f3a\"], [0.8888888888888888, \"#fdca26\"], [1.0, \"#f0f921\"]], \"type\": \"histogram2d\"}], \"histogram2dcontour\": [{\"colorbar\": {\"outlinewidth\": 0, \"ticks\": \"\"}, \"colorscale\": [[0.0, \"#0d0887\"], [0.1111111111111111, \"#46039f\"], [0.2222222222222222, \"#7201a8\"], [0.3333333333333333, \"#9c179e\"], [0.4444444444444444, \"#bd3786\"], [0.5555555555555556, \"#d8576b\"], [0.6666666666666666, \"#ed7953\"], [0.7777777777777778, \"#fb9f3a\"], [0.8888888888888888, \"#fdca26\"], [1.0, \"#f0f921\"]], \"type\": \"histogram2dcontour\"}], \"mesh3d\": [{\"colorbar\": {\"outlinewidth\": 0, \"ticks\": \"\"}, \"type\": \"mesh3d\"}], \"parcoords\": [{\"line\": {\"colorbar\": {\"outlinewidth\": 0, \"ticks\": \"\"}}, \"type\": \"parcoords\"}], \"pie\": [{\"automargin\": true, \"type\": \"pie\"}], \"scatter\": [{\"marker\": {\"colorbar\": {\"outlinewidth\": 0, \"ticks\": \"\"}}, \"type\": \"scatter\"}], \"scatter3d\": [{\"line\": {\"colorbar\": {\"outlinewidth\": 0, \"ticks\": \"\"}}, \"marker\": {\"colorbar\": {\"outlinewidth\": 0, \"ticks\": \"\"}}, \"type\": \"scatter3d\"}], \"scattercarpet\": [{\"marker\": {\"colorbar\": {\"outlinewidth\": 0, \"ticks\": \"\"}}, \"type\": \"scattercarpet\"}], \"scattergeo\": [{\"marker\": {\"colorbar\": {\"outlinewidth\": 0, \"ticks\": \"\"}}, \"type\": \"scattergeo\"}], \"scattergl\": [{\"marker\": {\"colorbar\": {\"outlinewidth\": 0, \"ticks\": \"\"}}, \"type\": \"scattergl\"}], \"scattermapbox\": [{\"marker\": {\"colorbar\": {\"outlinewidth\": 0, \"ticks\": \"\"}}, \"type\": \"scattermapbox\"}], \"scatterpolar\": [{\"marker\": {\"colorbar\": {\"outlinewidth\": 0, \"ticks\": \"\"}}, \"type\": \"scatterpolar\"}], \"scatterpolargl\": [{\"marker\": {\"colorbar\": {\"outlinewidth\": 0, \"ticks\": \"\"}}, \"type\": \"scatterpolargl\"}], \"scatterternary\": [{\"marker\": {\"colorbar\": {\"outlinewidth\": 0, \"ticks\": \"\"}}, \"type\": \"scatterternary\"}], \"surface\": [{\"colorbar\": {\"outlinewidth\": 0, \"ticks\": \"\"}, \"colorscale\": [[0.0, \"#0d0887\"], [0.1111111111111111, \"#46039f\"], [0.2222222222222222, \"#7201a8\"], [0.3333333333333333, \"#9c179e\"], [0.4444444444444444, \"#bd3786\"], [0.5555555555555556, \"#d8576b\"], [0.6666666666666666, \"#ed7953\"], [0.7777777777777778, \"#fb9f3a\"], [0.8888888888888888, \"#fdca26\"], [1.0, \"#f0f921\"]], \"type\": \"surface\"}], \"table\": [{\"cells\": {\"fill\": {\"color\": \"#EBF0F8\"}, \"line\": {\"color\": \"white\"}}, \"header\": {\"fill\": {\"color\": \"#C8D4E3\"}, \"line\": {\"color\": \"white\"}}, \"type\": \"table\"}]}, \"layout\": {\"annotationdefaults\": {\"arrowcolor\": \"#2a3f5f\", \"arrowhead\": 0, \"arrowwidth\": 1}, \"autotypenumbers\": \"strict\", \"coloraxis\": {\"colorbar\": {\"outlinewidth\": 0, \"ticks\": \"\"}}, \"colorscale\": {\"diverging\": [[0, \"#8e0152\"], [0.1, \"#c51b7d\"], [0.2, \"#de77ae\"], [0.3, \"#f1b6da\"], [0.4, \"#fde0ef\"], [0.5, \"#f7f7f7\"], [0.6, \"#e6f5d0\"], [0.7, \"#b8e186\"], [0.8, \"#7fbc41\"], [0.9, \"#4d9221\"], [1, \"#276419\"]], \"sequential\": [[0.0, \"#0d0887\"], [0.1111111111111111, \"#46039f\"], [0.2222222222222222, \"#7201a8\"], [0.3333333333333333, \"#9c179e\"], [0.4444444444444444, \"#bd3786\"], [0.5555555555555556, \"#d8576b\"], [0.6666666666666666, \"#ed7953\"], [0.7777777777777778, \"#fb9f3a\"], [0.8888888888888888, \"#fdca26\"], [1.0, \"#f0f921\"]], \"sequentialminus\": [[0.0, \"#0d0887\"], [0.1111111111111111, \"#46039f\"], [0.2222222222222222, \"#7201a8\"], [0.3333333333333333, \"#9c179e\"], [0.4444444444444444, \"#bd3786\"], [0.5555555555555556, \"#d8576b\"], [0.6666666666666666, \"#ed7953\"], [0.7777777777777778, \"#fb9f3a\"], [0.8888888888888888, \"#fdca26\"], [1.0, \"#f0f921\"]]}, \"colorway\": [\"#636efa\", \"#EF553B\", \"#00cc96\", \"#ab63fa\", \"#FFA15A\", \"#19d3f3\", \"#FF6692\", \"#B6E880\", \"#FF97FF\", \"#FECB52\"], \"font\": {\"color\": \"#2a3f5f\"}, \"geo\": {\"bgcolor\": \"white\", \"lakecolor\": \"white\", \"landcolor\": \"#E5ECF6\", \"showlakes\": true, \"showland\": true, \"subunitcolor\": \"white\"}, \"hoverlabel\": {\"align\": \"left\"}, \"hovermode\": \"closest\", \"mapbox\": {\"style\": \"light\"}, \"paper_bgcolor\": \"white\", \"plot_bgcolor\": \"#E5ECF6\", \"polar\": {\"angularaxis\": {\"gridcolor\": \"white\", \"linecolor\": \"white\", \"ticks\": \"\"}, \"bgcolor\": \"#E5ECF6\", \"radialaxis\": {\"gridcolor\": \"white\", \"linecolor\": \"white\", \"ticks\": \"\"}}, \"scene\": {\"xaxis\": {\"backgroundcolor\": \"#E5ECF6\", \"gridcolor\": \"white\", \"gridwidth\": 2, \"linecolor\": \"white\", \"showbackground\": true, \"ticks\": \"\", \"zerolinecolor\": \"white\"}, \"yaxis\": {\"backgroundcolor\": \"#E5ECF6\", \"gridcolor\": \"white\", \"gridwidth\": 2, \"linecolor\": \"white\", \"showbackground\": true, \"ticks\": \"\", \"zerolinecolor\": \"white\"}, \"zaxis\": {\"backgroundcolor\": \"#E5ECF6\", \"gridcolor\": \"white\", \"gridwidth\": 2, \"linecolor\": \"white\", \"showbackground\": true, \"ticks\": \"\", \"zerolinecolor\": \"white\"}}, \"shapedefaults\": {\"line\": {\"color\": \"#2a3f5f\"}}, \"ternary\": {\"aaxis\": {\"gridcolor\": \"white\", \"linecolor\": \"white\", \"ticks\": \"\"}, \"baxis\": {\"gridcolor\": \"white\", \"linecolor\": \"white\", \"ticks\": \"\"}, \"bgcolor\": \"#E5ECF6\", \"caxis\": {\"gridcolor\": \"white\", \"linecolor\": \"white\", \"ticks\": \"\"}}, \"title\": {\"x\": 0.05}, \"xaxis\": {\"automargin\": true, \"gridcolor\": \"white\", \"linecolor\": \"white\", \"ticks\": \"\", \"title\": {\"standoff\": 15}, \"zerolinecolor\": \"white\", \"zerolinewidth\": 2}, \"yaxis\": {\"automargin\": true, \"gridcolor\": \"white\", \"linecolor\": \"white\", \"ticks\": \"\", \"title\": {\"standoff\": 15}, \"zerolinecolor\": \"white\", \"zerolinewidth\": 2}}}},                        {\"responsive\": true}                    ).then(function(){\n",
       "                            \n",
       "var gd = document.getElementById('4e6b0480-a609-4e08-b495-02b7096db82d');\n",
       "var x = new MutationObserver(function (mutations, observer) {{\n",
       "        var display = window.getComputedStyle(gd).display;\n",
       "        if (!display || display === 'none') {{\n",
       "            console.log([gd, 'removed!']);\n",
       "            Plotly.purge(gd);\n",
       "            observer.disconnect();\n",
       "        }}\n",
       "}});\n",
       "\n",
       "// Listen for the removal of the full notebook cells\n",
       "var notebookContainer = gd.closest('#notebook-container');\n",
       "if (notebookContainer) {{\n",
       "    x.observe(notebookContainer, {childList: true});\n",
       "}}\n",
       "\n",
       "// Listen for the clearing of the current output cell\n",
       "var outputEl = gd.closest('.output');\n",
       "if (outputEl) {{\n",
       "    x.observe(outputEl, {childList: true});\n",
       "}}\n",
       "\n",
       "                        })                };                });            </script>        </div>"
      ]
     },
     "metadata": {},
     "output_type": "display_data"
    }
   ],
   "source": [
    "categories = ['Position','90s','No. of Tackels','Tckls, team won possession',\n",
    "                 'Tackles in def 3rd','Tackles in mid 3rd','Tackles in att 3rd',\n",
    "                 'Number of dribblers Tackled','Dribbles Past + Tackles','Dribbled past by','No. pressure Applied',\n",
    "                 'Pressure Success','Pressure Success %','Pressure Def 3rd','Pressure Mid 3rd','Pressure Att 3rd',\n",
    "                 'No. of Blocks','Shot Blocked','Pass Saved','Interceptions',\n",
    "                 'Tackles+Interceptions','Clearance','Errors']\n",
    "\n",
    "\n",
    "\n",
    "fig = go.Figure()\n",
    "r = []\n",
    "for i in range(7):\n",
    "    \n",
    "    data = np.array(value[1].iloc[i])\n",
    "    \n",
    "    fig.add_trace(go.Scatterpolar(\n",
    "      r=data,     \n",
    "      theta=categories,\n",
    "      fill='toself',\n",
    "      name=value[1]['Player'].iloc[i]\n",
    "    ))\n",
    "\n",
    "\n",
    "fig.update_layout(\n",
    "  \n",
    "  showlegend=True\n",
    ")\n",
    "\n",
    "fig.show()"
   ]
  },
  {
   "cell_type": "code",
   "execution_count": null,
   "metadata": {},
   "outputs": [],
   "source": []
  }
 ],
 "metadata": {
  "kernelspec": {
   "display_name": "Python 3",
   "language": "python",
   "name": "python3"
  },
  "language_info": {
   "codemirror_mode": {
    "name": "ipython",
    "version": 3
   },
   "file_extension": ".py",
   "mimetype": "text/x-python",
   "name": "python",
   "nbconvert_exporter": "python",
   "pygments_lexer": "ipython3",
   "version": "3.8.5"
  }
 },
 "nbformat": 4,
 "nbformat_minor": 4
}
